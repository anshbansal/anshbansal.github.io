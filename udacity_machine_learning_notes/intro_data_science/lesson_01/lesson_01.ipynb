{
 "cells": [
  {
   "cell_type": "markdown",
   "metadata": {
    "collapsed": true
   },
   "source": [
    "Course Description [here](https://www.udacity.com/course/intro-to-data-science--ud359)\n",
    "\n",
    "# Lesson 01 - Intro to Data Science\n",
    "\n",
    "![](https://static1.squarespace.com/static/5150aec6e4b0e340ec52710a/t/51525c33e4b0b3e0d10f77ab/1364352052403/Data_Science_VD.png?format=1000w)\n",
    "\n",
    "Simpson's Paradox\n",
    "- [Data](http://www.calvin.edu/~stob/data/Berkeley.csv)\n",
    "- [Analysis](http://vudlab.com/simpsons/)\n",
    "- [Explanation](https://youtu.be/fDcjhAKuhqQ?t=1519)\n",
    "\n",
    "\n",
    "Video 10 Continue from"
   ]
  }
 ],
 "metadata": {
  "anaconda-cloud": {},
  "kernelspec": {
   "display_name": "Python [default]",
   "language": "python",
   "name": "python3"
  },
  "language_info": {
   "codemirror_mode": {
    "name": "ipython",
    "version": 3
   },
   "file_extension": ".py",
   "mimetype": "text/x-python",
   "name": "python",
   "nbconvert_exporter": "python",
   "pygments_lexer": "ipython3",
   "version": "3.5.2"
  }
 },
 "nbformat": 4,
 "nbformat_minor": 0
}
