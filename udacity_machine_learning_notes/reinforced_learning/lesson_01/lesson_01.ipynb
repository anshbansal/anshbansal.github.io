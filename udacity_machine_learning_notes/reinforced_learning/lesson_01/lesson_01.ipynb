{
 "cells": [
  {
   "cell_type": "markdown",
   "metadata": {
    "collapsed": true
   },
   "source": [
    "# Lesson 01 - Smoov & Curly's Bogus Journey\n",
    "\n",
    "## Decision making and Reinforcement learning\n",
    "\n",
    "We have world with following rules\n",
    "- Green is goal\n",
    "- red is death (restart from beginning)\n",
    "- black is wall (cannot go there)\n",
    "- you can go Up, Left, Right, Down\n",
    "- At the edges you cannot go anywhere\n",
    "\n",
    "![](world1.png)\n",
    "\n",
    "Shortest distance from start to end -> U, U, R, R, R\n",
    "\n",
    "Now let's change the rules\n",
    "- When you do any action then\n",
    "    - 80% of it does what we want\n",
    "    - 20% of times it goes at right angles\n",
    "    \n",
    "Now the reliability of this sequence taking to that location given we chose U, U, R, R, R would be \n",
    "```\n",
    "= P(U, U, R, R, R given U, U, R, R, R) + P(R, R, U, U, R given U, U, R, R, R)\n",
    "= (.8 ** 5) + (.1 ** 4 + .8)\n",
    "```\n",
    "\n",
    "In a perfect world nothing goes wrong (the first case) but when random errors may occur then we have to do something\n",
    "- execute them and once in a while (in the middle of the path) check whether we have drifted away and find new path from that location\n",
    "- some way to incorporate all these uncertainities so we don't have to re-think what to do"
   ]
  },
  {
   "cell_type": "markdown",
   "metadata": {},
   "source": [
    "Video 08"
   ]
  }
 ],
 "metadata": {
  "anaconda-cloud": {},
  "kernelspec": {
   "display_name": "Python [conda root]",
   "language": "python",
   "name": "conda-root-py"
  },
  "language_info": {
   "codemirror_mode": {
    "name": "ipython",
    "version": 3
   },
   "file_extension": ".py",
   "mimetype": "text/x-python",
   "name": "python",
   "nbconvert_exporter": "python",
   "pygments_lexer": "ipython3",
   "version": "3.5.2"
  }
 },
 "nbformat": 4,
 "nbformat_minor": 0
}
