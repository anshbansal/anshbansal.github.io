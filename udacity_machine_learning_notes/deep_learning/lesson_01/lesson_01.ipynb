{
 "cells": [
  {
   "cell_type": "markdown",
   "metadata": {
    "collapsed": true
   },
   "source": [
    "# Lesson 01 - From Machine Learning to Deep Learning\n",
    "\n",
    "## Training Logistic classifier\n",
    "- Is a Linear Classifier\n",
    "\n",
    "```\n",
    "W X + b = Y\n",
    "```\n",
    "- W, X are matrices\n",
    "- X is input\n",
    "- W (Weights) and b (bias) are found by training the model\n",
    "- Y vector \n",
    "    - contains output prediction score for each possible output\n",
    "    - also known as Logits for Logistic Regression\n",
    "    - turned into probabilities (by using SoftMax function)"
   ]
  },
  {
   "cell_type": "code",
   "execution_count": 1,
   "metadata": {
    "collapsed": true
   },
   "outputs": [],
   "source": [
    "scores = [3.0, 1.0, 0.2]"
   ]
  },
  {
   "cell_type": "code",
   "execution_count": 22,
   "metadata": {
    "collapsed": true
   },
   "outputs": [],
   "source": [
    "import numpy as np\n",
    "\n",
    "def softmax(x):\n",
    "    return np.exp(x) / np.sum(np.exp(x), axis=0)"
   ]
  },
  {
   "cell_type": "code",
   "execution_count": 24,
   "metadata": {
    "collapsed": false
   },
   "outputs": [
    {
     "data": {
      "text/plain": [
       "(3, 80)"
      ]
     },
     "execution_count": 24,
     "metadata": {},
     "output_type": "execute_result"
    }
   ],
   "source": [
    "import matplotlib.pyplot as plt\n",
    "\n",
    "x = np.arange(-2.0, 6.0, 0.1)\n",
    "scores = np.vstack([x, np.ones_like(x), 0.2 * np.ones_like(x)])\n",
    "scores.shape"
   ]
  },
  {
   "cell_type": "code",
   "execution_count": 26,
   "metadata": {
    "collapsed": false
   },
   "outputs": [
    {
     "data": {
      "image/png": "[encoded data removed]",
      "text/plain": [
       "<matplotlib.figure.Figure at 0x7f5514c00278>"
      ]
     },
     "metadata": {},
     "output_type": "display_data"
    }
   ],
   "source": [
    "plt.plot(x, softmax(scores).T, linewidth = 2)\n",
    "plt.legend(['x', '1', '0.2'])\n",
    "plt.show()"
   ]
  },
  {
   "cell_type": "markdown",
   "metadata": {},
   "source": [
    "If we increase the magnitude of scores then classifier becomes more confident but if we decrease the size of the outputs then the classifier becomes less confident\n",
    "\n",
    "![](effect_of_magnitude_on_classifier.png)\n",
    "\n",
    "## One Hot encoding\n",
    "- Each label would be represented by a vector which is as long as the number of labels and has value 1.0 for the label and 0 for other labels\n",
    "- Works not well when we have tens of thousands of labels or more. We have lots of zeros at that time\n",
    "- We can find how well we are doing by simply comparing 2 vectors\n",
    "![](cross_entropy.png)\n",
    "\n",
    "Putting all pieces together we have the following Multinomial Logistic Classification\n",
    "![](multinomial_logistic_classification.png)\n",
    "\n",
    "```\n",
    "D(S(W * X + b), L)\n",
    "```"
   ]
  },
  {
   "cell_type": "markdown",
   "metadata": {},
   "source": [
    "## Minimizing Cross Entropy\n",
    "- Now how do we find the W and b so that our classifier works i.e. D(A, a) is less but D(A, b) is high\n",
    "- We can try and minimize the loss when summed over all training data\n",
    "\\begin{align}\n",
    "L = (1/ N) *  \\sum_{i} D(S(WX_{i} + b), L_{i})\n",
    "\\end{align}\n",
    "\n",
    "- We need to calculate the derivative w.r.t to parameters and follow derivative to solution. This is called gradient descent\n",
    "\n",
    "## Numerical stability\n",
    "- You have to worry abut calculating values that are too big or too small whenever doing numerical computation\n"
   ]
  },
  {
   "cell_type": "code",
   "execution_count": 9,
   "metadata": {
    "collapsed": false
   },
   "outputs": [
    {
     "data": {
      "text/plain": [
       "0.95367431640625"
      ]
     },
     "execution_count": 9,
     "metadata": {},
     "output_type": "execute_result"
    }
   ],
   "source": [
    "a = 10 ** 9\n",
    "for i in range(10 ** 6):\n",
    "    a += 10 ** (-6)\n",
    "    \n",
    "a - 10 ** 9"
   ]
  },
  {
   "cell_type": "markdown",
   "metadata": {},
   "source": [
    "- For numerical stability the values involved in our Loss function L should not get too big or too small.\n",
    "- A good principle is\n",
    "    - 0 mean\n",
    "    - equal variance\n",
    "![](mean_variance.png)\n",
    "\n",
    "- For images it is simple to normalize it by \n",
    "\\begin{align}\n",
    "(R/G/B - 128) / 128\n",
    "\\end{align}\n",
    "\n",
    "- The weights and bias should also be good enough for gradient descent to proceed\n",
    "- Many many but a simple way is to take from gaussian distribution with mean 0 and small variance. Higher variance would mean that the our model is opinioninated in the beginning which we don't want. Our model should be uncertain in the beginning and learn from data"
   ]
  },
  {
   "cell_type": "markdown",
   "metadata": {},
   "source": [
    "- Validation sets are needed because as we iterate we are exposing the test set to classifier through our decisions\n",
    "- Using 30000 examples as validation set is good. But if that is a lot of data then we could possibly use cross validation\n",
    "\n",
    "- Logistic Regression's biggest problem is that it is very difficult to scale\n",
    "    - Depends on all of data\n",
    "    - Usually computing the gradient uses 3 times the compute of Loss function\n",
    "    - In gradient descent we iterate\n",
    "    - So instead of using all of data we use a small random sample and iterate more. This is called Stochastic Gradient Descent (SGD)\n",
    "    - SGD is important because it scales well with big data and big models\n",
    "    ![](sgd.png)"
   ]
  },
  {
   "cell_type": "markdown",
   "metadata": {},
   "source": [
    "## Helping SGD\n",
    "- Momentum\n",
    "    - Instead of using the current direction we use the knowledge of the general direction in which we are going to decide the current direction in which we want to go\n",
    "    - ![](momentum.png)\n",
    "- Learning Rate average\n",
    "    - Learing rate should be decreased over time"
   ]
  }
 ],
 "metadata": {
  "anaconda-cloud": {},
  "kernelspec": {
   "display_name": "Python [conda root]",
   "language": "python",
   "name": "conda-root-py"
  },
  "language_info": {
   "codemirror_mode": {
    "name": "ipython",
    "version": 3
   },
   "file_extension": ".py",
   "mimetype": "text/x-python",
   "name": "python",
   "nbconvert_exporter": "python",
   "pygments_lexer": "ipython3",
   "version": "3.5.2"
  }
 },
 "nbformat": 4,
 "nbformat_minor": 0
}
