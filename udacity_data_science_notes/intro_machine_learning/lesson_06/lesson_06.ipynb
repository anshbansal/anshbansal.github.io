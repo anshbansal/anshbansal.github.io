{
 "cells": [
  {
   "cell_type": "code",
   "execution_count": 1,
   "metadata": {
    "collapsed": true
   },
   "outputs": [],
   "source": [
    "import sys\n",
    "projects_home = '/home/aseem/projects/ud120-projects'\n",
    "sys.path.append(projects_home + '/choose_your_own')\n",
    "sys.path.append(\"/home/aseem/projects/website/udacity_data_science_notes/intro_machine_learning\")"
   ]
  },
  {
   "cell_type": "markdown",
   "metadata": {
    "collapsed": true
   },
   "source": [
    "# Lesson 6 - Regression\n",
    "\n",
    "## Continuous Supervised learning\n",
    "- The output can be any number of values\n",
    "- When dealing with numbers which don't really have a order then that feature is discrete else continuous\n",
    "\n",
    "## Slope and Intercept\n",
    "\n",
    "![](slope_and_intercept.png)"
   ]
  },
  {
   "cell_type": "code",
   "execution_count": 2,
   "metadata": {
    "collapsed": false,
    "scrolled": true
   },
   "outputs": [
    {
     "data": {
      "image/png": "[encoded data removed]",
      "text/plain": [
       "<matplotlib.figure.Figure at 0x7fbfd44fe0d0>"
      ]
     },
     "metadata": {},
     "output_type": "display_data"
    }
   ],
   "source": [
    "%matplotlib inline\n",
    "\n",
    "import random\n",
    "import numpy\n",
    "import matplotlib\n",
    "import pickle\n",
    "\n",
    "import matplotlib.pyplot as plt\n",
    "from sklearn.cross_validation import train_test_split\n",
    "from sklearn.linear_model import LinearRegression\n",
    "\n",
    "def get_data():\n",
    "    ages = pickle.load( open(projects_home + \"/outliers/practice_outliers_ages.pkl\", \"r\") )\n",
    "    net_worths = pickle.load( open(projects_home + \"/outliers/practice_outliers_net_worths.pkl\", \"r\") )\n",
    "\n",
    "    ages       = numpy.reshape( numpy.array(ages), (len(ages), 1))\n",
    "    net_worths = numpy.reshape( numpy.array(net_worths), (len(net_worths), 1))\n",
    "\n",
    "    return train_test_split(ages, net_worths, test_size=0.1, random_state=42)\n",
    "\n",
    "\n",
    "def show_plot(reg):\n",
    "    plt.clf()\n",
    "    plt.scatter(ages_train, net_worths_train, color=\"b\", label=\"train data\")\n",
    "    plt.scatter(ages_test, net_worths_test, color=\"r\", label=\"test data\")\n",
    "    plt.plot(ages_test, reg.predict(ages_test), color=\"black\")\n",
    "    plt.legend(loc=2)\n",
    "    plt.xlabel(\"ages\")\n",
    "    plt.ylabel(\"net worths\")\n",
    "    plt.show()\n",
    "\n",
    "    \n",
    "def ageNetWorthData():\n",
    "\n",
    "    random.seed(42)\n",
    "    numpy.random.seed(42)\n",
    "\n",
    "    ages = []\n",
    "    for ii in range(100):\n",
    "        ages.append( random.randint(20,65) )\n",
    "    net_worths = [ii * 6.25 + numpy.random.normal(scale=40.) for ii in ages]\n",
    "    \n",
    "    ### need massage list into a 2d numpy array to get it to work in LinearRegression\n",
    "    ages       = numpy.reshape( numpy.array(ages), (len(ages), 1))\n",
    "    net_worths = numpy.reshape( numpy.array(net_worths), (len(net_worths), 1))\n",
    "\n",
    "    from sklearn.cross_validation import train_test_split\n",
    "    ages_train, ages_test, net_worths_train, net_worths_test = train_test_split(ages, net_worths)\n",
    "\n",
    "    return ages_train, ages_test, net_worths_train, net_worths_test\n",
    "\n",
    "ages_train, ages_test, net_worths_train, net_worths_test = ageNetWorthData()\n",
    "\n",
    "reg = LinearRegression()\n",
    "reg.fit(ages_train, net_worths_train)\n",
    "show_plot(reg)"
   ]
  },
  {
   "cell_type": "code",
   "execution_count": 3,
   "metadata": {
    "collapsed": false,
    "scrolled": true
   },
   "outputs": [
    {
     "name": "stdout",
     "output_type": "stream",
     "text": [
      "net worth prediction:  [[ 160.43205453]]\n",
      "slope:  [[ 6.47354955]]\n",
      "intercept:  [-14.35378331]\n",
      "\n",
      " stats on test dataset\n",
      "r-squared score:  0.812365729231\n",
      "\n",
      " stats on train dataset\n",
      "r-squared score:  0.874588235822\n"
     ]
    },
    {
     "name": "stderr",
     "output_type": "stream",
     "text": [
      "/home/aseem/anaconda2/lib/python2.7/site-packages/sklearn/utils/validation.py:386: DeprecationWarning: Passing 1d arrays as data is deprecated in 0.17 and willraise ValueError in 0.19. Reshape your data either using X.reshape(-1, 1) if your data has a single feature or X.reshape(1, -1) if it contains a single sample.\n",
      "  DeprecationWarning)\n"
     ]
    }
   ],
   "source": [
    "print \"net worth prediction: \", reg.predict([27])\n",
    "print \"slope: \", reg.coef_\n",
    "print \"intercept: \", reg.intercept_\n",
    "\n",
    "print \"\\n stats on test dataset\"\n",
    "print \"r-squared score: \", reg.score(ages_test, net_worths_test)\n",
    "\n",
    "print \"\\n stats on train dataset\"\n",
    "print \"r-squared score: \", reg.score(ages_train, net_worths_train)"
   ]
  },
  {
   "cell_type": "code",
   "execution_count": 4,
   "metadata": {
    "collapsed": false
   },
   "outputs": [],
   "source": [
    "### get Katie's net worth (she's 27)\n",
    "### sklearn predictions are returned in an array, so you'll want to index into\n",
    "### the output to get what you want, e.g. net_worth = predict([[27]])[0][0] (not\n",
    "### exact syntax, the point is the [0] at the end). In addition, make sure the\n",
    "### argument to your prediction function is in the expected format - if you get\n",
    "### a warning about needing a 2d array for your data, a list of lists will be\n",
    "### interpreted by sklearn as such (e.g. [[27]]).\n",
    "\n",
    "prediction = reg.predict([[27]])\n",
    "\n",
    "km_net_worth = prediction[0][0]\n",
    "\n",
    "### get the slope\n",
    "### again, you'll get a 2-D array, so stick the [0][0] at the end\n",
    "slope = reg.coef_[0][0] ### fill in the line of code to get the right value\n",
    "\n",
    "### get the intercept\n",
    "### here you get a 1-D array, so stick [0] on the end to access\n",
    "### the info we want\n",
    "intercept = reg.intercept_[0] ### fill in the line of code to get the right value\n",
    "\n",
    "\n",
    "### get the score on test data\n",
    "test_score = reg.score(ages_test, net_worths_test) ### fill in the line of code to get the right value\n",
    "\n",
    "\n",
    "### get the score on the training data\n",
    "training_score = reg.score(ages_train, net_worths_train) ### fill in the line of code to get the right value"
   ]
  },
  {
   "cell_type": "markdown",
   "metadata": {},
   "source": [
    "## Linear Regression Errors\n",
    "\n",
    "- error = (actual value) - (predicted value)\n",
    "- the best regression is the one that minimizes the sum of squared errors\n",
    "- several algorithms\n",
    "    - ordinary least squares (linear regression used in sklearn)\n",
    "    - gradient descent\n",
    "\n",
    "![](minimize_square.png)\n",
    "![](sse.png)\n",
    "\n",
    "More number of data points may lead to a larger sum of squares and hence we may consider that the regression with lesser data points is better. Hence sum of sqaures is not perfect"
   ]
  },
  {
   "cell_type": "markdown",
   "metadata": {},
   "source": [
    "## R Squared Metric for Regression\n",
    "\n",
    "r sqaured metric explains \"how much of my change in ouput is explained by the change in my input\"\n",
    "\n",
    "0.0 < r ^ 2 < 1.0\n",
    "\n",
    "less means that the regression is not doing a very good job of capturing the trend in the data. \n",
    "\n",
    "It is independent of number of data points generally. This is more reliable than sum of squared errors if number of data points can change\n",
    "\n",
    "## Visualizing - What data makes a good regression\n",
    "- there is some data which is not good\n",
    "- there is some data which is just going to be difficult to fit with a regression\n",
    "\n",
    "![](visual.png)"
   ]
  },
  {
   "cell_type": "markdown",
   "metadata": {},
   "source": [
    "## Comparing classification and regression\n",
    "\n",
    "![](classification_and_regression.png)"
   ]
  },
  {
   "cell_type": "markdown",
   "metadata": {},
   "source": [
    "## Multi variate regression\n",
    "- when we do predictions based on multiple input variable\n",
    "- e.g. we calculate net worth based on IQ, age and education"
   ]
  }
 ],
 "metadata": {
  "kernelspec": {
   "display_name": "Python 2",
   "language": "python",
   "name": "python2"
  },
  "language_info": {
   "codemirror_mode": {
    "name": "ipython",
    "version": 2
   },
   "file_extension": ".py",
   "mimetype": "text/x-python",
   "name": "python",
   "nbconvert_exporter": "python",
   "pygments_lexer": "ipython2",
   "version": "2.7.12"
  }
 },
 "nbformat": 4,
 "nbformat_minor": 0
}
