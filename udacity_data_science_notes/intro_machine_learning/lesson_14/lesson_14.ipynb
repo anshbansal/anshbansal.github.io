{
 "cells": [
  {
   "cell_type": "markdown",
   "metadata": {
    "collapsed": true
   },
   "source": [
    "# Lesson 14 - Evaluation Metrics\n",
    "- Can tell you whether your machine learning algorithms are getting better and how well you are doing overall.\n",
    "- we have been using accuracy\n",
    "\n",
    "accuracy = (no. of items in a class labeled correctly) / (all items in that class)\n",
    "\n",
    "## shortcoming of accuracy for POI ID?\n",
    "- not ideal for skewed cases. say we have most of the people falling under one class and only a few falling in the other class\n",
    "- may want to err on the side of guessing inoccent. say we are looking at who should we throw into jail then we want to be sure that the classification is correct and when in doubt we err on the side of guessing inoccent\n",
    "- may want to err on the side of guessing guilty. say we want to cast a wide net and being identified just means a higher level of scrutiny\n",
    "\n",
    "\n",
    "## Picking the most Suitable Metric\n",
    "- We will discuss some other metrics that may be specific to what you want to be doing with your machine learning algorithm\n",
    "- sometimes we want to favour one type of error over other type. Say we are detecting cancer then we want to err on the side of detecting cancer where there is none rather than ignoring it as ignoring a possibly valid cancer can be disastrous.\n",
    "\n",
    "## Confusion Matrix\n",
    "\n",
    "If we classify correctly then we have a situation like this\n",
    "\n",
    "![](confusion1.png)\n",
    "\n",
    "If we classify incorrectly then we have a situation like this\n",
    "\n",
    "![](confusion2.png)\n",
    "\n",
    "Making complete confusion matrix we will have something like this\n",
    "\n",
    "![](confusion3.png)\n",
    "\n",
    "Based on our requirements we can shift the line using the parameters of the algorithm\n",
    "\n",
    "![](confusion4.png)"
   ]
  },
  {
   "cell_type": "markdown",
   "metadata": {},
   "source": [
    "![](eigen1.png)\n",
    "\n",
    "## Precision and Recall\n",
    "- Recall => ability to predict as A when it was actually A\n",
    "- precision => if we predict A then how likely that it is A\n",
    "\n",
    "`\n",
    "recall = (true positives) / (true positives + false negatives)\n",
    "precision = (true positives) / (true positives + false positives)\n",
    "`"
   ]
  }
 ],
 "metadata": {
  "kernelspec": {
   "display_name": "Python 2",
   "language": "python",
   "name": "python2"
  },
  "language_info": {
   "codemirror_mode": {
    "name": "ipython",
    "version": 2
   },
   "file_extension": ".py",
   "mimetype": "text/x-python",
   "name": "python",
   "nbconvert_exporter": "python",
   "pygments_lexer": "ipython2",
   "version": "2.7.11"
  }
 },
 "nbformat": 4,
 "nbformat_minor": 0
}
