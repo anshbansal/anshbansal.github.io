{
 "cells": [
  {
   "cell_type": "markdown",
   "metadata": {
    "collapsed": true
   },
   "source": [
    "# Lesson 07 - Outliers\n",
    "\n",
    "## What causes outliers?\n",
    "- Sensor malfunctions\n",
    "- data entry errors\n",
    "- freak events (events that happen very rarely but do happen)\n",
    "\n",
    "Some outliers need to be ignored. Sensor problem and data entry can be ignored in robotics but in some fields the freak events are very important like fraud detection."
   ]
  },
  {
   "cell_type": "markdown",
   "metadata": {},
   "source": [
    "## Outlier Detection\n",
    "- Train your regression\n",
    "- Remove points with largest residual errors\n",
    "- Train again"
   ]
  },
  {
   "cell_type": "markdown",
   "metadata": {},
   "source": [
    "## Residual Error\n",
    "- The error left after fitting the regression"
   ]
  }
 ],
 "metadata": {
  "kernelspec": {
   "display_name": "Python 2",
   "language": "python",
   "name": "python2"
  },
  "language_info": {
   "codemirror_mode": {
    "name": "ipython",
    "version": 2
   },
   "file_extension": ".py",
   "mimetype": "text/x-python",
   "name": "python",
   "nbconvert_exporter": "python",
   "pygments_lexer": "ipython2",
   "version": "2.7.12"
  }
 },
 "nbformat": 4,
 "nbformat_minor": 0
}
