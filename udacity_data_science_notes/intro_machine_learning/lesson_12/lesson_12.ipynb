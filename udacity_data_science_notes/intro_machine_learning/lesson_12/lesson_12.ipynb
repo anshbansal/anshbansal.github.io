{
 "cells": [
  {
   "cell_type": "markdown",
   "metadata": {
    "collapsed": true
   },
   "source": [
    "# Lesson 12 - Principal Component Analysis\n",
    "\n",
    "What is the dimensionality of the data - 1 or 2?\n",
    "\n",
    "![](data1.png)\n",
    "![](data2.png)\n",
    "![](data3.png)\n",
    "![](data4.png)\n",
    "![](data5.png)\n",
    "\n",
    "Although this is not perfectly 1 dimensional for the sake of understanding the data we are considering the slight deviations as noise."
   ]
  },
  {
   "cell_type": "markdown",
   "metadata": {},
   "source": [
    "![](data6.png)\n",
    "\n",
    "PCA specializes in rotating the coordinate system not curving it.\n",
    "\n",
    "![](data7.png)\n",
    "\n",
    "The best we could do is put the coordinate system like above but there is very high deviations. Not low enough to call them one dimensional. So the above will be considered as 2 dimensional.\n",
    "\n",
    "\n",
    "## PCA for Data Transformation\n",
    "PCA moves the origin to the center of the data. \n",
    "It moves X axis in the direction of principal axis of variation where it sees most variation.\n",
    "PCA finds for us these axis and also tell us how important these axis are.\n",
    "\n",
    "![](data8.png)\n",
    "\n",
    "PCA returns the axis values and importance for each axes."
   ]
  },
  {
   "cell_type": "markdown",
   "metadata": {},
   "source": [
    "## Measurable vs. Latent Features\n",
    "\n",
    "Ques: given the features of a house, what is its price?\n",
    "\n",
    "### Measurable Features\n",
    "- square footage\n",
    "- number of rooms\n",
    "- school ranking\n",
    "- neighborhood safety\n",
    "\n",
    "### Latent Features\n",
    "\n",
    "The features that you cannot measure directly but are driving forces for the measurable features\n",
    "\n",
    "- size\n",
    "- neighborhood\n",
    "\n",
    "## Preserving Information - Composite features\n",
    "- many features, but I hypothesize a smaller number of features actually driving the patterns\n",
    "- try making a composite feature that more directly probes the underlying phenomenon\n",
    "\n",
    "- we try to come up with a direction in the data that we can project our data on to while losing a minimal amount of information\n",
    "\n",
    "![](projection.png)\n",
    "![](principal_component.png)"
   ]
  },
  {
   "cell_type": "markdown",
   "metadata": {},
   "source": [
    "## Review/Definition of PCA\n",
    "- systemaized way to transform input features into principal components\n",
    "- use principal components (PCs) as new features\n",
    "- PCs are directions in data that maximize variance (minimize information loss) when you project/compress down onto them\n",
    "- more variance of data along a PC, higher the PC is ranked\n",
    "- PCs are independent of each other\n",
    "- max. number of principal components = no. of input features\n",
    "\n",
    "## When to use PCA\n",
    "- need to find the latent features driving the patterns in data\n",
    "- dimensionality reduction\n",
    "    - visualize high dimensional data\n",
    "    - reduce noise\n",
    "    - make other algorithms (regression, classification) work better because of fewer inputs. Higher dimensionality with complex algorithm can cause overfitting\n",
    "    \n",
    "## PCA for facial recognition\n",
    "\n",
    "### What makes facial recognition in pictures good for PCA?\n",
    "- pictures of faces generally have high input dimensionality (many pixels)\n",
    "- faces have general patterns that could be captured in smaller number of dimensions (two eyes on top, mouth/chin on bottom etc.)\n",
    "\n",
    "- PCA is also known as eigenfaces when applied to facial recognition\n",
    "\n",
    "## Selecting a number of principal components\n",
    "train on different number of PCs and see how accuracy responds - cut off when it becomes apparent that adding more PCs does not buy you much more discrimination"
   ]
  }
 ],
 "metadata": {
  "kernelspec": {
   "display_name": "Python 2",
   "language": "python",
   "name": "python2"
  },
  "language_info": {
   "codemirror_mode": {
    "name": "ipython",
    "version": 2
   },
   "file_extension": ".py",
   "mimetype": "text/x-python",
   "name": "python",
   "nbconvert_exporter": "python",
   "pygments_lexer": "ipython2",
   "version": "2.7.11"
  }
 },
 "nbformat": 4,
 "nbformat_minor": 0
}
