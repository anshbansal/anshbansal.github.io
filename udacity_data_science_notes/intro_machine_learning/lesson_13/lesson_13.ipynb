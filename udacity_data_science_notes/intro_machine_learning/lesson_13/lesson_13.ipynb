{
 "cells": [
  {
   "cell_type": "markdown",
   "metadata": {
    "collapsed": true
   },
   "source": [
    "# Lesson 13 - Cross Validation\n",
    "Need to have a way to test that the algorithm is doing what it is supposed to do\n",
    "\n",
    "### Why we use training and testing data sets?\n",
    "- gives estimate of performance on an independent data set\n",
    "- serves as a check for overfitting\n",
    "\n",
    "### Training Testing split\n",
    "- sklearn has libraries for doing the split"
   ]
  },
  {
   "cell_type": "code",
   "execution_count": 1,
   "metadata": {
    "collapsed": true
   },
   "outputs": [],
   "source": [
    "def submitAcc():\n",
    "    return clf.score(features_test, labels_test)\n",
    "\n",
    "#!/usr/bin/python\n",
    "\n",
    "\"\"\" this example borrows heavily from the example\n",
    "    shown on the sklearn documentation:\n",
    "\n",
    "    http://scikit-learn.org/stable/modules/cross_validation.html\n",
    "\n",
    "\"\"\"\n",
    "\n",
    "from sklearn import datasets\n",
    "from sklearn.svm import SVC\n",
    "\n",
    "iris = datasets.load_iris()\n",
    "features = iris.data\n",
    "labels = iris.target"
   ]
  },
  {
   "cell_type": "code",
   "execution_count": 2,
   "metadata": {
    "collapsed": false
   },
   "outputs": [
    {
     "name": "stdout",
     "output_type": "stream",
     "text": [
      "0.966666666667\n"
     ]
    }
   ],
   "source": [
    "###############################################################\n",
    "### YOUR CODE HERE\n",
    "###############################################################\n",
    "\n",
    "### import the relevant code and make your train/test split\n",
    "### name the output datasets features_train, features_test,\n",
    "### labels_train, and labels_test\n",
    "\n",
    "### set the random_state to 0 and the test_size to 0.4 so\n",
    "### we can exactly check your result\n",
    "from sklearn import cross_validation\n",
    "\n",
    "features_train, features_test, labels_train, labels_test = cross_validation.train_test_split(\n",
    "    iris.data, iris.target, test_size=0.4, random_state=0)\n",
    "\n",
    "\n",
    "###############################################################\n",
    "\n",
    "clf = SVC(kernel=\"linear\", C=1.)\n",
    "clf.fit(features_train, labels_train)\n",
    "\n",
    "print clf.score(features_test, labels_test)\n"
   ]
  },
  {
   "cell_type": "markdown",
   "metadata": {},
   "source": [
    "## Where to use training and testing data?\n",
    "\n",
    "![](pca.png)\n",
    "![](svm.png)"
   ]
  },
  {
   "cell_type": "markdown",
   "metadata": {},
   "source": [
    "## K-Fold Cross Validation\n",
    "\n",
    "## problems in splitting the data into training and testing data\n",
    "- more training data => best learning results\n",
    "- more test data => best validation\n",
    "- there is a tradeoff between these two\n",
    "\n",
    "- so we do something different. we split the data into k bins of equal size\n",
    "- we run the experiment k times \n",
    " ![](k_cross.png)\n",
    "- we average the results\n",
    "\n",
    "## K-fold in sklearn\n",
    "- if we have low accuracy we should consider that maybe majority of one type of events are going into the test set and majority of other type of events go to training set\n",
    "- k fold in sklearn does not shuffle your data\n",
    "\n",
    "There's a simple way to randomize the events in sklearn k-fold CV: set the shuffle flag to true.\n",
    "\n",
    "Then you'd go from something like this:\n",
    "\n",
    "cv = KFold( len(authors), 2 )\n",
    "\n",
    "To something like this:\n",
    "\n",
    "cv = KFold( len(authors), 2, shuffle=True )\n",
    "\n",
    "### Cross Validation for Parameter Tuning\n",
    "- we were tuning the parameters of many algorithms so far by guess and check. It is clunky and does not really give us. Cross validation can help with that\n",
    "\n",
    "GridSearchCV is a way of systematically working through multiple combinations of parameter tunes, cross-validating as it goes to determine which tune gives the best performance. The beauty is that it can work through many combinations in only a couple extra lines of code.\n",
    "\n",
    "Here's an example from the sklearn documentation:"
   ]
  },
  {
   "cell_type": "markdown",
   "metadata": {},
   "source": [
    "`\n",
    "parameters = {'kernel':('linear', 'rbf'), 'C':[1, 10]}\n",
    "svr = svm.SVC()\n",
    "clf = grid_search.GridSearchCV(svr, parameters)\n",
    "clf.fit(iris.data, iris.target)\n",
    "`\n",
    "\n",
    "Let's break this down line by line.\n",
    "\n",
    "`parameters = {'kernel':('linear', 'rbf'), 'C':[1, 10]} `\n",
    "\n",
    "A dictionary of the parameters, and the possible values they may take. In this case, they're playing around with the kernel (possible choices are 'linear' and 'rbf'), and C (possible choices are 1 and 10).\n",
    "\n",
    "Then a 'grid' of all the following combinations of values for (kernel, C) are automatically generated:\n",
    "\n",
    "`('rbf', 1)\t('rbf', 10)\n",
    "('linear', 1)\t('linear', 10)`\n",
    "\n",
    "Each is used to train an SVM, and the performance is then assessed using cross-validation.\n",
    "\n",
    "`svr = svm.SVC() `\n",
    "This looks kind of like creating a classifier, just like we've been doing since the first lesson. But note that the \"clf\" isn't made until the next line--this is just saying what kind of algorithm to use. Another way to think about this is that the \"classifier\" isn't just the algorithm in this case, it's algorithm plus parameter values. Note that there's no monkeying around with the kernel or C; all that is handled in the next line.\n",
    "\n",
    "`clf = grid_search.GridSearchCV(svr, parameters) `\n",
    "\n",
    "This is where the first bit of magic happens; the classifier is being created. We pass the algorithm (svr) and the dictionary of parameters to try (parameters) and it generates a grid of parameter combinations to try.\n",
    "\n",
    "`clf.fit(iris.data, iris.target) `\n",
    "\n",
    "And the second bit of magic. The fit function now tries all the parameter combinations, and returns a fitted classifier that's automatically tuned to the optimal parameter combination. You can now access the parameter values via clf.best_params_"
   ]
  }
 ],
 "metadata": {
  "kernelspec": {
   "display_name": "Python 2",
   "language": "python",
   "name": "python2"
  },
  "language_info": {
   "codemirror_mode": {
    "name": "ipython",
    "version": 2
   },
   "file_extension": ".py",
   "mimetype": "text/x-python",
   "name": "python",
   "nbconvert_exporter": "python",
   "pygments_lexer": "ipython2",
   "version": "2.7.11"
  }
 },
 "nbformat": 4,
 "nbformat_minor": 0
}
