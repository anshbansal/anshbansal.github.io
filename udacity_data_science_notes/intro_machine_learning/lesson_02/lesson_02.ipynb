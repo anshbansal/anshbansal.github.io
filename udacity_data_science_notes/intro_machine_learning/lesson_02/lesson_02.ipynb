{
 "cells": [
  {
   "cell_type": "code",
   "execution_count": 1,
   "metadata": {
    "collapsed": true
   },
   "outputs": [],
   "source": [
    "projects_location = \"/home/aseem/projects/ud120-projects/\"\n",
    "\n",
    "import sys\n",
    "sys.path.append(projects_location + 'choose_your_own')"
   ]
  },
  {
   "cell_type": "markdown",
   "metadata": {
    "collapsed": true
   },
   "source": [
    "# Lesson 02 - Support Vector Machines (SVMs)\n",
    "\n",
    "Finds a line that separates two classes of data by a line called hyperplane.\n",
    "\n",
    "![](separating_line.png)\n",
    "\n",
    "Which line separates the data best?\n",
    "\n",
    "![](separating_best.png)"
   ]
  },
  {
   "cell_type": "markdown",
   "metadata": {},
   "source": [
    "![](margin.png)\n",
    "\n",
    "The line which maximizes distance to the nearest point = Margin\n",
    "\n",
    "This is important because it maximizes the robustness. A small noise will not flip the labels\n",
    "\n",
    "![](margin_best.png)\n",
    "\n",
    "Classficaiton of correctness is first priority. Subect to this constraint we need to maximize the margin"
   ]
  },
  {
   "cell_type": "markdown",
   "metadata": {},
   "source": [
    "## SVM - Outliers\n",
    "\n",
    "Some times it seems impossible to do the right job\n",
    "\n",
    "![](outlier.png)\n",
    "\n",
    "It ignores outliers "
   ]
  },
  {
   "cell_type": "code",
   "execution_count": 2,
   "metadata": {
    "collapsed": false
   },
   "outputs": [
    {
     "data": {
      "text/plain": [
       "SVC(C=1.0, cache_size=200, class_weight=None, coef0=0.0,\n",
       "  decision_function_shape=None, degree=3, gamma='auto', kernel='rbf',\n",
       "  max_iter=-1, probability=False, random_state=None, shrinking=True,\n",
       "  tol=0.001, verbose=False)"
      ]
     },
     "execution_count": 2,
     "metadata": {},
     "output_type": "execute_result"
    }
   ],
   "source": [
    "from sklearn import svm\n",
    "\n",
    "X = [[0, 0], [1, 1]]\n",
    "y = [0, 1]\n",
    "clf = svm.SVC()\n",
    "clf.fit(X, y)  "
   ]
  },
  {
   "cell_type": "code",
   "execution_count": 4,
   "metadata": {
    "collapsed": false
   },
   "outputs": [
    {
     "data": {
      "text/plain": [
       "array([1])"
      ]
     },
     "execution_count": 4,
     "metadata": {},
     "output_type": "execute_result"
    }
   ],
   "source": [
    "clf.predict([[2., 2.]])"
   ]
  },
  {
   "cell_type": "code",
   "execution_count": 3,
   "metadata": {
    "collapsed": false
   },
   "outputs": [
    {
     "data": {
      "text/plain": [
       "0.92000000000000004"
      ]
     },
     "execution_count": 3,
     "metadata": {},
     "output_type": "execute_result"
    }
   ],
   "source": [
    "from prep_terrain_data import makeTerrainData\n",
    "\n",
    "features_train, labels_train, features_test, labels_test = makeTerrainData()\n",
    "\n",
    "from sklearn.svm import SVC\n",
    "clf = SVC(kernel=\"linear\")\n",
    "clf.fit(features_train, labels_train)\n",
    "\n",
    "from sklearn.metrics import accuracy_score\n",
    "acc = accuracy_score(clf.predict(features_test), labels_test)\n",
    "acc"
   ]
  },
  {
   "cell_type": "markdown",
   "metadata": {},
   "source": [
    "## Non linear SVMs\n",
    "\n",
    "![](non_linear_svm.png)"
   ]
  },
  {
   "cell_type": "markdown",
   "metadata": {},
   "source": [
    "## Practice New Feature\n",
    "\n",
    "How to add a feature to make this be linearly separated?\n",
    "\n",
    "![](practice_new_feature.png)\n",
    "\n",
    "![](practice_new_feature_ans.png)"
   ]
  },
  {
   "cell_type": "markdown",
   "metadata": {},
   "source": [
    "## Kernel Tricks\n",
    "\n",
    "There are functions which take low dimensional feature space and turn into a high dimensional feature space. These functions are called kernels.\n",
    "\n",
    "![](kernels.png)\n",
    "\n",
    "These are not just functions over feature space but functions over two inputs.\n",
    "\n",
    "We then separate the feature space and go back to original space\n",
    "\n",
    "![](kernels_back.png)"
   ]
  },
  {
   "cell_type": "markdown",
   "metadata": {},
   "source": [
    "## Parameters in Machine Learning\n",
    "- arguments passed when creating the classifier\n",
    "\n",
    "- for an SVM?\n",
    "    - kernel\n",
    "    - C  - controls tradeoff between\n",
    "        - smooth decision boundary\n",
    "        - classifying points correctly\n",
    "          ![](parameter_c.png)\n",
    "    - gamma    "
   ]
  },
  {
   "cell_type": "markdown",
   "metadata": {},
   "source": [
    "## SVM Strengths and Weaknesses\n",
    "\n",
    "Pros\n",
    "- work in complicated domains where there is clear margin of separation\n",
    "\n",
    "Cons\n",
    "- very large data set cause bad performance. training time would be cubic of the size of data set\n",
    "- if there is lots of noise then don't work well"
   ]
  }
 ],
 "metadata": {
  "kernelspec": {
   "display_name": "Python 2",
   "language": "python",
   "name": "python2"
  },
  "language_info": {
   "codemirror_mode": {
    "name": "ipython",
    "version": 2
   },
   "file_extension": ".py",
   "mimetype": "text/x-python",
   "name": "python",
   "nbconvert_exporter": "python",
   "pygments_lexer": "ipython2",
   "version": "2.7.12"
  }
 },
 "nbformat": 4,
 "nbformat_minor": 0
}
