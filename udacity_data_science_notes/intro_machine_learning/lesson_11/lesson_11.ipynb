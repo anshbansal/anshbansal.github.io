{
 "cells": [
  {
   "cell_type": "markdown",
   "metadata": {
    "collapsed": true
   },
   "source": [
    "# Lesson 11 - Feature Selection\n",
    "- algorithm will be only as good as the features that are put into it so this is something where as a machine learner we need to spend some time\n",
    "- need a way to\n",
    "    - select the best features\n",
    "    - add new features\n",
    "    \n",
    "## A new feature\n",
    "- use my human intuition\n",
    "- code up the new feature\n",
    "- visualize\n",
    "- repeat"
   ]
  },
  {
   "cell_type": "markdown",
   "metadata": {},
   "source": [
    "## A New Enron Feature\n",
    "- we create a new feature about the number of email from a poi to a person and vice versa. We make a visualization for the same to see whether we have any relationship between them\n",
    "![](from_poi.png)"
   ]
  },
  {
   "cell_type": "markdown",
   "metadata": {},
   "source": [
    "We made POI red so we may say trends. We see that we don't see any trend here. Katie's intuition says that maybe it is not the exact number of email that matters. Maybe the fraction of emails that are received are important.\n",
    "\n",
    "![](from_poi_fraction.png)\n",
    "\n",
    "Here we can see that although we don't have a very good cluster of POI they are not that spread out. There are some places where there are no POIs and can indicate that none of the people there are POIs"
   ]
  },
  {
   "cell_type": "markdown",
   "metadata": {},
   "source": [
    "## Why might we want to ignore a feature\n",
    "- it's noisy\n",
    "- it's causing overfitting\n",
    "- it is strongly correlated to another feature that is already present\n",
    "- additional features slow down training/testing process\n",
    "\n",
    "Features and information are not the same thing. We want information. Features are an attempt to get information\n",
    "\n",
    "## Univariate Feature Selection\n",
    "\n",
    "There are several go-to methods of automatically selecting your features in sklearn. Many of them fall under the umbrella of univariate feature selection, which treats each feature independently and asks how much power it gives you in classifying or regressing.\n",
    "\n",
    "There are two big univariate feature selection tools in sklearn: SelectPercentile and SelectKBest. The difference is pretty apparent by the names: SelectPercentile selects the X% of features that are most powerful (where X is a parameter) and SelectKBest selects the K features that are most powerful (where K is a parameter).\n",
    "\n",
    "A clear candidate for feature reduction is text learning, since the data has such high dimension. We actually did feature selection in the Sara/Chris email classification problem during the first few mini-projects; you can see it in the code in tools/email_preprocess.py."
   ]
  },
  {
   "cell_type": "markdown",
   "metadata": {},
   "source": [
    "## Bias Variance Dilemma and number of features\n",
    "\n",
    "High Bias\n",
    "- pays little attention to data\n",
    "- high error on training data\n",
    "- low (r ^ 2), large sum of squared errors\n",
    "\n",
    "High Variance\n",
    "- pays too much attention to data (does not generalize well)\n",
    "- much higher error on test set than training set\n",
    "\n",
    "Maybe there are many features that you need to consider to fully describe your features but if you use too few features then you are using only a few of them. This is a typical high bias situation.\n",
    "\n",
    "If we carefully tune the algorithm very much to minimize and take out all the information that can be found from your training set then it becomes a high variance situation.\n",
    "\n",
    "There is the trade off between the goodness of the fit and the simplicity of your fit\n",
    "\n",
    "We want to use as few features as possible which gives us large (r ^ 2) / low sum of squared errors"
   ]
  },
  {
   "cell_type": "markdown",
   "metadata": {},
   "source": [
    "![](overfitting.png)\n",
    "![](regularisation.png)\n",
    "\n",
    "Some algorithms can automatically find the sweet spot between the number of features and quality of model. This process is called regularisation."
   ]
  },
  {
   "cell_type": "markdown",
   "metadata": {},
   "source": [
    "## Regularisation in regression\n",
    "- method for automatically penalising extra features\n",
    "\n",
    "Lasso regression tries to minimize the SSE (Sum of Squared Errors) and the number of features\n",
    "\n",
    "![](lasso.png)\n",
    "\n",
    "The decrease of SSE should not be offset by the increase in coefficients. For those that do not satisfy this it can set the coefficients to zero for those features."
   ]
  }
 ],
 "metadata": {
  "kernelspec": {
   "display_name": "Python 2",
   "language": "python",
   "name": "python2"
  },
  "language_info": {
   "codemirror_mode": {
    "name": "ipython",
    "version": 2
   },
   "file_extension": ".py",
   "mimetype": "text/x-python",
   "name": "python",
   "nbconvert_exporter": "python",
   "pygments_lexer": "ipython2",
   "version": "2.7.11"
  }
 },
 "nbformat": 4,
 "nbformat_minor": 0
}
