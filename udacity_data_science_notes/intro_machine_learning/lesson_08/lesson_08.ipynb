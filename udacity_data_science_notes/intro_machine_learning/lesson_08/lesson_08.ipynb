{
 "cells": [
  {
   "cell_type": "markdown",
   "metadata": {
    "collapsed": true
   },
   "source": [
    "# Lesson 08 - Clustering\n",
    "\n",
    "## Unsupervised learning\n",
    "- Most of the time the data that you get in the real world does not have flags attached to them\n",
    "![](cluster1.png)\n",
    "- but we can still find some information about them like clusters\n",
    "![](cluster2.png)\n",
    "- or we may find that the data is not actually 2 dimensional\n",
    "![](dimensionality_reduction.png)"
   ]
  },
  {
   "cell_type": "markdown",
   "metadata": {},
   "source": [
    "## Clustering\n",
    "- say 2 people are rating movies\n",
    "![](movies1.png)\n",
    "- now if someone graphs them then they could see that there are 2 different classes of movies\n",
    "![](movies2.png)\n",
    "- based on this they could suggest a movies that falls in class A and not class B based on who liked what. Then the person is much more likely to watch that movie"
   ]
  },
  {
   "cell_type": "markdown",
   "metadata": {},
   "source": [
    "## K-Means clustering\n",
    "\n",
    "![](cluster3.png)\n",
    "\n",
    "We want to find the cluster centers\n",
    "\n",
    "![](cluster4.png)\n",
    "\n",
    "In K-means we randomly select cluster centers and then we find which points are closer to them\n",
    "![](kmeans.png)\n",
    "![](kmeans2.png)\n",
    "\n",
    "So after assignment state we have these clusters\n",
    "\n",
    "![](kmeans3.png)\n",
    "\n",
    "Then we try to minime the total blue lengths\n",
    "\n",
    "![](kmeans4.png)\n",
    "\n",
    "Then we repeat\n",
    "\n",
    "![](kmeans5.png)"
   ]
  },
  {
   "cell_type": "markdown",
   "metadata": {},
   "source": [
    "You can play with k-means clustering yourself here: http://www.naftaliharris.com/blog/visualizing-k-means-clustering/\n",
    "\n",
    "## Limitations of K-means\n",
    "- local minima"
   ]
  }
 ],
 "metadata": {
  "kernelspec": {
   "display_name": "Python 2",
   "language": "python",
   "name": "python2"
  },
  "language_info": {
   "codemirror_mode": {
    "name": "ipython",
    "version": 2
   },
   "file_extension": ".py",
   "mimetype": "text/x-python",
   "name": "python",
   "nbconvert_exporter": "python",
   "pygments_lexer": "ipython2",
   "version": "2.7.12"
  }
 },
 "nbformat": 4,
 "nbformat_minor": 0
}
