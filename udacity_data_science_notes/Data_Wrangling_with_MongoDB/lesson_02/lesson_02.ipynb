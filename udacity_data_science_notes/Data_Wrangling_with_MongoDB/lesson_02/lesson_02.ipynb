{
 "cells": [
  {
   "cell_type": "markdown",
   "metadata": {
    "collapsed": true
   },
   "source": [
    "## Intro to XML\n",
    "\n",
    "### Design Goals\n",
    "- platform independent data transfer\n",
    "- easy to write code to read/write\n",
    "- document validation\n",
    "- human readable\n",
    "- support wide variety of apps\n",
    "\n",
    "- See the official XML [Origin and Goals](http://www.w3.org/TR/xml/#sec-origin-goals)\n",
    "- [Free as in Beer](http://en.wikipedia.org/wiki/Gratis_versus_libre) means - free in the sense of costing no money; gratis.\n",
    "\n",
    "### Benefit of XML\n",
    "- robust parses in most languagaes\n",
    "- we can focus on our app\n",
    "- free\n",
    "\n",
    "### XML Design prinicples\n",
    "- we can build databases to support various types of queries\n",
    "- we can piece together data from different sources \n",
    "- XML can be converted into different formats with no loss of information\n",
    "\n",
    "### XML in practice\n",
    "- most things can be represented by a list of properties and their values\n",
    "- nested structures\n",
    "\n",
    "### Fundamentals of XML\n",
    "- XML document is made up of elements\n",
    "- XML can be document oriented\n",
    "![](type_xml.png)\n",
    "- XML documents can also be data oriented\n",
    "\n",
    "## Parsing XML"
   ]
  },
  {
   "cell_type": "code",
   "execution_count": 1,
   "metadata": {
    "collapsed": true
   },
   "outputs": [],
   "source": [
    "import xml.etree.ElementTree as ET\n",
    "import pprint"
   ]
  },
  {
   "cell_type": "code",
   "execution_count": 2,
   "metadata": {
    "collapsed": true
   },
   "outputs": [],
   "source": [
    "def get_root(fname):\n",
    "    tree = ET.parse(fname)\n",
    "    return tree.getroot()"
   ]
  },
  {
   "cell_type": "code",
   "execution_count": 3,
   "metadata": {
    "collapsed": true
   },
   "outputs": [],
   "source": [
    "article_file = 'exampleResearchArticle.xml'\n",
    "root = get_root(article_file)"
   ]
  },
  {
   "cell_type": "code",
   "execution_count": 4,
   "metadata": {
    "collapsed": false
   },
   "outputs": [
    {
     "name": "stdout",
     "output_type": "stream",
     "text": [
      "ui\n",
      "ji\n",
      "fm\n",
      "bdy\n",
      "bm\n"
     ]
    }
   ],
   "source": [
    "for child in root:\n",
    "    print child.tag"
   ]
  },
  {
   "cell_type": "markdown",
   "metadata": {},
   "source": [
    "We can use xpath to get nested tags"
   ]
  },
  {
   "cell_type": "code",
   "execution_count": 5,
   "metadata": {
    "collapsed": false
   },
   "outputs": [
    {
     "name": "stdout",
     "output_type": "stream",
     "text": [
      "omer@extremegate.com\n",
      "mcarmont@hotmail.com\n",
      "laver17@gmail.com\n",
      "nyska@internet-zahav.net\n",
      "kammarh@gmail.com\n",
      "gideon.mann.md@gmail.com\n",
      "barns.nz@gmail.com\n",
      "eukots@gmail.com\n"
     ]
    }
   ],
   "source": [
    "for a in root.findall(\"./fm/bibl/aug/au\"):\n",
    "    email = a.find(\"email\")\n",
    "    if email is not None:\n",
    "        print email.text"
   ]
  },
  {
   "cell_type": "markdown",
   "metadata": {},
   "source": [
    "Let's try and get all of author data from the file. May need to look at [ElementTree documentation](http://docs.python.org/2/library/xml.etree.elementtree.html#module-xml.etree.ElementTree)"
   ]
  },
  {
   "cell_type": "code",
   "execution_count": 6,
   "metadata": {
    "collapsed": false
   },
   "outputs": [],
   "source": [
    "def get_authors(root):\n",
    "    authors = []\n",
    "    for author in root.findall('./fm/bibl/aug/au'):\n",
    "        data = {\n",
    "            \"fnm\": author.find('fnm').text,\n",
    "            \"snm\": author.find('snm').text,\n",
    "            \"email\": author.find('email').text,\n",
    "            \"insr\": []\n",
    "        }\n",
    "        for insr in author.findall(\"insr\"):\n",
    "            data['insr'].append(insr.attrib['iid'])\n",
    "\n",
    "        authors.append(data)\n",
    "\n",
    "    return authors"
   ]
  },
  {
   "cell_type": "code",
   "execution_count": 7,
   "metadata": {
    "collapsed": false
   },
   "outputs": [],
   "source": [
    "def test1():\n",
    "    solution = [{'insr': ['I1'], 'fnm': 'Omer', 'snm': 'Mei-Dan', 'email': 'omer@extremegate.com'},\n",
    "                {'insr': ['I2'], 'fnm': 'Mike', 'snm': 'Carmont', 'email': 'mcarmont@hotmail.com'},\n",
    "                {'insr': ['I3', 'I4'], 'fnm': 'Lior', 'snm': 'Laver', 'email': 'laver17@gmail.com'},\n",
    "                {'insr': ['I3'], 'fnm': 'Meir', 'snm': 'Nyska', 'email': 'nyska@internet-zahav.net'},\n",
    "                {'insr': ['I8'], 'fnm': 'Hagay', 'snm': 'Kammar', 'email': 'kammarh@gmail.com'},\n",
    "                {'insr': ['I3', 'I5'], 'fnm': 'Gideon', 'snm': 'Mann', 'email': 'gideon.mann.md@gmail.com'},\n",
    "                {'insr': ['I6'], 'fnm': 'Barnaby', 'snm': 'Clarck', 'email': 'barns.nz@gmail.com'},\n",
    "                {'insr': ['I7'], 'fnm': 'Eugene', 'snm': 'Kots', 'email': 'eukots@gmail.com'}]\n",
    "    \n",
    "    root = get_root(article_file)\n",
    "    data = get_authors(root)\n",
    "\n",
    "    assert data[0] == solution[0]\n",
    "    assert data[1][\"fnm\"] == solution[1][\"fnm\"]\n",
    "    assert data[1][\"insr\"] == solution[1][\"insr\"]"
   ]
  },
  {
   "cell_type": "code",
   "execution_count": 8,
   "metadata": {
    "collapsed": false
   },
   "outputs": [],
   "source": [
    "test1()"
   ]
  },
  {
   "cell_type": "markdown",
   "metadata": {},
   "source": [
    "## Data Wrangling Procedure - Screen Scraping\n",
    "- Check the [AirTrans website](http://www.transtats.bts.gov/Data_Elements.aspx?Data=2) page source in your browser!\n",
    "- Build list of Carrier values\n",
    "- Build list of airport values\n",
    "- make HTTP requests to download all data\n",
    "- then parse the data files"
   ]
  },
  {
   "cell_type": "markdown",
   "metadata": {},
   "source": [
    "## Extracting entities\n",
    "Look at [BeautifulSoup](http://www.crummy.com/software/BeautifulSoup/bs4/doc/)"
   ]
  },
  {
   "cell_type": "code",
   "execution_count": 12,
   "metadata": {
    "collapsed": true
   },
   "outputs": [],
   "source": [
    "from bs4 import BeautifulSoup"
   ]
  },
  {
   "cell_type": "code",
   "execution_count": 13,
   "metadata": {
    "collapsed": true
   },
   "outputs": [],
   "source": [
    "def options(soup, id):\n",
    "    option_values = []\n",
    "    carrier_list = soup.find(id = id)\n",
    "    for option in carrier_list.find_all('option'):\n",
    "        option_values.append(option['value'])\n",
    "    return option_values"
   ]
  },
  {
   "cell_type": "code",
   "execution_count": 15,
   "metadata": {
    "collapsed": false
   },
   "outputs": [],
   "source": [
    "soup = BeautifulSoup(open('air_trans_home.html'))"
   ]
  },
  {
   "cell_type": "code",
   "execution_count": 44,
   "metadata": {
    "collapsed": false
   },
   "outputs": [],
   "source": [
    "carrierList = options(soup, 'CarrierList')"
   ]
  },
  {
   "cell_type": "code",
   "execution_count": 54,
   "metadata": {
    "collapsed": false
   },
   "outputs": [],
   "source": [
    "airportList = options(soup, 'AirportList')"
   ]
  },
  {
   "cell_type": "code",
   "execution_count": 56,
   "metadata": {
    "collapsed": true
   },
   "outputs": [],
   "source": [
    "def removeAll(_list):\n",
    "    for value in _list[:]:\n",
    "        if value.startswith(\"All\"):\n",
    "            _list.remove(value)"
   ]
  },
  {
   "cell_type": "code",
   "execution_count": 57,
   "metadata": {
    "collapsed": true
   },
   "outputs": [],
   "source": [
    "removeAll(carrierList)\n",
    "removeAll(airportList)"
   ]
  },
  {
   "cell_type": "code",
   "execution_count": 58,
   "metadata": {
    "collapsed": false
   },
   "outputs": [
    {
     "name": "stdout",
     "output_type": "stream",
     "text": [
      "15\n",
      "1190\n"
     ]
    }
   ],
   "source": [
    "print len(carrierList)\n",
    "print len(airportList)"
   ]
  },
  {
   "cell_type": "markdown",
   "metadata": {},
   "source": [
    "## Beginning to Build Our http Requests\n",
    " - When scraping need to understand how the website expects request\n",
    " - network tab of browser is useful for that. browser knows how to make requests so we copy that\n",
    " - emulate in code\n",
    " - if stuff blows up look at your HTTP traffic\n",
    " - return till it works\n",
    " \n",
    "Wireshark could be useful"
   ]
  },
  {
   "cell_type": "code",
   "execution_count": 29,
   "metadata": {
    "collapsed": true
   },
   "outputs": [],
   "source": [
    "def getValueOfId(soup, id):\n",
    "    return soup.find(id = id)['value']"
   ]
  },
  {
   "cell_type": "code",
   "execution_count": 38,
   "metadata": {
    "collapsed": false
   },
   "outputs": [],
   "source": [
    "import requests\n",
    "\n",
    "transtats_url = \"http://www.transtats.bts.gov/Data_Elements.aspx?Data=2\"\n",
    "\n",
    "s = requests.Session()\n",
    "\n",
    "r = s.get(transtats_url)\n",
    "soup = BeautifulSoup(r.text)\n",
    "\n",
    "r = s.post(transtats_url,\n",
    "                data={'AirportList': \"BOS\",\n",
    "                      'CarrierList': \"VX\",\n",
    "                      'Submit': 'Submit',\n",
    "                      \"__VIEWSTATEGENERATOR\": getValueOfId(soup, '__VIEWSTATEGENERATOR'),\n",
    "                      \"__EVENTTARGET\": \"\",\n",
    "                      \"__EVENTARGUMENT\": \"\",\n",
    "                      \"__EVENTVALIDATION\": getValueOfId(soup, '__EVENTVALIDATION'),\n",
    "                      \"__VIEWSTATE\": getValueOfId(soup, '__VIEWSTATE')\n",
    "                })\n",
    "\n",
    "f = open('virgin_and_logan_airport.html', 'w')\n",
    "f.write(r.text)"
   ]
  },
  {
   "cell_type": "code",
   "execution_count": 71,
   "metadata": {
    "collapsed": true
   },
   "outputs": [],
   "source": [
    "soup = BeautifulSoup(open(\"data/FL-ATL.html\"), \"lxml\")"
   ]
  },
  {
   "cell_type": "code",
   "execution_count": 75,
   "metadata": {
    "collapsed": false
   },
   "outputs": [],
   "source": [
    "table = soup.find(\"table\", id=\"DataGrid1\")"
   ]
  },
  {
   "cell_type": "code",
   "execution_count": 85,
   "metadata": {
    "collapsed": false
   },
   "outputs": [
    {
     "name": "stdout",
     "output_type": "stream",
     "text": [
      "{'flights': {'international': 92565, 'domestic': 815489}, 'month': 10, 'year': 2002}\n",
      "{'flights': {'international': 91342, 'domestic': 766775}, 'month': 11, 'year': 2002}\n",
      "{'flights': {'international': 96881, 'domestic': 782175}, 'month': 12, 'year': 2002}\n"
     ]
    }
   ],
   "source": [
    "rows = table.find_all(\"tr\")[1:]\n",
    "for row in rows:\n",
    "    row_data = map(lambda x: x.string, row.find_all(\"td\"))\n",
    "    \n",
    "    if row_data[1] == 'TOTAL':\n",
    "        continue\n",
    "    \n",
    "    print {\n",
    "            'year': int(row_data[0]),\n",
    "            'month': int(row_data[1]),\n",
    "            'flights': {\n",
    "                'domestic': int(row_data[2].replace(\",\", \"\")),\n",
    "                'international': int(row_data[3].replace(\",\", \"\"))\n",
    "            }\n",
    "        }"
   ]
  }
 ],
 "metadata": {
  "kernelspec": {
   "display_name": "Python 2",
   "language": "python",
   "name": "python2"
  },
  "language_info": {
   "codemirror_mode": {
    "name": "ipython",
    "version": 2
   },
   "file_extension": ".py",
   "mimetype": "text/x-python",
   "name": "python",
   "nbconvert_exporter": "python",
   "pygments_lexer": "ipython2",
   "version": "2.7.11"
  }
 },
 "nbformat": 4,
 "nbformat_minor": 0
}
