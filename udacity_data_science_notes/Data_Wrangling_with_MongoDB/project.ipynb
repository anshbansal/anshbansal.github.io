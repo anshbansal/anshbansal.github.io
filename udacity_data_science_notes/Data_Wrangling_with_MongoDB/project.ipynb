{
 "cells": [
  {
   "cell_type": "markdown",
   "metadata": {
    "collapsed": true
   },
   "source": [
    "# Data Wrangling Project\n",
    "\n",
    "## Map Area: New Delhi, India\n",
    "- Taken from https://mapzen.com/data/metro-extracts/metro/new-delhi_india/\n",
    "\n",
    "## Overview of the data\n",
    "- **new-delhi_india.osm** 710 MB\n",
    "- **new-delhi_india.osm.json** 816 MB\n",
    "- Number of records = 4063611\n",
    "- Number of unique users 953\n",
    "\n",
    "- The schema of the data found in mongo db after inserting the data using https://github.com/variety/variety\n"
   ]
  },
  {
   "cell_type": "code",
   "execution_count": 20,
   "metadata": {
    "collapsed": false
   },
   "outputs": [],
   "source": [
    "r'''<pre>\n",
    "+----------------------------------------------------------------------------+\n",
    "|\n",
    "\n",
    "  key                    | types    | occurrences | percents                 |\n",
    "| ---------------------- | -------- | ----------- | ------------------------ |\n",
    "| _id                    | ObjectId |     4063611 | 100.00000000000000000000 |\n",
    "| created                | Object   |     4063611 | 100.00000000000000000000 |\n",
    "| created.changeset      | String   |     4063611 | 100.00000000000000000000 |\n",
    "| created.timestamp      | String   |     4063611 | 100.00000000000000000000 |\n",
    "| created.uid            | String   |     4063611 | 100.00000000000000000000 |\n",
    "| created.user           | String   |     4063611 | 100.00000000000000000000 |\n",
    "| created.version        | String   |     4063611 | 100.00000000000000000000 |\n",
    "| id                     | String   |     4063611 | 100.00000000000000000000 |\n",
    "| type                   | String   |     4063611 | 100.00000000000000000000 |\n",
    "| pos                    | Array    |     3374750 |  83.04805750353564519628 |\n",
    "| node_refs              | Array    |      688861 |  16.95194249646435125101 |\n",
    "| address                | Object   |        2733 |   0.06725545333940674553 |\n",
    "| address.housenumber    | String   |        1759 |   0.04328662364581649380 |\n",
    "| address.street         | String   |        1022 |   0.02515004511996842343 |\n",
    "| address.city           | String   |         922 |   0.02268917964834724424 |\n",
    "| address.postcode       | String   |         766 |   0.01885022951261821136 |\n",
    "| address.interpolation  | String   |         533 |   0.01311641296374086926 |\n",
    "| address.country        | String   |         388 |   0.00954815802989016429 |\n",
    "| address.housename      | String   |         180 |   0.00442955784891811699 |\n",
    "| address.state          | String   |          89 |   0.00219017026974284695 |\n",
    "| address.full           | String   |          60 |   0.00147651928297270574 |\n",
    "| address.inclusion      | String   |          28 |   0.00068904233205392934 |\n",
    "| address.buildingnumber | String   |          23 |   0.00056599905847287051 |\n",
    "| address.suburb         | String   |          12 |   0.00029530385659454114 |\n",
    "| address.place          | String   |           8 |   0.00019686923772969410 |\n",
    "| address.locality       | String   |           3 |   0.00007382596414863528 |\n",
    "| address.district       | String   |           2 |   0.00004921730943242352 |\n",
    "| address.area           | String   |           1 |   0.00002460865471621176 |\n",
    "| address.block_number   | String   |           1 |   0.00002460865471621176 |\n",
    "| address.city_1         | String   |           1 |   0.00002460865471621176 |\n",
    "| address.province       | String   |           1 |   0.00002460865471621176 |\n",
    "| address.street_1       | String   |           1 |   0.00002460865471621176 |\n",
    "| address.street_2       | String   |           1 |   0.00002460865471621176 |\n",
    "| address.street_3       | String   |           1 |   0.00002460865471621176 |\n",
    "| address.subdistrict    | String   |           1 |   0.00002460865471621176 |\n",
    "| address.unit           | String   |           1 |   0.00002460865471621176 |\n",
    "+----------------------------------------------------------------------------+'''\n",
    "\n",
    "None"
   ]
  },
  {
   "cell_type": "markdown",
   "metadata": {},
   "source": [
    "## Other ideas about the datasets"
   ]
  },
  {
   "cell_type": "markdown",
   "metadata": {},
   "source": [
    "# Analysis and code starts here\n",
    "\n",
    "I was stuck on getting started with this project for while so I will follow a train of thought approach to this project's code. All final thoughts will be summarised before this heading.\n",
    "\n",
    "Let me start with adding some general functions that I will use for SAX iterating and making a sample file to work with."
   ]
  },
  {
   "cell_type": "code",
   "execution_count": 2,
   "metadata": {
    "collapsed": true
   },
   "outputs": [],
   "source": [
    "from collections import defaultdict\n",
    "\n",
    "import xml.etree.cElementTree as ET\n",
    "import re\n",
    "\n",
    "def get_element(osm_file, tags=('node', 'way', 'relation')):\n",
    "    \"\"\"Yield element if it is the right type of tag\n",
    "\n",
    "    Reference:\n",
    "    http://stackoverflow.com/questions/3095434/inserting-newlines-in-xml-file-generated-via-xml-etree-elementtree-in-python\n",
    "    \"\"\"\n",
    "    context = iter(ET.iterparse(osm_file, events=('start', 'end')))\n",
    "    _, root = next(context)\n",
    "    for event, elem in context:\n",
    "        if tags is not None and elem.tag not in tags:\n",
    "            continue\n",
    "        if event == 'end':\n",
    "            yield elem\n",
    "            root.clear()"
   ]
  },
  {
   "cell_type": "code",
   "execution_count": 3,
   "metadata": {
    "collapsed": true
   },
   "outputs": [],
   "source": [
    "def take_sample(k, osm_file, sample_file):\n",
    "    with open(sample_file, 'wb') as output:\n",
    "        output.write('<?xml version=\"1.0\" encoding=\"UTF-8\"?>\\n')\n",
    "        output.write('<osm>\\n  ')\n",
    "\n",
    "        # Write every kth top level element\n",
    "        for i, element in enumerate(get_element(osm_file)):\n",
    "            if i % k == 0:\n",
    "                # print \"i is {}\".format(i)\n",
    "                output.write(ET.tostring(element, encoding='utf-8'))\n",
    "\n",
    "        output.write('</osm>')"
   ]
  },
  {
   "cell_type": "code",
   "execution_count": 3,
   "metadata": {
    "collapsed": false
   },
   "outputs": [],
   "source": [
    "#take_sample(10, \"new-delhi_india.osm\", \"sample_10.osm\")"
   ]
  },
  {
   "cell_type": "markdown",
   "metadata": {},
   "source": [
    "---\n",
    "\n",
    "Now that we have sample files let me try and understand exactly what kind of data we have in our tags"
   ]
  },
  {
   "cell_type": "code",
   "execution_count": 12,
   "metadata": {
    "collapsed": false
   },
   "outputs": [],
   "source": [
    "#OSM_FILE = \"new-delhi_india.osm\"\n",
    "OSM_FILE = \"sample_100.osm\""
   ]
  },
  {
   "cell_type": "code",
   "execution_count": 4,
   "metadata": {
    "collapsed": false,
    "scrolled": true
   },
   "outputs": [],
   "source": [
    "def get_tag_types():\n",
    "    tag_types = set()\n",
    "    for element in get_element(OSM_FILE, tags=None):\n",
    "        tag_types.add(element.tag)\n",
    "    return tag_types\n",
    "\n",
    "#get_tag_types()"
   ]
  },
  {
   "cell_type": "code",
   "execution_count": 5,
   "metadata": {
    "collapsed": true
   },
   "outputs": [],
   "source": [
    "def tag_attributes(osm_file, tags):\n",
    "    for element in get_element(osm_file, tags):\n",
    "        print element.attrib"
   ]
  },
  {
   "cell_type": "code",
   "execution_count": null,
   "metadata": {
    "collapsed": false
   },
   "outputs": [],
   "source": [
    "#tag_attributes(OSM_FILE, ('node',))"
   ]
  },
  {
   "cell_type": "code",
   "execution_count": null,
   "metadata": {
    "collapsed": false
   },
   "outputs": [],
   "source": [
    "#tag_attributes(OSM_FILE, ('nd',))"
   ]
  },
  {
   "cell_type": "code",
   "execution_count": null,
   "metadata": {
    "collapsed": false
   },
   "outputs": [],
   "source": [
    "#tag_attributes(OSM_FILE, ('member',))"
   ]
  },
  {
   "cell_type": "code",
   "execution_count": null,
   "metadata": {
    "collapsed": false
   },
   "outputs": [],
   "source": [
    "#tag_attributes(OSM_FILE, ('tag',))"
   ]
  },
  {
   "cell_type": "code",
   "execution_count": null,
   "metadata": {
    "collapsed": false
   },
   "outputs": [],
   "source": [
    "#tag_attributes(OSM_FILE, ('relation',))"
   ]
  },
  {
   "cell_type": "code",
   "execution_count": null,
   "metadata": {
    "collapsed": false
   },
   "outputs": [],
   "source": [
    "#tag_attributes(OSM_FILE, ('way',))"
   ]
  },
  {
   "cell_type": "markdown",
   "metadata": {},
   "source": [
    "--- \n",
    "\n",
    "Now that we have an idea about what kind of data we have in our sample file let us start with finding whether the kets that we have are fine or not"
   ]
  },
  {
   "cell_type": "code",
   "execution_count": 4,
   "metadata": {
    "collapsed": true
   },
   "outputs": [],
   "source": [
    "import re\n",
    "\n",
    "lower = re.compile(r'^([a-z]|_)*$')\n",
    "lower_colon = re.compile(r'^([a-z]|_)*:([a-z]|_)*$')\n",
    "problem_chars = re.compile(r'[=\\+/&<>;\\'\"\\?%#$@\\,\\. \\t\\r\\n]')\n",
    "\n",
    "\"\"\"\n",
    "Your task is to explore the data a bit more.\n",
    "Before you process the data and add it into your database, you should check the\n",
    "\"k\" value for each \"<tag>\" and see if there are any potential problems.\n",
    "\n",
    "We have provided you with 3 regular expressions to check for certain patterns\n",
    "in the tags. As we saw in the quiz earlier, we would like to change the data\n",
    "model and expand the \"addr:street\" type of keys to a dictionary like this:\n",
    "{\"address\": {\"street\": \"Some value\"}}\n",
    "So, we have to see if we have such tags, and if we have any tags with\n",
    "problematic characters.\n",
    "\n",
    "Please complete the function 'key_type', such that we have a count of each of\n",
    "four tag categories in a dictionary:\n",
    "  \"lower\", for tags that contain only lowercase letters and are valid,\n",
    "  \"lower_colon\", for otherwise valid tags with a colon in their names,\n",
    "  \"problemchars\", for tags with problematic characters, and\n",
    "  \"other\", for other tags that do not fall into the other three categories.\n",
    "See the 'process_map' and 'test' functions for examples of the expected format.\n",
    "\"\"\"\n",
    "\n",
    "def _key_type(element, keys):\n",
    "    if element.tag == \"tag\":\n",
    "        k = element.attrib['k']\n",
    "        if problem_chars.search(k):\n",
    "            print \"problemchars {}\".format(k)\n",
    "            keys['problemchars'] += 1\n",
    "        elif lower_colon.search(k):\n",
    "            keys['lower_colon'] += 1\n",
    "        elif lower.search(k):\n",
    "            keys['lower'] += 1\n",
    "        else:\n",
    "            #print \"other {}\".format(k)\n",
    "            keys['other'] += 1\n",
    "        \n",
    "    return keys\n",
    "\n",
    "def keys_type():\n",
    "    keys = {\"lower\": 0, \"lower_colon\": 0, \"problemchars\": 0, \"other\": 0}\n",
    "    for element in get_element(OSM_FILE, ('tag',)):\n",
    "        keys = _key_type(element, keys)\n",
    "        \n",
    "    return keys"
   ]
  },
  {
   "cell_type": "code",
   "execution_count": null,
   "metadata": {
    "collapsed": false,
    "scrolled": true
   },
   "outputs": [],
   "source": [
    "keys_type()"
   ]
  },
  {
   "cell_type": "code",
   "execution_count": 5,
   "metadata": {
    "collapsed": false
   },
   "outputs": [],
   "source": [
    "\"\"\"\n",
    "Your task is to explore the data a bit more.\n",
    "The first task is a fun one - find out how many unique users\n",
    "have contributed to the map in this particular area!\n",
    "\n",
    "The function process_map should return a set of unique user IDs (\"uid\")\n",
    "\"\"\"\n",
    "def unique_user_contributed(tags = ('node','relation',)):\n",
    "    users = set()\n",
    "    for element in get_element(OSM_FILE, tags):\n",
    "        users.add(element.attrib['user'])\n",
    "    return users\n",
    "        \n",
    "#len(unique_user_contributed())"
   ]
  },
  {
   "cell_type": "code",
   "execution_count": 11,
   "metadata": {
    "collapsed": false
   },
   "outputs": [],
   "source": [
    "CREATED = [\"version\", \"changeset\", \"timestamp\", \"user\", \"uid\"]\n",
    "\n",
    "def ensure_key_value(_dict, key, val):\n",
    "    if key not in _dict:\n",
    "        _dict[key] = val\n",
    "    return _dict[key]\n",
    "\n",
    "STATE_MAPPING = {\n",
    "    'delhi': 'DL',\n",
    "    'uttar pradesh': 'UP',\n",
    "    'u.p.': 'UP',\n",
    "    'ncr': 'DL'\n",
    "}\n",
    "\n",
    "CITY_MAPPING = {\n",
    "    'gurugram': 'Gurgaon',\n",
    "    'gurgram': 'Gurgaon',\n",
    "    'faridabad': 'Faridabad',\n",
    "    'delh': 'Delhi',\n",
    "    'new delhi': 'Delhi',\n",
    "    'neew delhi': 'Delhi',\n",
    "    'delhi': 'Delhi',\n",
    "    'old delhi': 'Delhi',\n",
    "    'noida': 'Noida',\n",
    "    'greater noida': 'Noida',\n",
    "    'ghaziabad': 'Ghaziabad',\n",
    "    'bahadurgarh': 'Bahadurgarh',\n",
    "    'meerut': 'Meerut'\n",
    "}\n",
    "\n",
    "\n",
    "\n",
    "CITY_TO_STATE = {\n",
    "    'Gurgaon': 'HR',\n",
    "    'Faridabad': 'HR',\n",
    "    'Delhi': 'DL',\n",
    "    'Noida': 'UP',\n",
    "    'Ghaziabad': 'UP',\n",
    "    'Bahadurgarh': 'HR',\n",
    "    'Meerut': 'UP'\n",
    "}\n",
    "\n",
    "\n",
    "def fix_address_value(address_type, value):\n",
    "    \n",
    "    def if_lower_in_mapping_then_replace(value, mapping):\n",
    "        if value.lower() in mapping:\n",
    "            value = mapping[value.lower()]\n",
    "        \n",
    "        if value not in set(mapping.values()):\n",
    "            #print \"{} = {}\".format(address_type, value)\n",
    "            pass\n",
    "        return value\n",
    "    \n",
    "    if address_type == 'state':\n",
    "        value = if_lower_in_mapping_then_replace(value, STATE_MAPPING)\n",
    "    elif address_type == 'city':\n",
    "        value = if_lower_in_mapping_then_replace(value, CITY_MAPPING)\n",
    "        \n",
    "    return value\n",
    "\n",
    "\n",
    "def ensure_address(element_map):\n",
    "    if 'address' not in element_map:\n",
    "        element_map['address'] = {\n",
    "                'country': 'IN'\n",
    "            }\n",
    "    return element_map['address']\n",
    "\n",
    "\n",
    "def map_city_to_states(address_map):\n",
    "    if 'city' in address_map:\n",
    "        city = address_map['city']\n",
    "        if city in CITY_TO_STATE:\n",
    "            address_map['state'] = CITY_TO_STATE[city]\n",
    "            \n",
    "\n",
    "def fix_address(element_map):\n",
    "    \"\"\"\n",
    "    After we are done with general processing of individual address fields\n",
    "    we process it as a whole\n",
    "    \"\"\"\n",
    "    address_map = ensure_address(element_map)\n",
    "    \n",
    "    map_city_to_states(address_map)\n",
    "\n",
    "\n",
    "def process_tags(element, node):\n",
    "    for tag in element.iter('tag'):\n",
    "        key = tag.attrib['k']\n",
    "        value = tag.attrib['v']\n",
    "\n",
    "        if problem_chars.search(key):\n",
    "            continue\n",
    "\n",
    "        if key.startswith(\"addr:\"):\n",
    "            _parts = key.split(\":\")\n",
    "            if len(_parts) > 2:\n",
    "                continue\n",
    "\n",
    "            obj = ensure_key_value(node, 'address', {})\n",
    "\n",
    "            address_type = _parts[1]\n",
    "            value = fix_address_value(address_type, value)\n",
    "\n",
    "            obj[address_type] = value\n",
    "        else:\n",
    "            node[key] = value\n",
    "\n",
    "    fix_address(node)\n",
    "\n",
    "def shape_element(element):\n",
    "    \"\"\"\n",
    "    Takes an element and shapes it to be ready for insertion into the database\n",
    "    \"\"\"\n",
    "    node = {}\n",
    "\n",
    "    if element.tag == \"node\" or element.tag == \"way\":\n",
    "\n",
    "        node['type'] = element.tag\n",
    "        process_tags(element, node)\n",
    "        \n",
    "        for nd in element.iter('nd'):\n",
    "            obj = ensure_key_value(node, 'node_refs', [])\n",
    "            obj.append(nd.attrib['ref'])\n",
    "\n",
    "        for key, value in element.attrib.iteritems():\n",
    "            if key in CREATED:\n",
    "                ensure_key_value(node, 'created', {})\n",
    "                node['created'][key] = value\n",
    "            elif key == 'lat':\n",
    "                ensure_key_value(node, 'pos', [0, 0])\n",
    "                node['pos'][0] = float(value)\n",
    "            elif key == 'lon':\n",
    "                ensure_key_value(node, 'pos', [0, 0])\n",
    "                node['pos'][1] = float(value)\n",
    "            else:\n",
    "                node[key] = value\n",
    "\n",
    "        return node\n",
    "    else:\n",
    "        return None"
   ]
  },
  {
   "cell_type": "code",
   "execution_count": 13,
   "metadata": {
    "collapsed": false
   },
   "outputs": [],
   "source": [
    "for element in get_element(OSM_FILE):\n",
    "    node = shape_element(element)"
   ]
  },
  {
   "cell_type": "code",
   "execution_count": 5,
   "metadata": {
    "collapsed": true
   },
   "outputs": [],
   "source": [
    "import pprint\n",
    "\n",
    "def get_client():\n",
    "    from pymongo import MongoClient\n",
    "    return MongoClient('mongodb://localhost:27017/')\n",
    "    \n",
    "def get_collection():    \n",
    "    collection = get_client().examples.osm\n",
    "    return collection"
   ]
  },
  {
   "cell_type": "markdown",
   "metadata": {},
   "source": [
    "# Let's load data"
   ]
  },
  {
   "cell_type": "code",
   "execution_count": 9,
   "metadata": {
    "collapsed": false
   },
   "outputs": [],
   "source": [
    "import codecs\n",
    "import json\n",
    "\n",
    "def process_map(file_in, pretty = False):\n",
    "    \"\"\"\n",
    "    Saves file as a json ready for insertion into mongoDB using mongoimport\n",
    "    \"\"\"\n",
    "    # You do not need to change this file\n",
    "    file_out = \"{0}.json\".format(file_in)\n",
    "    #data = []\n",
    "    with codecs.open(file_out, \"w\") as fo:\n",
    "        for element in get_element(file_in):\n",
    "            el = shape_element(element)\n",
    "            if el:\n",
    "                #data.append(el)\n",
    "                if pretty:\n",
    "                    fo.write(json.dumps(el, indent=2)+\"\\n\")\n",
    "                else:\n",
    "                    fo.write(json.dumps(el) + \"\\n\")\n",
    "    #return data"
   ]
  },
  {
   "cell_type": "code",
   "execution_count": 10,
   "metadata": {
    "collapsed": false,
    "scrolled": true
   },
   "outputs": [
    {
     "name": "stdout",
     "output_type": "stream",
     "text": [
      "bigger address addr:housename:source\n",
      "bigger address addr:housename:source\n",
      "bigger address addr:housename:source\n"
     ]
    }
   ],
   "source": [
    "process_map(OSM_FILE)"
   ]
  },
  {
   "cell_type": "code",
   "execution_count": 6,
   "metadata": {
    "collapsed": false
   },
   "outputs": [
    {
     "data": {
      "text/plain": [
       "4063611"
      ]
     },
     "execution_count": 6,
     "metadata": {},
     "output_type": "execute_result"
    }
   ],
   "source": [
    "collection = get_collection()\n",
    "collection.count()"
   ]
  },
  {
   "cell_type": "markdown",
   "metadata": {},
   "source": [
    "## Number of unique users"
   ]
  },
  {
   "cell_type": "code",
   "execution_count": 71,
   "metadata": {
    "collapsed": false
   },
   "outputs": [
    {
     "data": {
      "text/plain": [
       "953"
      ]
     },
     "execution_count": 71,
     "metadata": {},
     "output_type": "execute_result"
    }
   ],
   "source": [
    "len(collection.distinct(\"created.user\"))"
   ]
  },
  {
   "cell_type": "markdown",
   "metadata": {},
   "source": [
    "Not a lot of users seem to be contributing to India's map"
   ]
  },
  {
   "cell_type": "markdown",
   "metadata": {},
   "source": [
    "# Analysis start"
   ]
  },
  {
   "cell_type": "code",
   "execution_count": 1,
   "metadata": {
    "collapsed": true
   },
   "outputs": [],
   "source": [
    "# some helper functions for running mongo DB queries\n",
    "\n",
    "def aggregate_to_list(collection, query):\n",
    "    result = collection.aggregate(query)\n",
    "    return list(r for r in result)\n",
    "\n",
    "def aggregate_and_show(collection, query, limit = True):\n",
    "    _query = query[:]\n",
    "    if limit:\n",
    "        _query.append({\"$limit\": 5})\n",
    "\n",
    "    pprint.pprint(aggregate_to_list(collection, query))\n",
    "    \n",
    "def aggregate(query):\n",
    "    aggregate_and_show(collection, query, False)\n",
    "    \n",
    "def aggregate_distincts(field, limit = False):\n",
    "    query = [\n",
    "            {\"$match\": {field: {\"$exists\": 1}}},\n",
    "            {\"$group\": {\"_id\": \"$\" + field,\n",
    "                        \"count\": {\"$sum\": 1}}},\n",
    "            {\"$sort\": {\"count\": -1}}\n",
    "        ]\n",
    "    if limit:\n",
    "        query.append({\"$limit\": 10})\n",
    "    aggregate(query)"
   ]
  },
  {
   "cell_type": "markdown",
   "metadata": {},
   "source": [
    "### How much people are contributing"
   ]
  },
  {
   "cell_type": "code",
   "execution_count": 73,
   "metadata": {
    "collapsed": false
   },
   "outputs": [],
   "source": [
    "def contribution_of_top(n):\n",
    "    result = aggregate_to_list(collection, [\n",
    "            {\"$group\": {\"_id\": \"$created.user\",\n",
    "                        \"count\": {\"$sum\": 1}}},\n",
    "            {\"$sort\": {\"count\": -1}},\n",
    "            {\"$limit\": n},\n",
    "            {\"$group\": {\"_id\": 1,\n",
    "                        \"count\": {\"$sum\": \"$count\"}}}\n",
    "    ])\n",
    "    \n",
    "    return result[0]['count']\n",
    "\n",
    "def contributions_of(top):\n",
    "    \"\"\"\n",
    "    Given a list of numbers returns a dictionary of contributions of those number of user \n",
    "    \"\"\"\n",
    "    result = {}\n",
    "    for count in top:\n",
    "        result[count] = float(contribution_of_top(count) * 100)  / collection.count()\n",
    "    return result"
   ]
  },
  {
   "cell_type": "code",
   "execution_count": 75,
   "metadata": {
    "collapsed": false
   },
   "outputs": [
    {
     "name": "stdout",
     "output_type": "stream",
     "text": [
      "{1: 6.18341667054253,\n",
      " 5: 20.902025316891798,\n",
      " 15: 48.18089133039555,\n",
      " 30: 74.26864923832522,\n",
      " 50: 90.9610688621524}\n"
     ]
    }
   ],
   "source": [
    "pprint.pprint(contributions_of([1, 5, 15, 30, 50]))"
   ]
  },
  {
   "cell_type": "markdown",
   "metadata": {},
   "source": [
    "Out of 953 total users \n",
    "- top 5 users have contributed 20%\n",
    "- top 15 users have contributed 50%\n",
    "- top 40 users have contributed 75%\n",
    "- top 50 users have contributed 90%"
   ]
  },
  {
   "cell_type": "markdown",
   "metadata": {},
   "source": [
    "### Top contributing users"
   ]
  },
  {
   "cell_type": "code",
   "execution_count": 78,
   "metadata": {
    "collapsed": false
   },
   "outputs": [
    {
     "name": "stdout",
     "output_type": "stream",
     "text": [
      "[{u'_id': u'Oberaffe', u'count': 251270},\n",
      " {u'_id': u'premkumar', u'count': 165252},\n",
      " {u'_id': u'saikumar', u'count': 160227},\n",
      " {u'_id': u'Naresh08', u'count': 137957},\n",
      " {u'_id': u'anushap', u'count': 134671},\n",
      " {u'_id': u'sdivya', u'count': 130198},\n",
      " {u'_id': u'anthony1', u'count': 126172},\n",
      " {u'_id': u'himabindhu', u'count': 124236},\n",
      " {u'_id': u'sathishshetty', u'count': 122461},\n",
      " {u'_id': u'Apreethi', u'count': 114575}]\n"
     ]
    }
   ],
   "source": [
    "aggregate([\n",
    "        {\"$group\": {\"_id\": \"$created.user\",\n",
    "                    \"count\": {\"$sum\": 1}}},\n",
    "        {\"$sort\": {\"count\": -1}},\n",
    "        {\"$limit\": 10}\n",
    "    ])"
   ]
  },
  {
   "cell_type": "markdown",
   "metadata": {},
   "source": [
    "### Number of users making only 1 contribution"
   ]
  },
  {
   "cell_type": "code",
   "execution_count": 103,
   "metadata": {
    "collapsed": false
   },
   "outputs": [
    {
     "name": "stdout",
     "output_type": "stream",
     "text": [
      "[{u'_id': 1, u'num_users': 191}]\n"
     ]
    }
   ],
   "source": [
    "aggregate([\n",
    "        {\"$group\": {\"_id\": \"$created.user\",\n",
    "                    \"count\": {\"$sum\": 1}}},\n",
    "        {\"$group\": {\"_id\": \"$count\", \n",
    "                    \"num_users\": {\"$sum\": 1}}},\n",
    "        {\"$sort\": {\"_id\": 1}},\n",
    "        {\"$limit\": 1}\n",
    "    ])"
   ]
  },
  {
   "cell_type": "markdown",
   "metadata": {},
   "source": [
    "### Number of nodes and ways"
   ]
  },
  {
   "cell_type": "code",
   "execution_count": 58,
   "metadata": {
    "collapsed": false
   },
   "outputs": [
    {
     "data": {
      "text/plain": [
       "3374750"
      ]
     },
     "execution_count": 58,
     "metadata": {},
     "output_type": "execute_result"
    }
   ],
   "source": [
    "collection.count({\"type\":\"node\"})"
   ]
  },
  {
   "cell_type": "code",
   "execution_count": 60,
   "metadata": {
    "collapsed": false
   },
   "outputs": [
    {
     "data": {
      "text/plain": [
       "688861"
      ]
     },
     "execution_count": 60,
     "metadata": {},
     "output_type": "execute_result"
    }
   ],
   "source": [
    "collection.count({\"type\":\"way\"})"
   ]
  },
  {
   "cell_type": "markdown",
   "metadata": {},
   "source": [
    "## Looking at the other problems in the data\n",
    "\n",
    "### Country"
   ]
  },
  {
   "cell_type": "code",
   "execution_count": 82,
   "metadata": {
    "collapsed": false
   },
   "outputs": [
    {
     "data": {
      "text/plain": [
       "[u'IN']"
      ]
     },
     "execution_count": 82,
     "metadata": {},
     "output_type": "execute_result"
    }
   ],
   "source": [
    "collection.distinct(\"address.country\")"
   ]
  },
  {
   "cell_type": "markdown",
   "metadata": {},
   "source": [
    "Country is correct. \n",
    "\n",
    "### State\n",
    "\n",
    "It is possible that the state is not a single one for New Delhi because the map of what we call \"New Delhi\" is usually of \"National Capital Region\" which includes New Delhi and some adjoining cities."
   ]
  },
  {
   "cell_type": "code",
   "execution_count": 66,
   "metadata": {
    "collapsed": false
   },
   "outputs": [
    {
     "data": {
      "text/plain": [
       "[u'DL', u'UP']"
      ]
     },
     "execution_count": 66,
     "metadata": {},
     "output_type": "execute_result"
    }
   ],
   "source": [
    "collection.distinct(\"address.state\")"
   ]
  },
  {
   "cell_type": "markdown",
   "metadata": {},
   "source": [
    "- Delhi, DL mean the same thing\n",
    "- UP, uttar pradesh, U.P. mean the same thing\n",
    "- NCR is not a city but a region encompassing many cities\n",
    "\n",
    "Let's look at the cases where state is mentioned as NCR. That will need to fixed on a case to case basis rather than a simple mapping"
   ]
  },
  {
   "cell_type": "code",
   "execution_count": 89,
   "metadata": {
    "collapsed": false
   },
   "outputs": [],
   "source": [
    "ncr_cases = list(r for r in collection.find({\"address.state\": \"NCR\"}))"
   ]
  },
  {
   "cell_type": "code",
   "execution_count": 94,
   "metadata": {
    "collapsed": true
   },
   "outputs": [
    {
     "data": {
      "text/plain": [
       "[{u'_id': ObjectId('57cd648ab366e2ec273eddfe'),\n",
       "  u'address': {u'city': u'New Delhi',\n",
       "   u'country': u'IN',\n",
       "   u'housenumber': u'279',\n",
       "   u'state': u'NCR',\n",
       "   u'street': u'NIT'},\n",
       "  u'created': {u'changeset': u'8017112',\n",
       "   u'timestamp': u'2011-05-01T00:30:50Z',\n",
       "   u'uid': u'5456',\n",
       "   u'user': u'H_S_Rai',\n",
       "   u'version': u'2'},\n",
       "  u'id': u'1267734091',\n",
       "  u'pos': [28.5676165, 77.1988599],\n",
       "  u'type': u'node'},\n",
       " {u'_id': ObjectId('57cd648ab366e2ec273ede01'),\n",
       "  u'address': {u'city': u'New Delhi',\n",
       "   u'country': u'IN',\n",
       "   u'housenumber': u'263',\n",
       "   u'state': u'NCR',\n",
       "   u'street': u'NIT'},\n",
       "  u'created': {u'changeset': u'8017112',\n",
       "   u'timestamp': u'2011-05-01T00:30:50Z',\n",
       "   u'uid': u'5456',\n",
       "   u'user': u'H_S_Rai',\n",
       "   u'version': u'2'},\n",
       "  u'id': u'1267734104',\n",
       "  u'pos': [28.5689172, 77.1987795],\n",
       "  u'type': u'node'},\n",
       " {u'_id': ObjectId('57cd648ab366e2ec273ede25'),\n",
       "  u'address': {u'city': u'New Delhi',\n",
       "   u'country': u'IN',\n",
       "   u'housenumber': u'275',\n",
       "   u'state': u'NCR',\n",
       "   u'street': u'NIT'},\n",
       "  u'created': {u'changeset': u'8017112',\n",
       "   u'timestamp': u'2011-05-01T00:30:48Z',\n",
       "   u'uid': u'5456',\n",
       "   u'user': u'H_S_Rai',\n",
       "   u'version': u'1'},\n",
       "  u'id': u'1268299728',\n",
       "  u'pos': [28.5679417, 77.1988398],\n",
       "  u'type': u'node'},\n",
       " {u'_id': ObjectId('57cd648ab366e2ec273ede26'),\n",
       "  u'address': {u'city': u'New Delhi',\n",
       "   u'country': u'IN',\n",
       "   u'housenumber': u'278',\n",
       "   u'state': u'NCR',\n",
       "   u'street': u'NIT'},\n",
       "  u'created': {u'changeset': u'8017112',\n",
       "   u'timestamp': u'2011-05-01T00:30:48Z',\n",
       "   u'uid': u'5456',\n",
       "   u'user': u'H_S_Rai',\n",
       "   u'version': u'1'},\n",
       "  u'id': u'1268299731',\n",
       "  u'pos': [28.5676978, 77.1988548],\n",
       "  u'type': u'node'},\n",
       " {u'_id': ObjectId('57cd648ab366e2ec273ede27'),\n",
       "  u'address': {u'city': u'New Delhi',\n",
       "   u'country': u'IN',\n",
       "   u'housenumber': u'273',\n",
       "   u'state': u'NCR',\n",
       "   u'street': u'NIT'},\n",
       "  u'created': {u'changeset': u'8017112',\n",
       "   u'timestamp': u'2011-05-01T00:30:49Z',\n",
       "   u'uid': u'5456',\n",
       "   u'user': u'H_S_Rai',\n",
       "   u'version': u'1'},\n",
       "  u'id': u'1268299732',\n",
       "  u'pos': [28.5681043, 77.1988297],\n",
       "  u'type': u'node'},\n",
       " {u'_id': ObjectId('57cd648ab366e2ec273ede28'),\n",
       "  u'address': {u'city': u'New Delhi',\n",
       "   u'country': u'IN',\n",
       "   u'housenumber': u'270',\n",
       "   u'state': u'NCR',\n",
       "   u'street': u'NIT'},\n",
       "  u'created': {u'changeset': u'8017112',\n",
       "   u'timestamp': u'2011-05-01T00:30:48Z',\n",
       "   u'uid': u'5456',\n",
       "   u'user': u'H_S_Rai',\n",
       "   u'version': u'1'},\n",
       "  u'id': u'1268299729',\n",
       "  u'pos': [28.5683482, 77.1988147],\n",
       "  u'type': u'node'},\n",
       " {u'_id': ObjectId('57cd648ab366e2ec273ede29'),\n",
       "  u'address': {u'city': u'New Delhi',\n",
       "   u'country': u'IN',\n",
       "   u'housenumber': u'268',\n",
       "   u'state': u'NCR',\n",
       "   u'street': u'NIT'},\n",
       "  u'created': {u'changeset': u'8017112',\n",
       "   u'timestamp': u'2011-05-01T00:30:49Z',\n",
       "   u'uid': u'5456',\n",
       "   u'user': u'H_S_Rai',\n",
       "   u'version': u'1'},\n",
       "  u'id': u'1268299733',\n",
       "  u'pos': [28.5685107, 77.1988046],\n",
       "  u'type': u'node'},\n",
       " {u'_id': ObjectId('57cd648ab366e2ec273ede2a'),\n",
       "  u'address': {u'city': u'New Delhi',\n",
       "   u'country': u'IN',\n",
       "   u'housenumber': u'276',\n",
       "   u'state': u'NCR',\n",
       "   u'street': u'NIT'},\n",
       "  u'created': {u'changeset': u'8017112',\n",
       "   u'timestamp': u'2011-05-01T00:30:49Z',\n",
       "   u'uid': u'5456',\n",
       "   u'user': u'H_S_Rai',\n",
       "   u'version': u'1'},\n",
       "  u'id': u'1268299734',\n",
       "  u'pos': [28.5678604, 77.1988448],\n",
       "  u'type': u'node'},\n",
       " {u'_id': ObjectId('57cd648ab366e2ec273ede2b'),\n",
       "  u'address': {u'city': u'New Delhi',\n",
       "   u'country': u'IN',\n",
       "   u'housenumber': u'271',\n",
       "   u'state': u'NCR',\n",
       "   u'street': u'NIT'},\n",
       "  u'created': {u'changeset': u'8017112',\n",
       "   u'timestamp': u'2011-05-01T00:30:49Z',\n",
       "   u'uid': u'5456',\n",
       "   u'user': u'H_S_Rai',\n",
       "   u'version': u'1'},\n",
       "  u'id': u'1268299735',\n",
       "  u'pos': [28.5682669, 77.1988197],\n",
       "  u'type': u'node'},\n",
       " {u'_id': ObjectId('57cd648ab366e2ec273ede2c'),\n",
       "  u'address': {u'city': u'New Delhi',\n",
       "   u'country': u'IN',\n",
       "   u'housenumber': u'265',\n",
       "   u'state': u'NCR',\n",
       "   u'street': u'NIT'},\n",
       "  u'created': {u'changeset': u'8017112',\n",
       "   u'timestamp': u'2011-05-01T00:30:48Z',\n",
       "   u'uid': u'5456',\n",
       "   u'user': u'H_S_Rai',\n",
       "   u'version': u'1'},\n",
       "  u'id': u'1268299730',\n",
       "  u'pos': [28.5687546, 77.1987895],\n",
       "  u'type': u'node'},\n",
       " {u'_id': ObjectId('57cd648ab366e2ec273ede2d'),\n",
       "  u'address': {u'city': u'New Delhi',\n",
       "   u'country': u'IN',\n",
       "   u'housenumber': u'266',\n",
       "   u'state': u'NCR',\n",
       "   u'street': u'NIT'},\n",
       "  u'created': {u'changeset': u'8017112',\n",
       "   u'timestamp': u'2011-05-01T00:30:49Z',\n",
       "   u'uid': u'5456',\n",
       "   u'user': u'H_S_Rai',\n",
       "   u'version': u'1'},\n",
       "  u'id': u'1268299736',\n",
       "  u'pos': [28.5686733, 77.1987946],\n",
       "  u'type': u'node'},\n",
       " {u'_id': ObjectId('57cd648ab366e2ec273ede2e'),\n",
       "  u'address': {u'city': u'New Delhi',\n",
       "   u'country': u'IN',\n",
       "   u'housenumber': u'264',\n",
       "   u'state': u'NCR',\n",
       "   u'street': u'NIT'},\n",
       "  u'created': {u'changeset': u'8017112',\n",
       "   u'timestamp': u'2011-05-01T00:30:49Z',\n",
       "   u'uid': u'5456',\n",
       "   u'user': u'H_S_Rai',\n",
       "   u'version': u'1'},\n",
       "  u'id': u'1268299739',\n",
       "  u'pos': [28.5688359, 77.1987845],\n",
       "  u'type': u'node'},\n",
       " {u'_id': ObjectId('57cd648ab366e2ec273ede2f'),\n",
       "  u'address': {u'city': u'New Delhi',\n",
       "   u'country': u'IN',\n",
       "   u'housenumber': u'277',\n",
       "   u'state': u'NCR',\n",
       "   u'street': u'NIT'},\n",
       "  u'created': {u'changeset': u'8017112',\n",
       "   u'timestamp': u'2011-05-01T00:30:49Z',\n",
       "   u'uid': u'5456',\n",
       "   u'user': u'H_S_Rai',\n",
       "   u'version': u'1'},\n",
       "  u'id': u'1268299740',\n",
       "  u'pos': [28.5677791, 77.1988498],\n",
       "  u'type': u'node'},\n",
       " {u'_id': ObjectId('57cd648ab366e2ec273ede30'),\n",
       "  u'address': {u'city': u'New Delhi',\n",
       "   u'country': u'IN',\n",
       "   u'housenumber': u'272',\n",
       "   u'state': u'NCR',\n",
       "   u'street': u'NIT'},\n",
       "  u'created': {u'changeset': u'8017112',\n",
       "   u'timestamp': u'2011-05-01T00:30:49Z',\n",
       "   u'uid': u'5456',\n",
       "   u'user': u'H_S_Rai',\n",
       "   u'version': u'1'},\n",
       "  u'id': u'1268299741',\n",
       "  u'pos': [28.5681856, 77.1988247],\n",
       "  u'type': u'node'},\n",
       " {u'_id': ObjectId('57cd648ab366e2ec273ede33'),\n",
       "  u'address': {u'city': u'New Delhi',\n",
       "   u'country': u'IN',\n",
       "   u'housenumber': u'269',\n",
       "   u'state': u'NCR',\n",
       "   u'street': u'NIT'},\n",
       "  u'created': {u'changeset': u'8017112',\n",
       "   u'timestamp': u'2011-05-01T00:30:49Z',\n",
       "   u'uid': u'5456',\n",
       "   u'user': u'H_S_Rai',\n",
       "   u'version': u'1'},\n",
       "  u'id': u'1268299738',\n",
       "  u'pos': [28.5684294, 77.1988096],\n",
       "  u'type': u'node'},\n",
       " {u'_id': ObjectId('57cd648ab366e2ec273ede34'),\n",
       "  u'address': {u'city': u'New Delhi',\n",
       "   u'country': u'IN',\n",
       "   u'housenumber': u'267',\n",
       "   u'state': u'NCR',\n",
       "   u'street': u'NIT'},\n",
       "  u'created': {u'changeset': u'8017112',\n",
       "   u'timestamp': u'2011-05-01T00:30:50Z',\n",
       "   u'uid': u'5456',\n",
       "   u'user': u'H_S_Rai',\n",
       "   u'version': u'1'},\n",
       "  u'id': u'1268299742',\n",
       "  u'pos': [28.568592, 77.1987996],\n",
       "  u'type': u'node'},\n",
       " {u'_id': ObjectId('57cd648ab366e2ec273ede35'),\n",
       "  u'address': {u'city': u'New Delhi',\n",
       "   u'country': u'IN',\n",
       "   u'housenumber': u'145',\n",
       "   u'state': u'NCR',\n",
       "   u'street': u'NIT'},\n",
       "  u'created': {u'changeset': u'8017125',\n",
       "   u'timestamp': u'2011-05-01T00:35:53Z',\n",
       "   u'uid': u'5456',\n",
       "   u'user': u'H_S_Rai',\n",
       "   u'version': u'1'},\n",
       "  u'id': u'1268300229',\n",
       "  u'pos': [28.5675465, 77.1960276],\n",
       "  u'type': u'node'},\n",
       " {u'_id': ObjectId('57cd648ab366e2ec273ede37'),\n",
       "  u'address': {u'city': u'New Delhi',\n",
       "   u'country': u'IN',\n",
       "   u'housenumber': u'274',\n",
       "   u'state': u'NCR',\n",
       "   u'street': u'NIT'},\n",
       "  u'created': {u'changeset': u'8017112',\n",
       "   u'timestamp': u'2011-05-01T00:30:49Z',\n",
       "   u'uid': u'5456',\n",
       "   u'user': u'H_S_Rai',\n",
       "   u'version': u'1'},\n",
       "  u'id': u'1268299737',\n",
       "  u'pos': [28.568023, 77.1988348],\n",
       "  u'type': u'node'},\n",
       " {u'_id': ObjectId('57cd648ab366e2ec273ede3b'),\n",
       "  u'address': {u'city': u'New Delhi',\n",
       "   u'country': u'IN',\n",
       "   u'housenumber': u'118',\n",
       "   u'state': u'NCR',\n",
       "   u'street': u'NIT'},\n",
       "  u'created': {u'changeset': u'8017132',\n",
       "   u'timestamp': u'2011-05-01T00:38:22Z',\n",
       "   u'uid': u'5456',\n",
       "   u'user': u'H_S_Rai',\n",
       "   u'version': u'1'},\n",
       "  u'id': u'1268300460',\n",
       "  u'pos': [28.5668484, 77.1990527],\n",
       "  u'type': u'node'},\n",
       " {u'_id': ObjectId('57cd648ab366e2ec273ede3d'),\n",
       "  u'address': {u'city': u'New Delhi',\n",
       "   u'country': u'IN',\n",
       "   u'housenumber': u'282',\n",
       "   u'state': u'NCR',\n",
       "   u'street': u'NIT'},\n",
       "  u'created': {u'changeset': u'8017132',\n",
       "   u'timestamp': u'2011-05-01T00:38:22Z',\n",
       "   u'uid': u'5456',\n",
       "   u'user': u'H_S_Rai',\n",
       "   u'version': u'1'},\n",
       "  u'id': u'1268300463',\n",
       "  u'pos': [28.5668455, 77.1988184],\n",
       "  u'type': u'node'}]"
      ]
     },
     "execution_count": 94,
     "metadata": {},
     "output_type": "execute_result"
    }
   ],
   "source": [
    "ncr_cases"
   ]
  },
  {
   "cell_type": "code",
   "execution_count": 90,
   "metadata": {
    "collapsed": false
   },
   "outputs": [
    {
     "data": {
      "text/plain": [
       "20"
      ]
     },
     "execution_count": 90,
     "metadata": {},
     "output_type": "execute_result"
    }
   ],
   "source": [
    "len(ncr_cases)"
   ]
  },
  {
   "cell_type": "markdown",
   "metadata": {},
   "source": [
    "These are small number of cases so probably done by the same user"
   ]
  },
  {
   "cell_type": "code",
   "execution_count": 93,
   "metadata": {
    "collapsed": false
   },
   "outputs": [
    {
     "data": {
      "text/plain": [
       "{u'H_S_Rai'}"
      ]
     },
     "execution_count": 93,
     "metadata": {},
     "output_type": "execute_result"
    }
   ],
   "source": [
    "set(element['created']['user'] for element in ncr_cases)"
   ]
  },
  {
   "cell_type": "markdown",
   "metadata": {},
   "source": [
    "My thoughts were right. Looking at the data, all the cases are in New Delhi so I can map these to New Delhi.\n",
    "\n",
    "So to clean this data I can map \n",
    "- [u'Delhi', u'DL', u'NCR'] => u'DL'\n",
    "- [u'UP', u'uttar pradesh', u'U.P.'] => u'UP'"
   ]
  },
  {
   "cell_type": "code",
   "execution_count": 82,
   "metadata": {
    "collapsed": false,
    "scrolled": true
   },
   "outputs": [
    {
     "data": {
      "text/plain": [
       "[u'Gurgaon',\n",
       " u'Delhi',\n",
       " u'Sohna Road',\n",
       " u'Ghaziabad',\n",
       " u'Noida',\n",
       " u'Shahbad Daulatpur, Delhi',\n",
       " u'Meerut',\n",
       " u'Pandav Nagar, New Delhi',\n",
       " u'Gurgaon, Haryana',\n",
       " u'Faridabad',\n",
       " u'Uttar Pradesh',\n",
       " u'Pitam Pura, New Delhi',\n",
       " u'Noida , Uttar Pradesh',\n",
       " u'Hira Colony, Siraspur, Delhi',\n",
       " u'Pratap Colony, Siraspur, Delhi',\n",
       " u'Sector - 10, Rohini,, Delhi',\n",
       " u'Sector-11, Rohini, Delhi',\n",
       " u'Sector - 12, Rohini, Delhi',\n",
       " u'Libaspur, Delhi',\n",
       " u'Alipur, Delhi',\n",
       " u'Siraspur, Delhi',\n",
       " u'Mukhrejee Nagar, Delhi',\n",
       " u'Naya Band, Khera',\n",
       " u'Sector - 5, Rohini, Delhi',\n",
       " u'West Karawal Nagar, New Delhi',\n",
       " u'Noida (U.P)',\n",
       " u'Muradnagar',\n",
       " u'Dwarka',\n",
       " u'ad',\n",
       " u'Indirapuram',\n",
       " u'Nueva Delhi',\n",
       " u'Bahadurgarh',\n",
       " u'Bijwasan',\n",
       " u'Khekra',\n",
       " u'Badli Industrial Area, Badli, Delhi',\n",
       " u'Rohini, Delhi',\n",
       " u'Sector - 15, Rohini, Delhi',\n",
       " u'Ghaziabazd',\n",
       " u'Austin',\n",
       " u'Sahibabad, Ghaziabad',\n",
       " u'Janakpuri',\n",
       " u'Sector- 10, Rohini, Delhi',\n",
       " u'Sector - 17, Rohini, Delhi',\n",
       " u'Sector - 28, Rohini, Delhi',\n",
       " u'Rohini Delhi',\n",
       " u'Sector - 11, Rohini, Delhi',\n",
       " u'Chanakyapuri, New Delhi',\n",
       " u'Gaziabad',\n",
       " u'Dadri',\n",
       " u'Sector 32 (Pi 1) Greater Noida',\n",
       " u'Ghaziabad, UP, India',\n",
       " u'Village- Barola, Sector- 49, Noida',\n",
       " u'Sohna-Gurgaon',\n",
       " u'Damdama']"
      ]
     },
     "execution_count": 82,
     "metadata": {},
     "output_type": "execute_result"
    }
   ],
   "source": [
    "collection.distinct(\"address.city\")"
   ]
  },
  {
   "cell_type": "markdown",
   "metadata": {},
   "source": [
    "I was hoping that as this is a map of Delhi the city will be Delhi, Gurgaon and Faridabad. Maybe the spelling and case would be different but still only these.\n",
    "\n",
    "But this data needs to be cleaned. There are sector names, area names, state names etc. which should not have been there."
   ]
  },
  {
   "cell_type": "code",
   "execution_count": 83,
   "metadata": {
    "collapsed": false
   },
   "outputs": [
    {
     "data": {
      "text/plain": [
       "[u'Block A1',\n",
       " u'Old Delhi Gurgaon Road',\n",
       " u'Sujan Singh Park, Subramania Bharti Marg,Behind Khan Market',\n",
       " u'Abul Fazal Road',\n",
       " u'Aurangzeb Road',\n",
       " u'Bhavani Kunj, Vasant Kunj',\n",
       " u'Block B',\n",
       " u'South City 2',\n",
       " u'Sushant Lok',\n",
       " u'Block A',\n",
       " u'DDA Flats, Munirka',\n",
       " u'Sector 46',\n",
       " u'South City II',\n",
       " u'5a , Ansari Road',\n",
       " u'Sector 17C',\n",
       " u'Pamposh Road',\n",
       " u'h/no 1/55 sadar bazar delhi cantt 10',\n",
       " u'Main Bazaar',\n",
       " u'S1',\n",
       " u'Palam Vihar',\n",
       " u'SDF',\n",
       " u'Vinay Marg',\n",
       " u'Neeti Khand III',\n",
       " u'Sector 65',\n",
       " u'janakpuri',\n",
       " u'DCE College',\n",
       " u'NIT',\n",
       " u'Panchsheel Colony',\n",
       " u'swami Narayan Marg, Ashok vihar',\n",
       " u'Najafgarh Road (Next to the Tilak Nagar Police Station)',\n",
       " u'Ajmal Khan Road, Karol Bagh',\n",
       " u'Hudson Lines, Kingsway Camp',\n",
       " u'Janpath',\n",
       " u'Sham Nath Marg',\n",
       " u'Golf course',\n",
       " u'H33, Bali Nagar',\n",
       " u'Dwarka',\n",
       " u'chaudhary fateh singh marg',\n",
       " u'649-6th Floor, Tower A Spaze iTechPark',\n",
       " u'Arakashan Road',\n",
       " u'Lohia Nagar',\n",
       " u'Sushant Lok 2',\n",
       " u'Chander Nagar',\n",
       " u'Gali No. 1',\n",
       " u'Saraswati Vihar',\n",
       " u'Sector 16 NOIDA',\n",
       " u'UDSC',\n",
       " u'170, Phase-1 Udyog Vihar',\n",
       " u'I.P.Extension',\n",
       " u'rail vihar',\n",
       " u'G-7 Sector-16, Rohini,Delhi',\n",
       " u'Windmill Place',\n",
       " u'shastri nagar',\n",
       " u'Bahadur shah Zafar Marg',\n",
       " u'Dr. Bishamber das marg',\n",
       " u'gali no 5',\n",
       " u'gali number 9',\n",
       " u'W-1 Lane',\n",
       " u'Pankha Road',\n",
       " u'40,arunodaya appts vikaspuri',\n",
       " u'Mohan Nagar Link Road',\n",
       " u'Lodi Road',\n",
       " u'MVL Coral, Alwar Bypass Road,',\n",
       " u'sector 11, block- p',\n",
       " u'Sector 12',\n",
       " u'sector 11',\n",
       " u'Green Street Society',\n",
       " u'Ahuja Sons Shalwale, Karol Bagh',\n",
       " u'26 A, 2nd Floor Hauz Khas Village Road',\n",
       " u'moti',\n",
       " u'sant kabir daas',\n",
       " u'Shastri Nagar',\n",
       " u'DLF Phase 4',\n",
       " u'delhi',\n",
       " u'Safdarjung Enclave',\n",
       " u'Chuna Mandi, Paharganj',\n",
       " u'Sector-63',\n",
       " u'Greater Noida',\n",
       " u'Shipra Sun City Road',\n",
       " u'south city 1',\n",
       " u'sai nagar 4',\n",
       " u'Lodhi Estate',\n",
       " u'dilshad garden',\n",
       " u'DLF Phase 2',\n",
       " u'sector 120',\n",
       " u'Naoroji Nagar Market',\n",
       " u'Hauz Khas Village Road',\n",
       " u'Khan Market',\n",
       " u'South Extension',\n",
       " u'Gandhi Vihar',\n",
       " u'110/105',\n",
       " u'Sec-8',\n",
       " u'Lodhi Road',\n",
       " u'new friends colony',\n",
       " u'South End Road',\n",
       " u'Chattarpur Main Road',\n",
       " u'Greater Kailash 1',\n",
       " u'sector 37, Faridabad',\n",
       " u'Vasundhara Enclave',\n",
       " u'noida',\n",
       " u'Udyog Vihar Phase -1',\n",
       " u'shankar vihar',\n",
       " u'ansari road',\n",
       " u'Sector 27A',\n",
       " u'Karol Bagh',\n",
       " u'Vaishali Road',\n",
       " u'Carterpuri Village',\n",
       " u'Defence Colony Market',\n",
       " u'Sanjay Nagar',\n",
       " u'Ansal Majestic Tower, Vikaspuri',\n",
       " u'Noida',\n",
       " u'Complex Pitampura',\n",
       " u'Amrita Shergil Marg',\n",
       " u'Amrita Shergil Lane',\n",
       " u'AP Market, shop no.41, Maurya Enclave',\n",
       " u'Netaji Subhash Chandra Bose Road',\n",
       " u'Sector 43',\n",
       " u'Radial Road 6',\n",
       " u'B-Block, Sector 63',\n",
       " u'Sector-29, Near Vyapar Kendra',\n",
       " u'gurgaon',\n",
       " u'Vikas Marg',\n",
       " u'Ganga Shopping Complex',\n",
       " u'Sector-64,',\n",
       " u'Gali Chandi Wali',\n",
       " u'udhyog vihar, phase - 2, Gurgaon, Haryana',\n",
       " u'Under Hill Lane, Civil Lines',\n",
       " u'Ansari Nagar',\n",
       " u'Sadhbhawna Marg',\n",
       " u'prakash mohalla',\n",
       " u'TughlakabadNew Delhi-110044 ',\n",
       " u'Sector \\u2013 39',\n",
       " u'HPR School Main Road, Hira Colony, Siraspur, Delhi',\n",
       " u'HPR School Main Road',\n",
       " u'Siraspur Khera Road',\n",
       " u'Pratap Gali',\n",
       " u'Lower Ground Floor, Sector 45',\n",
       " u'Sardhanand College',\n",
       " u'Sector 11 Dwarka',\n",
       " u'East Gorakh Park, Shahdara',\n",
       " u'Gali No 12',\n",
       " u'Building 5, DLF City II, Sector 25',\n",
       " u'Asaf Ali Road',\n",
       " u'Mathura Road',\n",
       " u'Wazirabad Road',\n",
       " u'Loni Road',\n",
       " u'Birbal Road',\n",
       " u'Central Market, Sector 50',\n",
       " u'Kherli Hafizpur, Noida (U.P)',\n",
       " u'Kherli Hafizpur, UP',\n",
       " u'Nithnri Road',\n",
       " u'Shiv Nagar',\n",
       " u'Khanpur',\n",
       " u'Sarita Vihar',\n",
       " u'MAMURA Road',\n",
       " u'Meera Bagh',\n",
       " u'Hanuman Market Harola',\n",
       " u'Kendriya Vihar',\n",
       " u'Mayur Vihar',\n",
       " u'Dadri Road',\n",
       " u'Shree Balaji Complex',\n",
       " u'Pritampura',\n",
       " u'Sector NO. 22, nr A- 126',\n",
       " u'Sector 10',\n",
       " u'Mint Market Nankpura, Nr Moti Bagh',\n",
       " u'Bhangel',\n",
       " u'Vaishali Express Green Society',\n",
       " u'Purani Tanki, Bhangel',\n",
       " u'Dadari Road',\n",
       " u'G.B.Nagar, Bharat Ghar',\n",
       " u'Accher',\n",
       " u'Khora colony',\n",
       " u'Mamura, Gali No 5',\n",
       " u'Jalebi Chowk',\n",
       " u'Sector 47',\n",
       " u'Sector 24',\n",
       " u'Chandni Chowk',\n",
       " u'Swaroop Park',\n",
       " u'Khari Baoli Road',\n",
       " u'GT Road',\n",
       " u'Ansal majestic tower, Vikaspuri',\n",
       " u'Deshbandhu Gupta Road',\n",
       " u'Sec - 19, Poket 3, Dwarka',\n",
       " u'Bhairon Marg',\n",
       " u'Jawaharlal Nehru University',\n",
       " u'Nyaya Marg',\n",
       " u'Sector-18, Rohini',\n",
       " u'Outer Ring Road',\n",
       " u'Building Materials Market, Ecotech-II, Udyog Vihar',\n",
       " u'Hauz Rani',\n",
       " u'Road Number 59',\n",
       " u'Lothian Road, Kashmere Gate',\n",
       " u'Indra',\n",
       " u'Indra Vihar, north delhi',\n",
       " u'Batra, north delhi',\n",
       " u'Sohna Road',\n",
       " u'Choudhary Hukum Chand Marg',\n",
       " u'Sector 44',\n",
       " u'Service Road',\n",
       " u'Naya Bans, Sector 15',\n",
       " u'147',\n",
       " u'Asif Ali Road',\n",
       " u'P.O. Hasanpur Tauru, Mewat',\n",
       " u'Rama Road, Industrial Area',\n",
       " u'Anand Lok',\n",
       " u'Gali 13',\n",
       " u'A Block',\n",
       " u'sdf',\n",
       " u'Madan Mohan Malviya Marg',\n",
       " u'Dr. Sushila Naiyar Marg',\n",
       " u'Builder Area',\n",
       " u'Jal Vayu Vihar, Plot-8, Pocket-4, Builder area',\n",
       " u'August Kranti Marg',\n",
       " u'Rao Tula Ram Marg',\n",
       " u'Prithviraj Marg',\n",
       " u'Lohia nagar market, Ghaziabad 201001, up',\n",
       " u'Block G, Patel Nagar 3, Ghaziabad 201001, UP',\n",
       " u'Nabi Karim Road',\n",
       " u'Have Khas, New Delhi,  Delhi 110016',\n",
       " u'B block, lohia nagar, Ghaziabad',\n",
       " u'Sector 18',\n",
       " u'Qutab Road',\n",
       " u'24',\n",
       " u'23',\n",
       " u'Sector 22',\n",
       " u'ambedkar road',\n",
       " u'Modern Industrial Estate, Part-A',\n",
       " u'lohia nagar, Ghaziabad - 201001',\n",
       " u'Pocket-C Sidhartha Extension',\n",
       " u'Kirti Nagar',\n",
       " u'Sector Phi-02',\n",
       " u'Deshbandu Gupta Road',\n",
       " u'Connaught Place Inner Circle',\n",
       " u'Golf Course Extension Road',\n",
       " u'Golf Course Road',\n",
       " u'G-5, Sector-16, Rohini, New Delhi-110089',\n",
       " u'Sector 23A',\n",
       " u'Sector-18',\n",
       " u'100 Feet Road',\n",
       " u'Surajkund Road',\n",
       " u'Saidulajab',\n",
       " u'Westend Marg',\n",
       " u'GK-1',\n",
       " u'b-1, green wood city, sector -45',\n",
       " u'Abhay Khand II, Indirapuram ',\n",
       " u'Sector 32',\n",
       " u'rezang la marg',\n",
       " u'U-13',\n",
       " u'Guru Ravidas Mg',\n",
       " u'Ring Road',\n",
       " u'Bada Bazaar',\n",
       " u'Bada Bazar',\n",
       " u'Chota Bazar',\n",
       " u'Ashok Vihar phase-2',\n",
       " u'Sansanwal Marg',\n",
       " u'Arya Samaj Rd',\n",
       " u'Aruna Asif Ali Marg',\n",
       " u'Maulana Azad Road',\n",
       " u'Lothian Road, Kashmere gate',\n",
       " u'Sector 58',\n",
       " u'Sector 52',\n",
       " u'Phase 1 Ashok Vihar Rd, Delhi',\n",
       " u'Ashok Vihar Road',\n",
       " u'SECTOR-11',\n",
       " u'Sector - 11,',\n",
       " u'Satsang Vihar Marg',\n",
       " u'Tibetan New Camp',\n",
       " u'Sector 6',\n",
       " u'DLF City II, Sector 25',\n",
       " u'HSIIDC Industrial Estate',\n",
       " u'Sector49',\n",
       " u'Press Enclave Marg',\n",
       " u'Sector 13',\n",
       " u'Rajinder Nagar',\n",
       " u'Sector 7',\n",
       " u'Sector 56',\n",
       " u'Adhyatmik Nagar',\n",
       " u'Aurobindo Marg',\n",
       " u'Kasturba Gandhi Marg',\n",
       " u'Tees January Marg',\n",
       " u'Prachin Shiv Mandir Road',\n",
       " u'Okhla Industrial Area Phase 3',\n",
       " u'2nd Cross Ave Road',\n",
       " u'Sector 29',\n",
       " u'Suite 100',\n",
       " u'Sarita Vihar Institutional Area',\n",
       " u'Faridabad NH-IV',\n",
       " u'Nelson Mandela Marg',\n",
       " u'G T Road',\n",
       " u'Nelson Mandela Road',\n",
       " u'Indraprastha Marg',\n",
       " u'Mahatma Gandhi Marg',\n",
       " u'Kaushambu',\n",
       " u'Sector 45',\n",
       " u'Old Faridabad-Jasana Road',\n",
       " u'Sector 10, Rohini Twin District Centre',\n",
       " u'Bakshi Marg',\n",
       " u'Okhla Phase 3',\n",
       " u'Mehrauli Gurgaon Road',\n",
       " u'Ring road',\n",
       " u'C Block, Janakpuri',\n",
       " u'DLF Cyber City Phase III',\n",
       " u'Plot 9, Jasola District Centre',\n",
       " u'Marg 22',\n",
       " u'Sector 16',\n",
       " u'F Block, Sanjay Nagar',\n",
       " u'Govindpuram',\n",
       " u'Ramakrishna Ashram Marg',\n",
       " u'Arya Samaj Road',\n",
       " u'Vaibhav Khand, Indirapuram',\n",
       " u'Prithviraj Road',\n",
       " u'Benito Juarez Road',\n",
       " u'Sector 82',\n",
       " u'Sector-58',\n",
       " u'Hailey Road',\n",
       " u'Modern Industrial Estate, Part-B',\n",
       " u'Rajpur Road',\n",
       " u'Gharoli Road, Mayur Vihar Phase - 3',\n",
       " u'Subroto Park',\n",
       " u'Lane K, RBI Staff Quarters, Sarojini Nagar',\n",
       " u'Lane E, Sarojini Nagar',\n",
       " u'Lawrence Road',\n",
       " u'Bahadur Shah Zafar Marg',\n",
       " u'Barakhamba Road',\n",
       " u'Mansingh Road',\n",
       " u'Sahakarita Marg',\n",
       " u'Africa Avenue Marg',\n",
       " u'Knowledge Park 3',\n",
       " u'Knowledge Park III',\n",
       " u'Panchgaon, Manesar',\n",
       " u'Bhagwan Mahavir Marg',\n",
       " u'Sector - 11',\n",
       " u'Sector - 12',\n",
       " u'HPR School Back Road',\n",
       " u'Siraspur Firni',\n",
       " u'Siraspur Samaypur Road',\n",
       " u'Hauz Khas',\n",
       " u'Shanti Path',\n",
       " u'Kherli Hafizpur, Noida (UP)',\n",
       " u'Village Chhalera & Sadarpur, Sadarpur, Sector 45, Noida,',\n",
       " u'Anarwali Masjid, Block J, New Delhi.',\n",
       " u'Hayat Nagar, Khoda Colony, Gaziabad',\n",
       " u'Arya Mandir Samaj, Railway Road',\n",
       " u'Mayur Vihar, Ganesh Temple, 92, Pocket D, Phase 2, Model Town',\n",
       " u'Vinod Nagar West, New Delhi, East Delhi',\n",
       " u'I-64, Laxmi Nagar, New Delhi',\n",
       " u'Sector 19',\n",
       " u'Kalesh Complex, Pandav Nagar',\n",
       " u'Rohini sector 13',\n",
       " u'Sector 12, Noida, Gautam Buddh Nagar',\n",
       " u'Mayur Vihar Phase III New Delhi',\n",
       " u'Sunder Vihar',\n",
       " u'I. P. Extension',\n",
       " u'Block B, Ashok Nagar Extension, New Ashok Nagar',\n",
       " u'Main Rd, Block B, Nanakpura, Shakarpur',\n",
       " u'New Ashok Nagar Rd, Block B, New Ashok Nagar',\n",
       " u'Sector 27',\n",
       " u'Tilak Nagar Round About, Ashok Nagar',\n",
       " u'Sector 5, Harola',\n",
       " u'Pitampura',\n",
       " u'Shivaji Road',\n",
       " u'Sector 50',\n",
       " u'Block B, Ashok Nagar Extension',\n",
       " u'New Krishna Park, Najafgarh Road',\n",
       " u'Street C, Munirka DDA Flats',\n",
       " u'Street E, Munirka DDA Flats',\n",
       " u'Abdul Gaffar Khan Marg',\n",
       " u'Sector - 3',\n",
       " u'Ecotech-II, Udyog Vihar',\n",
       " u'Vasundhara',\n",
       " u'Greater Noida Expressway',\n",
       " u'G C Narang Marg',\n",
       " u'Benito Juarez Marg',\n",
       " u'Pandara Road',\n",
       " u'lothian road, Kashmere gate',\n",
       " u'indra vihar, mukherji nagar, north delhi',\n",
       " u'Sector 30',\n",
       " u\"Lawyer's Street, Green Park (Main)\",\n",
       " u'L Block, Anand Vihar, Hari Nagar',\n",
       " u'Mehrauli Badarpur Road',\n",
       " u'Sector 16 A',\n",
       " u'Dadri Road, Surajpur',\n",
       " u'Sector-23',\n",
       " u'Gail Society',\n",
       " u'Sector 2',\n",
       " u'Greater Kailash 2',\n",
       " u'sai hotel',\n",
       " u'Sec 62',\n",
       " u'Sector-21A',\n",
       " u'sector 37',\n",
       " u'Sector 86 Faridabad',\n",
       " u'Lala Rewti Wali Gali',\n",
       " u'Purana Bazaar',\n",
       " u'Shiv Mandir Wali Gali',\n",
       " u'sunaro wali gali, surajpur',\n",
       " u'Purana Bazaar, Surajpur',\n",
       " u'Lakhnawali Road, Surajpur',\n",
       " u'barahi road, surajpur',\n",
       " u'Sector 5A, Chiranjeev Vihar',\n",
       " u'Chiranjeev Vihar',\n",
       " u'Hauz Khas Enclave',\n",
       " u'Basant lane',\n",
       " u'Sector 62',\n",
       " u'Brahm Colony',\n",
       " u'Chaudhary Dalip Singh Marg',\n",
       " u'Hauzkhas Enclave',\n",
       " u'Alaknanda Road',\n",
       " u'lohia nagar',\n",
       " u'P.O. Box Dhaula, Karanki Road',\n",
       " u'Near Hari Masjid, Jogabai Extn, Okhla',\n",
       " u'Near An-noor Masjid, JOgabai Extn',\n",
       " u'Jogabai Extn, Okhla',\n",
       " u'Sidhartha Extension',\n",
       " u'Vardhman Times Plaza, Plot 13, DDA Community Centre, Road 44, Pitampura',\n",
       " u'SCOPE Complex',\n",
       " u'Sector- CHI-4',\n",
       " u'Off Sohna-Gurgaon Road',\n",
       " u'Opposite Shastri Park, Near Zero Pusta',\n",
       " u'Sector-62',\n",
       " u'Dr. Mukherjee Nagar, Near Batra Cinema',\n",
       " u'Dr. Mukherjee Nagar']"
      ]
     },
     "execution_count": 83,
     "metadata": {},
     "output_type": "execute_result"
    }
   ],
   "source": [
    "collection.distinct(\"address.street\")"
   ]
  },
  {
   "cell_type": "code",
   "execution_count": 85,
   "metadata": {
    "collapsed": false
   },
   "outputs": [
    {
     "name": "stdout",
     "output_type": "stream",
     "text": [
      "[{u'_id': u'IN', u'count': 4061266}]\n"
     ]
    }
   ],
   "source": [
    "aggregate_distincts(\"address.country\")"
   ]
  },
  {
   "cell_type": "code",
   "execution_count": 13,
   "metadata": {
    "collapsed": false
   },
   "outputs": [
    {
     "name": "stdout",
     "output_type": "stream",
     "text": [
      "[{u'_id': u'DL', u'count': 377},\n",
      " {u'_id': u'HR', u'count': 293},\n",
      " {u'_id': u'UP', u'count': 113}]\n"
     ]
    }
   ],
   "source": [
    "aggregate_distincts(\"address.state\")"
   ]
  },
  {
   "cell_type": "code",
   "execution_count": 7,
   "metadata": {
    "collapsed": false,
    "scrolled": true
   },
   "outputs": [
    {
     "name": "stdout",
     "output_type": "stream",
     "text": [
      "[{u'_id': u'Delhi', u'count': 377},\n",
      " {u'_id': u'Gurgaon', u'count': 274},\n",
      " {u'_id': u'Noida', u'count': 87},\n",
      " {u'_id': u'Ghaziabad', u'count': 21},\n",
      " {u'_id': u'Hira Colony, Siraspur, Delhi', u'count': 17},\n",
      " {u'_id': u'Faridabad', u'count': 16},\n",
      " {u'_id': u'Sector - 11, Rohini, Delhi', u'count': 15},\n",
      " {u'_id': u'Pandav Nagar, New Delhi', u'count': 14},\n",
      " {u'_id': u'Sohna Road', u'count': 12},\n",
      " {u'_id': u'Indirapuram', u'count': 7}]\n"
     ]
    }
   ],
   "source": [
    "aggregate_distincts(\"address.city\", True)"
   ]
  },
  {
   "cell_type": "code",
   "execution_count": 8,
   "metadata": {
    "collapsed": false
   },
   "outputs": [
    {
     "name": "stdout",
     "output_type": "stream",
     "text": [
      "[{u'_id': u'Sector 46', u'count': 142},\n",
      " {u'_id': u'Palam Vihar', u'count': 68},\n",
      " {u'_id': u'S1', u'count': 56},\n",
      " {u'_id': u'Block A1', u'count': 53},\n",
      " {u'_id': u'Sector 6', u'count': 44},\n",
      " {u'_id': u'NIT', u'count': 20},\n",
      " {u'_id': u'Bhavani Kunj, Vasant Kunj', u'count': 17},\n",
      " {u'_id': u'Sector 17C', u'count': 16},\n",
      " {u'_id': u'Barakhamba Road', u'count': 12},\n",
      " {u'_id': u'Jawaharlal Nehru University', u'count': 12}]\n"
     ]
    }
   ],
   "source": [
    "aggregate_distincts(\"address.street\", True)"
   ]
  },
  {
   "cell_type": "code",
   "execution_count": 15,
   "metadata": {
    "collapsed": false
   },
   "outputs": [
    {
     "data": {
      "text/plain": [
       "[{u'_id': ObjectId('57d044e39ab88bb63256dc26'),\n",
       "  u'address': {u'city': u'Hira Colony, Siraspur, Delhi',\n",
       "   u'postcode': u'110042',\n",
       "   u'street': u'HPR School Main Road, Hira Colony, Siraspur, Delhi'},\n",
       "  u'created': {u'changeset': u'25004661',\n",
       "   u'timestamp': u'2014-08-25T14:11:58Z',\n",
       "   u'uid': u'2249730',\n",
       "   u'user': u\"zezo's frnd\",\n",
       "   u'version': u'4'},\n",
       "  u'id': u'3008663907',\n",
       "  u'pos': [28.7551761, 77.1344924],\n",
       "  u'type': u'node'},\n",
       " {u'_id': ObjectId('57d044e39ab88bb63256dc28'),\n",
       "  u'address': {u'city': u'Hira Colony, Siraspur, Delhi',\n",
       "   u'housenumber': u'Near RWA Office, Hira Colony, Siraspur',\n",
       "   u'postcode': u'110042',\n",
       "   u'street': u'HPR School Main Road'},\n",
       "  u'created': {u'changeset': u'25004654',\n",
       "   u'timestamp': u'2014-08-25T14:11:26Z',\n",
       "   u'uid': u'2249730',\n",
       "   u'user': u\"zezo's frnd\",\n",
       "   u'version': u'3'},\n",
       "  u'id': u'3008661514',\n",
       "  u'pos': [28.7553062, 77.1343328],\n",
       "  u'type': u'node'},\n",
       " {u'_id': ObjectId('57d044e49ab88bb63256e541'),\n",
       "  u'address': {u'city': u'Hira Colony, Siraspur, Delhi',\n",
       "   u'postcode': u'110042',\n",
       "   u'street': u'HPR School Main Road, Hira Colony, Siraspur, Delhi'},\n",
       "  u'created': {u'changeset': u'25004639',\n",
       "   u'timestamp': u'2014-08-25T14:10:54Z',\n",
       "   u'uid': u'2249730',\n",
       "   u'user': u\"zezo's frnd\",\n",
       "   u'version': u'3'},\n",
       "  u'id': u'3012222965',\n",
       "  u'pos': [28.7552526, 77.1335128],\n",
       "  u'type': u'node'},\n",
       " {u'_id': ObjectId('57d044e49ab88bb63256e548'),\n",
       "  u'address': {u'city': u'Hira Colony, Siraspur, Delhi',\n",
       "   u'postcode': u'110042'},\n",
       "  u'created': {u'changeset': u'24700214',\n",
       "   u'timestamp': u'2014-08-12T12:12:08Z',\n",
       "   u'uid': u'2249730',\n",
       "   u'user': u\"zezo's frnd\",\n",
       "   u'version': u'1'},\n",
       "  u'id': u'3012225252',\n",
       "  u'pos': [28.7565713, 77.1325005],\n",
       "  u'type': u'node'},\n",
       " {u'_id': ObjectId('57d045459ab88bb63284a351'),\n",
       "  u'address': {u'city': u'Hira Colony, Siraspur, Delhi',\n",
       "   u'postcode': u'110042',\n",
       "   u'street': u'HPR School Main Road'},\n",
       "  u'created': {u'changeset': u'25005498',\n",
       "   u'timestamp': u'2014-08-25T14:45:14Z',\n",
       "   u'uid': u'2249730',\n",
       "   u'user': u\"zezo's frnd\",\n",
       "   u'version': u'7'},\n",
       "  u'id': u'297028433',\n",
       "  u'node_refs': [u'3008677439',\n",
       "   u'3041512633',\n",
       "   u'3008677440',\n",
       "   u'3008677441',\n",
       "   u'3008677442',\n",
       "   u'3008677443',\n",
       "   u'3008677444',\n",
       "   u'3008677445',\n",
       "   u'3008677446',\n",
       "   u'3014096551',\n",
       "   u'3041490405',\n",
       "   u'3041482946',\n",
       "   u'3008677448',\n",
       "   u'3041457749',\n",
       "   u'3008677439'],\n",
       "  u'type': u'way'},\n",
       " {u'_id': ObjectId('57d045459ab88bb63284a826'),\n",
       "  u'address': {u'city': u'Hira Colony, Siraspur, Delhi',\n",
       "   u'postcode': u'110042',\n",
       "   u'street': u'HPR School Main Road'},\n",
       "  u'created': {u'changeset': u'25005071',\n",
       "   u'timestamp': u'2014-08-25T14:29:27Z',\n",
       "   u'uid': u'2249730',\n",
       "   u'user': u\"zezo's frnd\",\n",
       "   u'version': u'1'},\n",
       "  u'id': u'300042333',\n",
       "  u'node_refs': [u'3041459869',\n",
       "   u'3041459870',\n",
       "   u'3041459871',\n",
       "   u'3041459872',\n",
       "   u'3041459869'],\n",
       "  u'type': u'way'},\n",
       " {u'_id': ObjectId('57d045459ab88bb63284a827'),\n",
       "  u'address': {u'city': u'Hira Colony, Siraspur, Delhi',\n",
       "   u'postcode': u'110042',\n",
       "   u'street': u'HPR School Main Road'},\n",
       "  u'created': {u'changeset': u'25005096',\n",
       "   u'timestamp': u'2014-08-25T14:30:21Z',\n",
       "   u'uid': u'2249730',\n",
       "   u'user': u\"zezo's frnd\",\n",
       "   u'version': u'1'},\n",
       "  u'id': u'300042476',\n",
       "  u'node_refs': [u'3041467430',\n",
       "   u'3041467431',\n",
       "   u'3041467432',\n",
       "   u'3041468633',\n",
       "   u'3041467430'],\n",
       "  u'type': u'way'},\n",
       " {u'_id': ObjectId('57d045459ab88bb63284a829'),\n",
       "  u'address': {u'city': u'Hira Colony, Siraspur, Delhi',\n",
       "   u'postcode': u'110042',\n",
       "   u'street': u'HPR School Main Road'},\n",
       "  u'created': {u'changeset': u'25005463',\n",
       "   u'timestamp': u'2014-08-25T14:43:42Z',\n",
       "   u'uid': u'2249730',\n",
       "   u'user': u\"zezo's frnd\",\n",
       "   u'version': u'1'},\n",
       "  u'id': u'300047927',\n",
       "  u'node_refs': [u'3041457747',\n",
       "   u'3041509293',\n",
       "   u'3041509294',\n",
       "   u'3041509295',\n",
       "   u'3041457747'],\n",
       "  u'type': u'way'},\n",
       " {u'_id': ObjectId('57d045459ab88bb63284a82a'),\n",
       "  u'address': {u'city': u'Hira Colony, Siraspur, Delhi',\n",
       "   u'postcode': u'110042'},\n",
       "  u'created': {u'changeset': u'25005540',\n",
       "   u'timestamp': u'2014-08-25T14:47:04Z',\n",
       "   u'uid': u'2249730',\n",
       "   u'user': u\"zezo's frnd\",\n",
       "   u'version': u'1'},\n",
       "  u'id': u'300048194',\n",
       "  u'node_refs': [u'3041511123',\n",
       "   u'3041511124',\n",
       "   u'3041457747',\n",
       "   u'3041457746',\n",
       "   u'3041511123'],\n",
       "  u'type': u'way'},\n",
       " {u'_id': ObjectId('57d045459ab88bb63284a82d'),\n",
       "  u'address': {u'city': u'Hira Colony, Siraspur, Delhi',\n",
       "   u'postcode': u'110042',\n",
       "   u'street': u'HPR School Back Road'},\n",
       "  u'created': {u'changeset': u'25005869',\n",
       "   u'timestamp': u'2014-08-25T15:00:53Z',\n",
       "   u'uid': u'2249730',\n",
       "   u'user': u\"zezo's frnd\",\n",
       "   u'version': u'1'},\n",
       "  u'id': u'300051299',\n",
       "  u'node_refs': [u'3041541719',\n",
       "   u'3041542317',\n",
       "   u'3041542318',\n",
       "   u'3041541720',\n",
       "   u'3041541719'],\n",
       "  u'type': u'way'},\n",
       " {u'_id': ObjectId('57d045459ab88bb63284a82e'),\n",
       "  u'address': {u'city': u'Hira Colony, Siraspur, Delhi',\n",
       "   u'postcode': u'110042',\n",
       "   u'street': u'HPR School Back Road'},\n",
       "  u'created': {u'changeset': u'25005869',\n",
       "   u'timestamp': u'2014-08-25T15:00:53Z',\n",
       "   u'uid': u'2249730',\n",
       "   u'user': u\"zezo's frnd\",\n",
       "   u'version': u'1'},\n",
       "  u'id': u'300051300',\n",
       "  u'node_refs': [u'3041542317',\n",
       "   u'3041542319',\n",
       "   u'3041542320',\n",
       "   u'3041542318',\n",
       "   u'3041542317'],\n",
       "  u'type': u'way'},\n",
       " {u'_id': ObjectId('57d045459ab88bb63284a82f'),\n",
       "  u'address': {u'city': u'Hira Colony, Siraspur, Delhi',\n",
       "   u'postcode': u'110042',\n",
       "   u'street': u'HPR School Back Road'},\n",
       "  u'created': {u'changeset': u'25005888',\n",
       "   u'timestamp': u'2014-08-25T15:01:48Z',\n",
       "   u'uid': u'2249730',\n",
       "   u'user': u\"zezo's frnd\",\n",
       "   u'version': u'1'},\n",
       "  u'id': u'300051343',\n",
       "  u'node_refs': [u'3041542838',\n",
       "   u'3041542839',\n",
       "   u'3041542840',\n",
       "   u'3041542841',\n",
       "   u'3041542838'],\n",
       "  u'type': u'way'},\n",
       " {u'_id': ObjectId('57d045459ab88bb63284a830'),\n",
       "  u'address': {u'city': u'Hira Colony, Siraspur, Delhi',\n",
       "   u'postcode': u'110042',\n",
       "   u'street': u'Siraspur Firni'},\n",
       "  u'created': {u'changeset': u'25005962',\n",
       "   u'timestamp': u'2014-08-25T15:05:09Z',\n",
       "   u'uid': u'2249730',\n",
       "   u'user': u\"zezo's frnd\",\n",
       "   u'version': u'1'},\n",
       "  u'id': u'300051526',\n",
       "  u'node_refs': [u'3041547958',\n",
       "   u'3041547959',\n",
       "   u'3041547960',\n",
       "   u'3041547961',\n",
       "   u'3041547962',\n",
       "   u'3041547963',\n",
       "   u'3041547964',\n",
       "   u'3041547965',\n",
       "   u'3041547966',\n",
       "   u'3041547967',\n",
       "   u'3041547968',\n",
       "   u'3041547969',\n",
       "   u'3041547970',\n",
       "   u'3041547971',\n",
       "   u'3041547972',\n",
       "   u'3041547973',\n",
       "   u'3041547958'],\n",
       "  u'type': u'way'},\n",
       " {u'_id': ObjectId('57d045459ab88bb63284a831'),\n",
       "  u'address': {u'city': u'Hira Colony, Siraspur, Delhi',\n",
       "   u'postcode': u'110042',\n",
       "   u'street': u'Siraspur Samaypur Road'},\n",
       "  u'created': {u'changeset': u'25005937',\n",
       "   u'timestamp': u'2014-08-25T15:04:08Z',\n",
       "   u'uid': u'2249730',\n",
       "   u'user': u\"zezo's frnd\",\n",
       "   u'version': u'1'},\n",
       "  u'id': u'300051465',\n",
       "  u'node_refs': [u'3041544560',\n",
       "   u'3041544561',\n",
       "   u'3041544562',\n",
       "   u'3041544563',\n",
       "   u'3041544560'],\n",
       "  u'type': u'way'},\n",
       " {u'_id': ObjectId('57d045459ab88bb63284a833'),\n",
       "  u'address': {u'city': u'Hira Colony, Siraspur, Delhi',\n",
       "   u'postcode': u'110042',\n",
       "   u'street': u'HPR School Main Road'},\n",
       "  u'created': {u'changeset': u'25005198',\n",
       "   u'timestamp': u'2014-08-25T14:33:44Z',\n",
       "   u'uid': u'2249730',\n",
       "   u'user': u\"zezo's frnd\",\n",
       "   u'version': u'2'},\n",
       "  u'id': u'300042005',\n",
       "  u'node_refs': [u'3041457746',\n",
       "   u'3041457747',\n",
       "   u'3041457748',\n",
       "   u'3041457749',\n",
       "   u'3041457746'],\n",
       "  u'type': u'way'},\n",
       " {u'_id': ObjectId('57d045459ab88bb63284a834'),\n",
       "  u'address': {u'city': u'Hira Colony, Siraspur, Delhi',\n",
       "   u'postcode': u'110042'},\n",
       "  u'created': {u'changeset': u'25006005',\n",
       "   u'timestamp': u'2014-08-25T15:06:39Z',\n",
       "   u'uid': u'2249730',\n",
       "   u'user': u\"zezo's frnd\",\n",
       "   u'version': u'1'},\n",
       "  u'id': u'300051820',\n",
       "  u'node_refs': [u'3041548507',\n",
       "   u'3041548508',\n",
       "   u'3041548509',\n",
       "   u'3041548510',\n",
       "   u'3041548507'],\n",
       "  u'type': u'way'},\n",
       " {u'_id': ObjectId('57d045459ab88bb63284a835'),\n",
       "  u'address': {u'city': u'Hira Colony, Siraspur, Delhi',\n",
       "   u'postcode': u'110042',\n",
       "   u'street': u'Siraspur Firni'},\n",
       "  u'created': {u'changeset': u'25005990',\n",
       "   u'timestamp': u'2014-08-25T15:06:09Z',\n",
       "   u'uid': u'2249730',\n",
       "   u'user': u\"zezo's frnd\",\n",
       "   u'version': u'1'},\n",
       "  u'id': u'300051621',\n",
       "  u'node_refs': [u'3041550533',\n",
       "   u'3041550534',\n",
       "   u'3041550535',\n",
       "   u'3041550536',\n",
       "   u'3041550537',\n",
       "   u'3041550538',\n",
       "   u'3041550539',\n",
       "   u'3041550540',\n",
       "   u'3041550541',\n",
       "   u'3041550542',\n",
       "   u'3041550543',\n",
       "   u'3041550544',\n",
       "   u'3041550533'],\n",
       "  u'type': u'way'}]"
      ]
     },
     "execution_count": 15,
     "metadata": {},
     "output_type": "execute_result"
    }
   ],
   "source": [
    "aggregate_to_list(collection, [\n",
    "        {\"$match\": {\"address.city\": 'Hira Colony, Siraspur, Delhi'}}\n",
    "    ])"
   ]
  },
  {
   "cell_type": "code",
   "execution_count": 9,
   "metadata": {
    "collapsed": false,
    "scrolled": true
   },
   "outputs": [
    {
     "name": "stdout",
     "output_type": "stream",
     "text": [
      "[{u'_id': u'school', u'count': 901},\n",
      " {u'_id': u'place_of_worship', u'count': 331},\n",
      " {u'_id': u'parking', u'count': 327},\n",
      " {u'_id': u'fuel', u'count': 212},\n",
      " {u'_id': u'hospital', u'count': 185},\n",
      " {u'_id': u'restaurant', u'count': 166},\n",
      " {u'_id': u'atm', u'count': 151},\n",
      " {u'_id': u'bank', u'count': 135},\n",
      " {u'_id': u'college', u'count': 128},\n",
      " {u'_id': u'fast_food', u'count': 106}]\n"
     ]
    }
   ],
   "source": [
    "aggregate_distincts(\"amenity\", True)"
   ]
  },
  {
   "cell_type": "code",
   "execution_count": 10,
   "metadata": {
    "collapsed": false,
    "scrolled": true
   },
   "outputs": [
    {
     "name": "stdout",
     "output_type": "stream",
     "text": [
      "[{u'_id': u'residential', u'count': 2093},\n",
      " {u'_id': u'commercial', u'count': 576},\n",
      " {u'_id': u'basin', u'count': 287},\n",
      " {u'_id': u'industrial', u'count': 278},\n",
      " {u'_id': u'grass', u'count': 259},\n",
      " {u'_id': u'retail', u'count': 193},\n",
      " {u'_id': u'military', u'count': 89},\n",
      " {u'_id': u'reservoir', u'count': 81},\n",
      " {u'_id': u'forest', u'count': 47},\n",
      " {u'_id': u'meadow', u'count': 32}]\n"
     ]
    }
   ],
   "source": [
    "aggregate_distincts(\"landuse\", True)"
   ]
  },
  {
   "cell_type": "code",
   "execution_count": 34,
   "metadata": {
    "collapsed": false
   },
   "outputs": [
    {
     "name": "stdout",
     "output_type": "stream",
     "text": [
      "[{u'_id': u'locality', u'count': 932},\n",
      " {u'_id': u'village', u'count': 306},\n",
      " {u'_id': u'suburb', u'count': 177},\n",
      " {u'_id': u'neighbourhood', u'count': 66},\n",
      " {u'_id': u'hamlet', u'count': 32},\n",
      " {u'_id': u'town', u'count': 20},\n",
      " {u'_id': u'city', u'count': 6},\n",
      " {u'_id': u'yes', u'count': 4},\n",
      " {u'_id': u'county', u'count': 4},\n",
      " {u'_id': u'Vasant_Kunj', u'count': 1},\n",
      " {u'_id': u'state', u'count': 1},\n",
      " {u'_id': u'islet', u'count': 1},\n",
      " {u'_id': u'Pharma_exporter,_delhi', u'count': 1}]\n"
     ]
    }
   ],
   "source": [
    "aggregate_distincts(\"place\")"
   ]
  }
 ],
 "metadata": {
  "kernelspec": {
   "display_name": "Python 2",
   "language": "python",
   "name": "python2"
  },
  "language_info": {
   "codemirror_mode": {
    "name": "ipython",
    "version": 2
   },
   "file_extension": ".py",
   "mimetype": "text/x-python",
   "name": "python",
   "nbconvert_exporter": "python",
   "pygments_lexer": "ipython2",
   "version": "2.7.12"
  }
 },
 "nbformat": 4,
 "nbformat_minor": 0
}
