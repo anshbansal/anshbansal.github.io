{
 "cells": [
  {
   "cell_type": "markdown",
   "metadata": {
    "collapsed": true
   },
   "source": [
    "## Introduction\n",
    "Will explore aggregation framework for some analysis and then explore how we could use it for data cleaning\n",
    "\n",
    "## Example of Aggregation Framework\n",
    "\n",
    "Let's find out who tweeted the most\n",
    "- group tweets by user\n",
    "- count each user's tweets\n",
    "- sort into descending order\n",
    "- select user at top\n",
    "\n",
    "![](pipeline.png)"
   ]
  },
  {
   "cell_type": "code",
   "execution_count": 1,
   "metadata": {
    "collapsed": true
   },
   "outputs": [],
   "source": [
    "import pprint\n",
    "\n",
    "def get_client():\n",
    "    from pymongo import MongoClient\n",
    "    return MongoClient('mongodb://localhost:27017/')\n",
    "\n",
    "def get_collection():\n",
    "    return get_client().examples.twitter"
   ]
  },
  {
   "cell_type": "code",
   "execution_count": 2,
   "metadata": {
    "collapsed": true
   },
   "outputs": [],
   "source": [
    "collection = get_collection()"
   ]
  },
  {
   "cell_type": "code",
   "execution_count": 9,
   "metadata": {
    "collapsed": true
   },
   "outputs": [],
   "source": [
    "def aggregate_and_show(collection, query, limit = True):\n",
    "    _query = query[:]\n",
    "    if limit:\n",
    "        _query.append({\"$limit\": 5})\n",
    "    result = collection.aggregate(_query)\n",
    "    pprint.pprint(list(r for r in result))"
   ]
  },
  {
   "cell_type": "code",
   "execution_count": 10,
   "metadata": {
    "collapsed": false
   },
   "outputs": [
    {
     "name": "stdout",
     "output_type": "stream",
     "text": [
      "[{u'_id': u'behcolin', u'count': 8},\n",
      " {u'_id': u'JBTeenageDream', u'count': 7},\n",
      " {u'_id': u'mysterytrick', u'count': 7},\n",
      " {u'_id': u'juhbs', u'count': 6},\n",
      " {u'_id': u'officialjamesj', u'count': 6}]\n"
     ]
    }
   ],
   "source": [
    "query = [\n",
    "    {\"$group\": {\"_id\": \"$user.screen_name\",\n",
    "                \"count\": {\"$sum\": 1}}},\n",
    "    {\"$sort\": {\"count\": -1}}\n",
    "]\n",
    "aggregate_and_show(collection, query)"
   ]
  },
  {
   "cell_type": "markdown",
   "metadata": {},
   "source": [
    "## Aggregation Operators\n",
    "- `$project` - shape documents  e.g. select\n",
    "- `$match` - filtering\n",
    "- `$skip` - skip at start\n",
    "- `$limit` - limit after some\n",
    "- `$unwind` - for every field of the array field on which it is used it will create an instance of document containing the values of the field. This can be used for grouping"
   ]
  },
  {
   "cell_type": "markdown",
   "metadata": {},
   "source": [
    "## Match operator\n",
    "Who has the highest followers to friend ratio?"
   ]
  },
  {
   "cell_type": "code",
   "execution_count": 5,
   "metadata": {
    "collapsed": false
   },
   "outputs": [
    {
     "name": "stdout",
     "output_type": "stream",
     "text": [
      "[{u'_id': ObjectId('57bdd40a6d9f21e6de8a9c1a'),\n",
      "  u'ratio': 19221.5,\n",
      "  u'screen_name': u'Twitterrific'},\n",
      " {u'_id': ObjectId('57bdd4096d9f21e6de8a90da'),\n",
      "  u'ratio': 17124.0,\n",
      "  u'screen_name': u'steve_berra'},\n",
      " {u'_id': ObjectId('57bdd4096d9f21e6de8a938a'),\n",
      "  u'ratio': 16847.0,\n",
      "  u'screen_name': u'2dopeboyz'},\n",
      " {u'_id': ObjectId('57bdd40b6d9f21e6de8ab9a3'),\n",
      "  u'ratio': 13894.222222222223,\n",
      "  u'screen_name': u'backstreetboys'},\n",
      " {u'_id': ObjectId('57bdd4076d9f21e6de8a3a2d'),\n",
      "  u'ratio': 13155.666666666666,\n",
      "  u'screen_name': u'tedouumdado'}]\n"
     ]
    }
   ],
   "source": [
    "query = [\n",
    "    {\"$match\": {\"user.friends_count\": {\"$gt\": 0},\n",
    "                \"user.followers_count\": {\"$gt\": 0}}},\n",
    "    {\"$project\": {\"ratio\": {\"$divide\": [\"$user.followers_count\", \n",
    "                                        \"$user.friends_count\"]},\n",
    "                  \"screen_name\": \"$user.screen_name\"}},\n",
    "    {\"$sort\": {\"ratio\": -1}}\n",
    "]\n",
    "\n",
    "aggregate_and_show(collection, query)"
   ]
  },
  {
   "cell_type": "markdown",
   "metadata": {},
   "source": [
    "For `$match` we use the same syntax that we use for read operations"
   ]
  },
  {
   "cell_type": "markdown",
   "metadata": {},
   "source": [
    "## Project operator\n",
    "- include fields from the original document\n",
    "- insert computed fields\n",
    "- rename fields\n",
    "- create fields that hold sub documents"
   ]
  },
  {
   "cell_type": "markdown",
   "metadata": {},
   "source": [
    "## Unwind operator\n",
    "- need to use array values somehow\n",
    "\n",
    "Let's try and find who included the most user mentions"
   ]
  },
  {
   "cell_type": "code",
   "execution_count": 6,
   "metadata": {
    "collapsed": false
   },
   "outputs": [
    {
     "name": "stdout",
     "output_type": "stream",
     "text": [
      "[{u'_id': u'ThizBoySwagLoud', u'count': 21},\n",
      " {u'_id': u'MULA_BSB', u'count': 21},\n",
      " {u'_id': u'vanilla3450', u'count': 18},\n",
      " {u'_id': u'Democracy_Work', u'count': 17},\n",
      " {u'_id': u'itsajstuerd', u'count': 16}]\n"
     ]
    }
   ],
   "source": [
    "query = [\n",
    "    {\"$unwind\": \"$entities.user_mentions\"},\n",
    "    {\"$group\": {\"_id\": \"$user.screen_name\",\n",
    "                \"count\": {\"$sum\": 1}}},\n",
    "    {\"$sort\": {\"count\": -1}}\n",
    "]\n",
    "\n",
    "aggregate_and_show(collection, query)"
   ]
  },
  {
   "cell_type": "markdown",
   "metadata": {},
   "source": [
    "## group operators\n",
    "- `$sum`\n",
    "- `$first`\n",
    "- `$last`\n",
    "- `$max`\n",
    "- `$min`\n",
    "- `$avg`"
   ]
  },
  {
   "cell_type": "markdown",
   "metadata": {},
   "source": [
    "array operators\n",
    "- `$push`\n",
    "- `$addToSet`"
   ]
  },
  {
   "cell_type": "code",
   "execution_count": 15,
   "metadata": {
    "collapsed": false
   },
   "outputs": [
    {
     "name": "stdout",
     "output_type": "stream",
     "text": [
      "[{u'_id': u'zzj090728', u'unique_hashtags': [u'yaplog']},\n",
      " {u'_id': u'zyosouzai', u'unique_hashtags': [u'lv25834899']},\n",
      " {u'_id': u'zudyezezwe65',\n",
      "  u'unique_hashtags': [u'line', u'all', u'data', u'mun', u'kl', u'pop']},\n",
      " {u'_id': u'zorapataki', u'unique_hashtags': [u'zorapataki']},\n",
      " {u'_id': u'zootcadillac', u'unique_hashtags': [u'TwitterJokeTrial']}]\n"
     ]
    }
   ],
   "source": [
    "#get unique hashtags by user\n",
    "query = [\n",
    "    {\"$unwind\": \"$entities.hashtags\"},\n",
    "    {\"$group\": {\"_id\": \"$user.screen_name\",\n",
    "                \"unique_hashtags\": {\n",
    "                    \"$addToSet\": \"$entities.hashtags.text\"\n",
    "                }}},\n",
    "    {\"$sort\": {\"_id\": -1}}\n",
    "]\n",
    "\n",
    "aggregate_and_show(collection, query)"
   ]
  },
  {
   "cell_type": "code",
   "execution_count": 31,
   "metadata": {
    "collapsed": false,
    "scrolled": false
   },
   "outputs": [
    {
     "name": "stdout",
     "output_type": "stream",
     "text": [
      "[{u'_id': u'Democracy_Work', u'count': 17},\n",
      " {u'_id': u'ThizBoySwagLoud', u'count': 16},\n",
      " {u'_id': u'itsajstuerd', u'count': 15},\n",
      " {u'_id': u'FollowersNeeded', u'count': 15},\n",
      " {u'_id': u'Egreeedy', u'count': 12}]\n"
     ]
    }
   ],
   "source": [
    "# find number of unique user mentions\n",
    "query = [\n",
    "    {\"$unwind\": \"$entities.user_mentions\"},\n",
    "    {\"$group\": {\n",
    "            \"_id\": \"$user.screen_name\",\n",
    "            \"mset\": {\n",
    "                \"$addToSet\": \"$entities.user_mentions.screen_name\"\n",
    "            }\n",
    "        }},\n",
    "    {\"$unwind\": \"$mset\"},\n",
    "    {\"$group\": {\"_id\": \"$_id\", \"count\": {\"$sum\": 1}}},\n",
    "    {\"$sort\": {\"count\": -1}}\n",
    "]\n",
    "\n",
    "aggregate_and_show(collection, query)"
   ]
  },
  {
   "cell_type": "markdown",
   "metadata": {},
   "source": [
    "## Indexes\n",
    "\n",
    "Sequence of index is important\n",
    "![](index.png)\n",
    "\n",
    "We can create indexes using \n",
    "\n",
    "`db.collections.ensureIndex({\"tg\" : 1})`"
   ]
  },
  {
   "cell_type": "markdown",
   "metadata": {},
   "source": [
    "## Geospatial Indexes\n",
    "- allows to query a location near a location\n",
    "\n",
    "![](2d_index.png)\n",
    "\n",
    "- The value needs to be stored as an array `[X, Y]`. \n",
    "- then we need to create an index\n",
    "- then we use `$near` for using this"
   ]
  }
 ],
 "metadata": {
  "kernelspec": {
   "display_name": "Python 2",
   "language": "python",
   "name": "python2"
  },
  "language_info": {
   "codemirror_mode": {
    "name": "ipython",
    "version": 2
   },
   "file_extension": ".py",
   "mimetype": "text/x-python",
   "name": "python",
   "nbconvert_exporter": "python",
   "pygments_lexer": "ipython2",
   "version": "2.7.12"
  }
 },
 "nbformat": 4,
 "nbformat_minor": 0
}
