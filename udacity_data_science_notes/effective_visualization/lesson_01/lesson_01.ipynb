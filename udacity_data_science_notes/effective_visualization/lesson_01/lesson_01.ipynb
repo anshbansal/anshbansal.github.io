{
 "cells": [
  {
   "cell_type": "markdown",
   "metadata": {
    "collapsed": true
   },
   "source": [
    "# Lesson 01 - Visualization Fundamentals\n",
    "\n",
    "## What is data visualization\n",
    "- conveying a story or idea as efficiently as possible\n",
    "- a picture is worth a thousand words\n",
    "- how best to represent visually underlying data using color, size, shape\n",
    "- mapping values to visuals\n",
    "- instead of looking at columns of data we can looks to bars, lines, graphs of different colors\n",
    "- turning numbers into pictures and stories\n",
    "- our visual systems are much faster in processing the information\n",
    "\n",
    "## Good Data visualizations\n",
    "Exploratory\n",
    "- trying to find insights - what the data is, what can it tell you\n",
    "- turning 100 rocks to find 1 or 2 good nuggets\n",
    "- connect things in interesting ways\n",
    "- look at the data from different angles\n",
    "\n",
    "Explanatory \n",
    "- after finding something to share\n",
    "- 5 keys\n",
    "    - robust understanding of the context \n",
    "        - who your audience is\n",
    "        - what they need to know or do\n",
    "    - choose appropriate type of visual \n",
    "        - what do you want your audience to do with the information\n",
    "        - what kind of graph would allow them to do that in most easy and straight forward way?\n",
    "    - taking care of clutter\n",
    "        - things that do not add value, information to our visuals\n",
    "        - decreases cognitive load and causes our data to stand out more\n",
    "    - drawing audience attention towards what you what you want\n",
    "        - color\n",
    "        - size\n",
    "        - placement on page\n",
    "    - story"
   ]
  },
  {
   "cell_type": "markdown",
   "metadata": {},
   "source": [
    "[Alberto Cairo's Three Steps to Become a Visualization Designer](http://www.vizwiz.com/2013/01/alberto-cairo-three-steps-to-become.html) by Andy Kriebel.\n",
    "\n",
    "## Slope Graphs\n",
    "\n",
    "Click the following [link](http://www.storytellingwithdata.com/2014/03/more-on-slopegraphs.html) to view an image of the slope graph.\n",
    "\n",
    "## Words of wisdom from Zipfian Academy\n",
    "- about background of students and what it takes to be successful with data visualization\n",
    "- students focus too much on complex analysis or optimizing some model without thinking about the larger process as a whole\n",
    "- tell students that their greatest insight is only as good as your ability to communicate it\n",
    "- if we spend time on optimizing without thinking how someone might derive value from it then it is useless\n",
    "- data visualization is both art and science. students need to know programming but they also need to have a sense of visual design and storytelling \n",
    "\n",
    "## Advice for beginners\n",
    "- the time is great as the field is expanding\n",
    "- there is no one place to get all that information\n",
    "- leverage your background knowledge"
   ]
  },
  {
   "cell_type": "markdown",
   "metadata": {},
   "source": [
    "## Data Visualization and you\n",
    "- designer, enginner, storyteller - they are great entry points for learning about and creating data visualization\n",
    "\n",
    "## Data Science Process\n",
    "![](data_process.png)\n",
    "- first\n",
    "    - Data wrangling\n",
    "    - takes most time\n",
    "    - data ingestion, ETL pipeline\n",
    "- second\n",
    "    - EDA\n",
    "    - filtering and mining\n",
    "    - many consider most exciting\n",
    "    - modelling, data mining and exploratory data analysis\n",
    "    - many people consider where magic happens\n",
    "- third\n",
    "    - Data visualization\n",
    "    - visual representation of data and how it is presented\n",
    "    - experiment with various visual encoding\n",
    "- last\n",
    "    - how reader may interact with your visualization\n",
    "    - information visualization and human computer interaction\n",
    "    - enable users to discover insights for themselves\n",
    "    \n",
    "## Explanatory vs Exploratory\n",
    "- Data visualization happens between the data and user when you are trying to prove something\n",
    "- EDA happens between data and you when you are trying to find something\n",
    "\n",
    "Alberto Cairo discusses the purpose of Infographics and Data Visualizations on his blog, [The Functional Art](http://www.thefunctionalart.com/2014/03/infographics-to-reveal-visualizations.html). \n",
    "\n",
    "Stephen Few discusses the difference between Data Art and Data Visualization on his website, [Perceptual Edge](http://www.perceptualedge.com/blog/?p=1245)."
   ]
  },
  {
   "cell_type": "markdown",
   "metadata": {},
   "source": [
    "## Anscombes Quartet\n",
    "you should always plot your data and not just rely on summary statstics. Summary statistics can be similar even when the data has a different shape\n",
    "\n",
    "##  Why Even Create Graphics\n",
    "Human visual system proceeses things much faster than any other system\n",
    "\n",
    "![](bandwidth.png)"
   ]
  },
  {
   "cell_type": "markdown",
   "metadata": {},
   "source": [
    "## Data Types and Data\n",
    "\n",
    "Hans Rosling’s 200 Countries, 200 Years, 4 Minutes https://www.youtube.com/watch?v=jbkSRLYSojo \n",
    "\n",
    "![](data_types.png)\n",
    "\n",
    "[Healthcare spending and life expectancy from OECD Health Data 2009](http://charliepark.org/images/slopegraphs/natgeo_scatter.jpg)"
   ]
  },
  {
   "cell_type": "markdown",
   "metadata": {},
   "source": [
    "## Visual Encodings\n",
    "\n",
    "Displaying 2 variables by x and y axis is easy. But things become complicated when we need to add more variables\n",
    "\n",
    "### Planar Variables\n",
    "\n",
    "![](planar_variables.png)\n",
    "\n",
    "## Retinal variables\n",
    "\n",
    "![](size.png)\n",
    "![](retinal_variables.png)\n",
    "\n",
    "![](data_display.png)\n",
    "\n",
    "Gapminder World visualization https://www.gapminder.org/tools/"
   ]
  },
  {
   "cell_type": "markdown",
   "metadata": {},
   "source": [
    "![](world_cup.png)\n",
    "\n",
    "### Ranking of visual encodings\n",
    "\n",
    "![](encoding_ranking.png)"
   ]
  },
  {
   "cell_type": "markdown",
   "metadata": {},
   "source": [
    "## Facebook Offering\n",
    "\n",
    "http://www.nytimes.com/interactive/2012/05/17/business/dealbook/how-the-facebook-offering-compares.html\n",
    "\n",
    "![](facebook_offering.png)\n",
    "\n",
    "Double encoding  has been used\n",
    "- size and y position for the value of the IPO\n",
    "- color and x position for the year when the company went for IPO\n",
    "\n",
    "\n",
    "opacity is another visual encoding that was not mentioned earlier and can be useful\n",
    "\n",
    "The animation needs to be seen from the link. Helps get a sense of how great it was."
   ]
  },
  {
   "cell_type": "markdown",
   "metadata": {},
   "source": [
    "## Up and Down the Visualization Spectrum\n",
    "\n",
    "- At the bottom of the spectrum we have\n",
    "    - WebGL\n",
    "    - Canvas\n",
    "    - SVG\n",
    "- These are\n",
    "    - efficient, performant\n",
    "    - flexible\n",
    "    - low level\n",
    "    - hard to develop with\n",
    "\n",
    "\n",
    "- A level above we have d3.js\n",
    "- built on top of open web standards - JS, HTML, SVG, CSS\n",
    "\n",
    "\n",
    "- Built on top of d3.js are many libraries. Some of most common are - NVD3, dimple.js, rickshaw\n",
    "- libraries built on top of d3 fall into 2 categories\n",
    "    - high level charting libraries\n",
    "    - specific type of data e.g. rickshaw was built to easily show timeseries and realtime streaming data\n",
    "    \n",
    "- At the very top of top of spectrum we have raw or chartio that have graphical interfaces to built graphics\n",
    "- only have predefined charts\n",
    "\n",
    "![](libraries.png)\n",
    "\n",
    "* [HTML5 Canvas](https://developer.mozilla.org/en-US/docs/Web/API/Canvas_API)\n",
    "* [WebGL](http://en.wikipedia.org/wiki/WebGL)\n",
    "* [SVG (Scalable Vector Graphics)](https://developer.mozilla.org/en-US/docs/Web/SVG)\n",
    "* [D3.js](http://d3js.org/)\n",
    "* [NVD3](http://nvd3.org/)\n",
    "* [Dimple.js](http://dimplejs.org/)\n",
    "* [Rickshaw](http://code.shutterstock.com/rickshaw/)\n",
    "* [Chartio](https://chartio.com/)\n",
    "* [RAW](http://raw.densitydesign.org/)"
   ]
  },
  {
   "cell_type": "markdown",
   "metadata": {},
   "source": [
    "## d3 Unpacking the name\n",
    "\n",
    "- d3: Data Driven Documents\n",
    "\n",
    "## why d3\n",
    "- rather than hiding the DOM d3 directly manipulates HTML and CSS using common convention like CSS selectors\n",
    "- built on top of open standards so can benefit directly from advances in browser and standards"
   ]
  }
 ],
 "metadata": {
  "anaconda-cloud": {},
  "kernelspec": {
   "display_name": "Python 2",
   "language": "python",
   "name": "python2"
  },
  "language_info": {
   "codemirror_mode": {
    "name": "ipython",
    "version": 2
   },
   "file_extension": ".py",
   "mimetype": "text/x-python",
   "name": "python",
   "nbconvert_exporter": "python",
   "pygments_lexer": "ipython2",
   "version": "2.7.11"
  }
 },
 "nbformat": 4,
 "nbformat_minor": 0
}
