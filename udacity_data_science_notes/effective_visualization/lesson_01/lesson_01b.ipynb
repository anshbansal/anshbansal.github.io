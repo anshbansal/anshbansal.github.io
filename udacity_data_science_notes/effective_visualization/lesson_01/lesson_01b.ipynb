{
 "cells": [
  {
   "cell_type": "markdown",
   "metadata": {
    "collapsed": true
   },
   "source": [
    "# Lesson 1b - D3 Building blocks\n",
    "\n",
    "Scott Murray provides an excellent overview of these fundamentals on his website, http://alignedleft.com/tutorials/d3/fundamentals. (time estimate: 10 minutes)\n",
    "\n",
    "To learn the basics of HTML, CSS, and Javascript, we encourage you to work through Project 1 and Project 2 at https://dash.generalassemb.ly/. (time estimate: 10-20 hours)\n",
    "\n",
    "Scott Murray also provides an excellent tutorial of creating a [visualization using D3.js](http://alignedleft.com/tutorials/d3) if you'd like to get a preview of what's to come in later lessons. (time estimate: 10-15 hours)"
   ]
  },
  {
   "cell_type": "markdown",
   "metadata": {},
   "source": [
    "We try to re-create China's red circle. In 2015 China's \n",
    "- life expectancy was 77 years\n",
    "- income per person was 13300 GDP per capita\n",
    "- population was 1.38 billion\n",
    "\n",
    "For converting data values to pixel values we use scales in `d3js`\n",
    "\n",
    "![](scales.png)\n",
    "\n",
    "note that the x scale is logarithmic while y scale is linear"
   ]
  },
  {
   "cell_type": "markdown",
   "metadata": {},
   "source": [
    "# How Scales work\n",
    "\n",
    "Scales for SVG in y direction start at 0 and increase going down\n",
    "![](scales2.png)\n",
    "![](scale_y_mapping.png)\n",
    "\n",
    "- d3 refers to the input values as the `domain` of the data\n",
    "- d3 refers to the pixel values to which you want to map to as the `range` of the data\n",
    "\n",
    "![](scale_y_mapping2.png)\n",
    "\n",
    "d3.scale.linear takes care of this mapping from domain to the range"
   ]
  },
  {
   "cell_type": "markdown",
   "metadata": {},
   "source": [
    "## What can go wrong when drawing circles\n",
    "\n",
    "When drawing circles you need to consider that using value as the radius of the circle causes the circle's area to be proportional to the square of the data instead of the data itself. This can cause your data to be exagerrated\n",
    "\n",
    "![](circles.png)\n",
    "\n",
    "```\n",
    "area = pi * (r ^ 2)\n",
    "\n",
    "r = sqrt(area / pi)\n",
    "```"
   ]
  },
  {
   "cell_type": "markdown",
   "metadata": {},
   "source": [
    "Mike Bostock's [Let's Make a Bar Chart Tutorial](https://bost.ocks.org/mike/bar/).\n",
    "\n",
    "[How selection work](https://bost.ocks.org/mike/selection/)\n",
    "\n",
    "* http://www.thefunctionalart.com/\n",
    "* http://visualisingdata.com/\n",
    "* http://flowingdata.com/\n",
    "* http://www.storytellingwithdata.com/\n",
    "* http://helpmeviz.com/  Good for getting feedback on visualizations from the community\n",
    "* http://d3js.org/\n",
    "* http://www.tableausoftware.com/public/\n",
    "* http://raw.densitydesign.org/\n",
    "* http://www.adobe.com/products/illustrator.html"
   ]
  }
 ],
 "metadata": {
  "kernelspec": {
   "display_name": "Python 2",
   "language": "python",
   "name": "python2"
  },
  "language_info": {
   "codemirror_mode": {
    "name": "ipython",
    "version": 2
   },
   "file_extension": ".py",
   "mimetype": "text/x-python",
   "name": "python",
   "nbconvert_exporter": "python",
   "pygments_lexer": "ipython2",
   "version": "2.7.11"
  }
 },
 "nbformat": 4,
 "nbformat_minor": 0
}
