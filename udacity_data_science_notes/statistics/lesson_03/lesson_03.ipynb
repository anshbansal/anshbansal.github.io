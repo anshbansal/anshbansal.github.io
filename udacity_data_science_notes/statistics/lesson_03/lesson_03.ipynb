{
 "cells": [
  {
   "cell_type": "markdown",
   "metadata": {
    "collapsed": true
   },
   "source": [
    "# Lesson 03 - Central Tendency\n",
    "\n",
    "We have distributions and we need some numebr to describe that data.\n",
    "- Mode\n",
    "    - For numbers it is single number\n",
    "    - For Distributions it is range of numbers\n",
    "        - Some distributions don't have mode e.g. uniform distribution\n",
    "        - Some distributions have multiple modes ![](bimodal.png)\n",
    "    - it is not affected by outliers\n",
    "- Median\n",
    "    - median is the [actual average of people's intuition](http://www.slate.com/articles/life/weddings/2013/06/average_wedding_cost_published_numbers_on_the_price_of_a_wedding_are_totally.html)\n",
    "    - median is more robust to outliers\n",
    "- Mean\n",
    "    - $\\bar{x} = (\\sum x) / n$\n",
    "    - $\\mu = (\\sum x) / N$\n",
    "    - All scores affect the mean\n",
    "    - many samples from same population will have same mean\n",
    "    - it is affected by outliers\n",
    "    \n",
    "![](measure_of_center.png)"
   ]
  }
 ],
 "metadata": {
  "anaconda-cloud": {},
  "kernelspec": {
   "display_name": "Python [conda root]",
   "language": "python",
   "name": "conda-root-py"
  },
  "language_info": {
   "codemirror_mode": {
    "name": "ipython",
    "version": 3
   },
   "file_extension": ".py",
   "mimetype": "text/x-python",
   "name": "python",
   "nbconvert_exporter": "python",
   "pygments_lexer": "ipython3",
   "version": "3.5.2"
  }
 },
 "nbformat": 4,
 "nbformat_minor": 0
}
