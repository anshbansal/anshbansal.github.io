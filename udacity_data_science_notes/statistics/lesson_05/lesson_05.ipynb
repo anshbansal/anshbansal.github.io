{
 "cells": [
  {
   "cell_type": "markdown",
   "metadata": {
    "collapsed": true
   },
   "source": [
    "# Lesson 05 - Standardizing\n",
    "\n",
    "- Absolute numbers like rank 1800 is not always good enough unless we have full context. Proprtion/percetages however are better e.g. better than 88% of everyone. This gives a better sense of the data\n",
    "- Instead of numbers using proportions is a better option as it gives us a better sense of the data.\n",
    "![](hist.png)\n",
    "\n",
    "The amount of detail that we can have from a histogram is based on number of bins. We need to stike a balance too much and too less number of bins.\n",
    "\n",
    "![](hist2.png)\n",
    "\n",
    "- Small bin size \n",
    "    - Pro: detail of data values\n",
    "    - Con: Lose shape of distribution\n",
    "- Large bin size\n",
    "    - Pro: Maintain the shape of distribution \n",
    "    - Con: Cannot tell proportion less than data value\n",
    "\n",
    "- To avoid this we use a theoretically continuous model - Normal distribution\n",
    "- Area under the curve is 1\n",
    "- This model approximates our data and is symmetrical so mean, median, mode are same in theoretical model"
   ]
  },
  {
   "cell_type": "markdown",
   "metadata": {},
   "source": [
    "## Z score\n",
    "- We can represent any value on x axis by its distance from the mean in terms of standard deviation. This is Z-score\n",
    "\n",
    "![](z_score.png)\n",
    "\n",
    "But why would we want to know the Z score? In other words, why would we want to know how much standard deviation are we away from mean?\n",
    "\n",
    "Two people friends on facebook and twitter below mean are as follows. Who is more unpopular?\n",
    "![](popularity.png)\n",
    "\n",
    "But if we look at the distributions of facebook and twitter followers we get\n",
    "![](popularity_distribution.png)\n",
    "\n",
    "- The SD of twitter  followers is 60\n",
    "- The SD of facebook followers is 36 \n",
    "\n",
    "So for the original data\n",
    "- Katie FB followers    is 3.53 SD below the mean\n",
    "- Andy twitter followes is 2.57 SD below the mean\n",
    "\n",
    "So if standardize the distributions then we get different results \n",
    "```\n",
    "(people with followers more than Katie's) > (people with followes more than Andy's)\n",
    "```\n",
    "\n",
    "- So converting the distribution from actual values to Z scores is standardizing the distribution\n",
    "- After standardizing \n",
    "    - the mean is 0\n",
    "    - the SD is 1"
   ]
  }
 ],
 "metadata": {
  "anaconda-cloud": {},
  "kernelspec": {
   "display_name": "Python [conda root]",
   "language": "python",
   "name": "conda-root-py"
  },
  "language_info": {
   "codemirror_mode": {
    "name": "ipython",
    "version": 3
   },
   "file_extension": ".py",
   "mimetype": "text/x-python",
   "name": "python",
   "nbconvert_exporter": "python",
   "pygments_lexer": "ipython3",
   "version": "3.5.2"
  }
 },
 "nbformat": 4,
 "nbformat_minor": 0
}
