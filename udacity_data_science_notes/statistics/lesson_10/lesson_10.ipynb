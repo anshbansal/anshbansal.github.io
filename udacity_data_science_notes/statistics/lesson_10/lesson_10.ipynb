{
 "cells": [
  {
   "cell_type": "markdown",
   "metadata": {},
   "source": [
    "# Lesson 10a: t-Tests\n",
    "\n",
    "### t-distribution \n",
    "\n",
    "So far we have assumed that we know $\\mu$ and $\\sigma$ for our population. But usually we don't know them.  We have samples and we need to use them to see\n",
    "- how different sample mean is from population\n",
    "- how different 2 sample means are from each other\n",
    "    - could be dependent\n",
    "    - could be independent\n",
    "\n",
    "Till now we were using $\\sigma$ to find standard error. But we cannot do that as we don't have $\\sigma$. So we have a different distribution that is more error prone. It is t-distribution\n",
    "\n",
    "![](t_distribution.png)\n",
    "\n",
    "### Degrees of Freedom\n",
    "Basically the number of actual choices that you could make excluding the ones that are forced due to constraints.\n",
    "\n",
    "For a sample taken from a population our choice of sample is constrained by the population itself. We cannot pick something that isn't there. If we a good sample (large enough, completely representative of the population and chosen by a sound methodology) then we could at most choose n - 1 points. The last point would be chosen for us (by our methodology of taking good sample rather than someone choosing it for us).\n",
    "\n",
    "Hence, our effective sample size is (n - 1)\n",
    "\n",
    "\n",
    "### t-statistic\n",
    "We have t table at https://s3.amazonaws.com/udacity-hosted-downloads/t-table.jpg\n",
    "\n",
    "$t = \\frac{\\bar{x} - \\mu_o} {S / \\sqrt{n}}$ \n",
    "\n",
    "Here the $\\mu_o$ is the mean of the population to which we are comparing the sample with mean $\\bar{x}$ coming from a different population. The denominator represents the error that we expect between population mean and $\\mu_o$ by chance\n",
    "\n",
    "Details [here](https://discussions.udacity.com/t/t-statistic-is-calculated-as-per-population-mean-how/165793/7). Needs subscription"
   ]
  },
  {
   "cell_type": "markdown",
   "metadata": {},
   "source": [
    "### p-value\n",
    "\n",
    "p-value is probability above/below the t-statistic. We can calculate p-values [here](http://www.graphpad.com/quickcalcs/pValue2/)\n",
    "\n",
    "### Cohen's d\n",
    "\n",
    "- Common measure of effect size when comparing means\n",
    "- standardized mean difference that compares distance between means in standardized units\n",
    "\n",
    "Cohen's  d $= \\frac{M - \\mu_o}{S}$\n",
    "\n",
    "### Dependent t-test for paired Samples\n",
    "\n",
    "- Dependent samples occur when the same subject takes the test twice\n",
    "- Within-subject designs\n",
    "    - Two conditions\n",
    "    - Pre-test and post-test\n",
    "    - Growth over time (longitudinal study)\n",
    "    \n",
    "![](paired_samples.png)"
   ]
  }
 ],
 "metadata": {
  "kernelspec": {
   "display_name": "Python [conda root]",
   "language": "python",
   "name": "conda-root-py"
  },
  "language_info": {
   "codemirror_mode": {
    "name": "ipython",
    "version": 3
   },
   "file_extension": ".py",
   "mimetype": "text/x-python",
   "name": "python",
   "nbconvert_exporter": "python",
   "pygments_lexer": "ipython3",
   "version": "3.5.2"
  }
 },
 "nbformat": 4,
 "nbformat_minor": 2
}
