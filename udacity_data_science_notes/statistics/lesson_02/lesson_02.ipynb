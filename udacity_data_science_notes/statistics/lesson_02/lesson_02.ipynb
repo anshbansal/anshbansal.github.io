{
 "cells": [
  {
   "cell_type": "markdown",
   "metadata": {
    "collapsed": true
   },
   "source": [
    "# Lesson 02 - Visualizing Data\n",
    "\n",
    "Finding out things from an unorganized list is difficult. Have a table with their frequencies is easier\n",
    "![](frequency.png)\n",
    "\n",
    "If we have organized data then we can visulaize it\n",
    "\n",
    "![](hist.png)\n",
    "\n",
    "![](hist_and_bar.png)\n",
    "\n",
    "If we are not careful then we may end up creating biased graphs\n",
    "\n",
    "![](biased_graph.png)\n",
    "\n",
    "[Interactive Histograms](http://www.shodor.org/interactivate/activities/Histogram/)\n",
    "\n",
    "![](positive_skew.png)"
   ]
  }
 ],
 "metadata": {
  "anaconda-cloud": {},
  "kernelspec": {
   "display_name": "Python [default]",
   "language": "python",
   "name": "python3"
  },
  "language_info": {
   "codemirror_mode": {
    "name": "ipython",
    "version": 3
   },
   "file_extension": ".py",
   "mimetype": "text/x-python",
   "name": "python",
   "nbconvert_exporter": "python",
   "pygments_lexer": "ipython3",
   "version": "3.5.2"
  }
 },
 "nbformat": 4,
 "nbformat_minor": 0
}
