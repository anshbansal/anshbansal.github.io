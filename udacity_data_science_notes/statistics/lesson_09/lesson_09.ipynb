{
 "cells": [
  {
   "cell_type": "markdown",
   "metadata": {},
   "source": [
    "# Lesson 09 - Hypothesis Testing\n",
    "\n",
    "### Levels of Likelihood\n",
    "- $\\alpha = 0.05$\n",
    "- $\\alpha = 0.01$\n",
    "- $\\alpha = 0.001$\n",
    "\n",
    "![](z_critical.png)\n",
    "\n",
    "![](significance.png)"
   ]
  },
  {
   "cell_type": "markdown",
   "metadata": {},
   "source": [
    "![](tailed_tests.png)"
   ]
  },
  {
   "cell_type": "markdown",
   "metadata": {},
   "source": [
    "### Fail to reject the null\n",
    "\n",
    "- Null Hypothesis $H_o$ = Most dogs have four legs\n",
    "- Alternate Hypothesis $H_A$ = Most dogs have less than four legs\n",
    "\n",
    "Say we sample 10 dogs and find that all 10 had 4 legs then we have evidence to suggest that most dogs have 4 legs but it does not prove this. But based on our sample we failed to reject the null.\n",
    "\n",
    "Say we sample 10 dogs and find that 6 dogs have 3 legs. We can reject the null based on this.\n",
    "\n",
    "### Misinterperations due to statistics\n",
    "We are not always sure that what we concluded was actually correct. There is still a small probability of misinterpretation\n",
    "\n",
    "![](errors.png)\n",
    "![](beverage_example.png)\n",
    "\n",
    "We can always be wrong. Important thing is to consider that your data collection methods are good as discussed in Lesson 01"
   ]
  }
 ],
 "metadata": {
  "kernelspec": {
   "display_name": "Python [conda root]",
   "language": "python",
   "name": "conda-root-py"
  },
  "language_info": {
   "codemirror_mode": {
    "name": "ipython",
    "version": 3
   },
   "file_extension": ".py",
   "mimetype": "text/x-python",
   "name": "python",
   "nbconvert_exporter": "python",
   "pygments_lexer": "ipython3",
   "version": "3.5.2"
  }
 },
 "nbformat": 4,
 "nbformat_minor": 2
}
