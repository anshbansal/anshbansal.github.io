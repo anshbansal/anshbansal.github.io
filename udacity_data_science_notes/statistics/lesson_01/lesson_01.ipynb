{
 "cells": [
  {
   "cell_type": "markdown",
   "metadata": {
    "collapsed": true
   },
   "source": [
    "# Lesson 01 - Research Methods\n",
    "\n",
    "To believe any results of any study we need to ensure\n",
    "- Good sample size\n",
    "- Representative sample\n",
    "- Sound Methodology\n",
    "\n",
    "Constructs\n",
    "- We have constructs i.e. things that are difficult to measure. e.g. Intelligence, Effort, Hunger. \n",
    "- To properly measure them we need a operational definition i.e. a definition that allows us to properly measure them\n",
    "\n",
    "Lurking variables\n",
    "- Whenever analyzing data we should think about externeous factors that we may not have thought about. These are called lurking variables. \n",
    "- If we hold more things constant then our confidence in results becomes more as we are bringing down lurking variables\n",
    "\n",
    "Population and Samples\n",
    "- All possible people taken together is a population\n",
    "    - Metrics related to population -> population parameter\n",
    "    - $\\mu$ is the average of population\n",
    "- A subset of people from population is a sample\n",
    "    - Metrics related to sample -> sample statistics\n",
    "    - $\\bar{x}$ is average of sample\n",
    "- sampling error = $\\bar{x}$ - $\\mu$\n",
    "- Although $\\bar{x}$ is not the same as $\\mu$ it can give us an interval in which $\\mu$ lies as long as we have large enough random unbiased sample"
   ]
  }
 ],
 "metadata": {
  "anaconda-cloud": {},
  "kernelspec": {
   "display_name": "Python [default]",
   "language": "python",
   "name": "python3"
  },
  "language_info": {
   "codemirror_mode": {
    "name": "ipython",
    "version": 3
   },
   "file_extension": ".py",
   "mimetype": "text/x-python",
   "name": "python",
   "nbconvert_exporter": "python",
   "pygments_lexer": "ipython3",
   "version": "3.5.2"
  }
 },
 "nbformat": 4,
 "nbformat_minor": 0
}
