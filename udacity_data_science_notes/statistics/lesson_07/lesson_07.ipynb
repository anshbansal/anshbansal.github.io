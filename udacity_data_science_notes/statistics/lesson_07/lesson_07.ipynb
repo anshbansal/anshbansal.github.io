{
 "cells": [
  {
   "cell_type": "markdown",
   "metadata": {},
   "source": [
    "# Lesson 07 - Sampling Distributions\n",
    "- By knowing the mean and standard deviation of normal distribution of a population we can compare any point in the distribution as we can find percentage less than and percentage greater than any value\n",
    "- We know that measures of center can be used to compare distributions. We can compare distributions of samples with other distributions by finding means"
   ]
  },
  {
   "cell_type": "markdown",
   "metadata": {},
   "source": [
    "## Gambling in Vegas\n",
    "- We roll a tetrahedral die (4 sides)\n",
    "- We can get 1, 2, 3, 4\n",
    "- Expected value $\\mu = (1 + 2 + 3 + 4) / 4 = 2.5 $\n",
    "- We win the gamble if average of 2 rolls is at least 3\n",
    "\n",
    "We have the following cases\n",
    "![](means.png)\n",
    "\n",
    "- Mean of sample means (i.e. mean of the above 16 cases) M = 2.5\n",
    "- Distribution of sample means is Sampling Distribution\n",
    "- For our case it can be seen at http://www.wolframalpha.com/input/?i=1,+1.5,+2,+2.5,+1.5,+2,+2.5,+3,+2,+2.5,+3,+3.5,+2.5,+3,+3.5,+4"
   ]
  },
  {
   "cell_type": "code",
   "execution_count": 1,
   "metadata": {
    "collapsed": false
   },
   "outputs": [
    {
     "data": {
      "text/plain": [
       "0.375"
      ]
     },
     "execution_count": 1,
     "metadata": {},
     "output_type": "execute_result"
    }
   ],
   "source": [
    "6 / 16"
   ]
  },
  {
   "cell_type": "markdown",
   "metadata": {
    "collapsed": true
   },
   "source": [
    "Video 16"
   ]
  }
 ],
 "metadata": {
  "anaconda-cloud": {},
  "kernelspec": {
   "display_name": "Python [conda root]",
   "language": "python",
   "name": "conda-root-py"
  },
  "language_info": {
   "codemirror_mode": {
    "name": "ipython",
    "version": 3
   },
   "file_extension": ".py",
   "mimetype": "text/x-python",
   "name": "python",
   "nbconvert_exporter": "python",
   "pygments_lexer": "ipython3",
   "version": "3.5.2"
  }
 },
 "nbformat": 4,
 "nbformat_minor": 1
}
