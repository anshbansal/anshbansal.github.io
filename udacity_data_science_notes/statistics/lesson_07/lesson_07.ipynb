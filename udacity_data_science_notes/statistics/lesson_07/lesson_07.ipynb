{
 "cells": [
  {
   "cell_type": "markdown",
   "metadata": {},
   "source": [
    "# Lesson 07 - Sampling Distributions\n",
    "- By knowing the mean and standard deviation of normal distribution of a population we can compare any point in the distribution as we can find percentage less than and percentage greater than any value\n",
    "- We know that measures of center can be used to compare distributions. We can compare distributions of samples with other distributions by finding means"
   ]
  },
  {
   "cell_type": "markdown",
   "metadata": {},
   "source": [
    "## Gambling in Vegas\n",
    "- We roll a tetrahedral die (4 sides)\n",
    "- We can get 1, 2, 3, 4\n",
    "- Expected value $\\mu = (1 + 2 + 3 + 4) / 4 = 2.5 $\n",
    "- We win the gamble if average of 2 rolls is at least 3\n",
    "\n",
    "Here we need to note that our population is 4 (1 to 4). And we are taking samples of size 2 from this population. \n",
    "\n",
    "We have the following cases\n",
    "![](means.png)\n",
    "\n",
    "If we take samples of this then we are essentailly taking mean of sampling distribution.\n",
    "\n",
    "- Mean of sample means (i.e. mean of the above 16 cases) M = 2.5\n",
    "- Distribution of sample means is Sampling Distribution\n",
    "- For our case it can be seen at http://www.wolframalpha.com/input/?i=1,+1.5,+2,+2.5,+1.5,+2,+2.5,+3,+2,+2.5,+3,+3.5,+2.5,+3,+3.5,+4\n",
    "- Taking a lot of samples and finding the mean of sample means we can see that M == $\\mu$\n",
    "- To compare this sample with other sample we also need SD of population.\n",
    "- Let's call Standard deviation of distribution of sample means of sample size n as SE \n",
    "- $(\\sigma / SE) = \\sqrt{n} $"
   ]
  },
  {
   "cell_type": "markdown",
   "metadata": {},
   "source": [
    "## Central limit theorem\n",
    "\n",
    "For any distribution if we draw a lot of samples and draw their sampling distribution it will turn out to be approximately normal given that the sample size is big enough.\n",
    "![](central_limit.png)\n",
    "\n",
    "## Finding Standard error\n",
    "Let's try and find standard deviation of sampling distribution created when rolling 2 dies and taking their sum.\n",
    "\n",
    "The population standard deviation can be found using the STDEVP function in google spreadsheets"
   ]
  },
  {
   "cell_type": "code",
   "execution_count": 9,
   "metadata": {
    "collapsed": false,
    "scrolled": true
   },
   "outputs": [
    {
     "name": "stdout",
     "output_type": "stream",
     "text": [
      "1.2076147288491197\n",
      "0.7637626158259733\n"
     ]
    }
   ],
   "source": [
    "import math\n",
    "\n",
    "def mean_standard_deviation(population):\n",
    "    mean = sum(population) / len(population)\n",
    "    differences = [element - mean for element in population]\n",
    "    squared_differences = [diff ** 2 for diff in differences]\n",
    "    mean_squared_differences = sum(squared_differences) / len(squared_differences)\n",
    "    SD = math.sqrt(mean_squared_difference)\n",
    "    return mean, SD\n",
    "\n",
    "def standard_deviation_sample(population, sample_size):\n",
    "    mean_population, sd_population = mean_standard_deviation(population)\n",
    "    return sd_population / math.sqrt(sample_size)\n",
    "\n",
    "population = list(range(1, 7))\n",
    "print(standard_deviation_sample(population, 2))\n",
    "print(standard_deviation_sample(population, 5))"
   ]
  },
  {
   "cell_type": "markdown",
   "metadata": {},
   "source": [
    "As sample size increases the SD of sampling distribution decreases and hence it becomes skinnier.\n",
    "\n",
    "Sampling applet is present at http://onlinestatbook.com/stat_sim/sampling_dist/index.html\n",
    "\n",
    "## Importance of Sampling distribution\n",
    "It helps us find where a sample that we have lies on the sampling distibution. That helps us understand whether our sample is normal or is there anything special going on compared to other possible samples."
   ]
  }
 ],
 "metadata": {
  "anaconda-cloud": {},
  "kernelspec": {
   "display_name": "Python [conda root]",
   "language": "python",
   "name": "conda-root-py"
  },
  "language_info": {
   "codemirror_mode": {
    "name": "ipython",
    "version": 3
   },
   "file_extension": ".py",
   "mimetype": "text/x-python",
   "name": "python",
   "nbconvert_exporter": "python",
   "pygments_lexer": "ipython3",
   "version": "3.5.2"
  }
 },
 "nbformat": 4,
 "nbformat_minor": 1
}
