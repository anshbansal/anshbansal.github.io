{
 "cells": [
  {
   "cell_type": "markdown",
   "metadata": {
    "collapsed": true
   },
   "source": [
    "# Lesson 04 - Variability\n",
    "\n",
    "- We can measure variability by the range of values. \n",
    "    - It does not take into account the shape. Distributions with very different shapes can have same extremes but obviously their spread is different. \n",
    "    - Outliers can change range too much\n",
    "    - The way to deal with it is to only consider the data between Q3 and Q1 ![](quartiles.png)\n",
    "\n",
    "- Interquartile Range IQR = Q3 - Q1\n",
    "\n",
    "### Outlier\n",
    "- Outlier < Q1 - 1.5(IQR)\n",
    "- Outlier > Q3 + 1.5(IQR)\n",
    "\n",
    "Distributions can also be represented using box plots\n",
    "![](box_plot.png)\n",
    "\n",
    "But IQR still does not take into account different shapes of data sets.\n",
    "![](iqr.png)\n",
    "\n",
    "Average distance from the mean is better. But it contains both negative and positive. We can just take absolute values. Or we can just take squares and take their mean. That gives us a sense of variability in the data.\n",
    "\n",
    "![](deviation.png)\n",
    "\n",
    "Why do we use standard deviation?\n",
    "\n",
    "![](standard_deviation.png)\n",
    "\n",
    "### Bessel's correction\n",
    "\n",
    "Sample standard deviation underestimates the variability in the population. Hence, we need to use Bessel's correction if we want to use the sample to estimate the standard deviation of the population\n",
    "\n",
    "![](bessel.png)"
   ]
  }
 ],
 "metadata": {
  "anaconda-cloud": {},
  "kernelspec": {
   "display_name": "Python [conda root]",
   "language": "python",
   "name": "conda-root-py"
  },
  "language_info": {
   "codemirror_mode": {
    "name": "ipython",
    "version": 3
   },
   "file_extension": ".py",
   "mimetype": "text/x-python",
   "name": "python",
   "nbconvert_exporter": "python",
   "pygments_lexer": "ipython3",
   "version": "3.5.2"
  }
 },
 "nbformat": 4,
 "nbformat_minor": 0
}
