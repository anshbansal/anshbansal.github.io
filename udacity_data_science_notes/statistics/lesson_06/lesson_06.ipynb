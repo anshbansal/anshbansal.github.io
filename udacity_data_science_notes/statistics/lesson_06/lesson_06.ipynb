{
 "cells": [
  {
   "cell_type": "markdown",
   "metadata": {
    "collapsed": true
   },
   "source": [
    "# Lesson 06 - Normal Distributions\n",
    "\n",
    "- The area under the normal distribution is 1 because it models relative frequency of distribution of data in terms of proportions\n",
    "- This curve is also called probability density function\n",
    "![](pdf.png)"
   ]
  },
  {
   "cell_type": "markdown",
   "metadata": {},
   "source": [
    "- No matter the type of normal distribution - wide, skinny the percentages of area under the curve between 2 standard deviations remains the same\n",
    "![](percentages.png)"
   ]
  }
 ],
 "metadata": {
  "anaconda-cloud": {},
  "kernelspec": {
   "display_name": "Python [conda root]",
   "language": "python",
   "name": "conda-root-py"
  },
  "language_info": {
   "codemirror_mode": {
    "name": "ipython",
    "version": 3
   },
   "file_extension": ".py",
   "mimetype": "text/x-python",
   "name": "python",
   "nbconvert_exporter": "python",
   "pygments_lexer": "ipython3",
   "version": "3.5.2"
  }
 },
 "nbformat": 4,
 "nbformat_minor": 0
}
