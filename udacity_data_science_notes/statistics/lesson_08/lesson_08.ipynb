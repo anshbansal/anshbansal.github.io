{
 "cells": [
  {
   "cell_type": "markdown",
   "metadata": {},
   "source": [
    "# Lesson 08 - Estimation\n",
    "\n",
    "- Point estimate - Best guess of a population parameter. It is not conclusive just a best guess.\n",
    "\n",
    "We are trying to estimate what would the new population distribution look like if a treatment is done. We have just one sample of new population and we want to make an estimate about future results. The point estimates from this sample are helpful for that.\n",
    "\n",
    "![](percent_sample.png)\n",
    "\n",
    "To find what the new sample mean would be we need to use this information. \n",
    "\n",
    "If our sample has point estimate of mean as 40 then using this info what can we find out about our new sampling mean. We will make an assumption that this 40 is in the 95%.\n",
    "\n",
    "![](interval_estimate_for_population_mean.png)\n",
    "\n",
    "This interval estimate is called the 95% confidence interval for the mean"
   ]
  },
  {
   "cell_type": "markdown",
   "metadata": {},
   "source": [
    "The actual number is not 2 * SE but 1.96 * SE.\n",
    "\n",
    "![](confidence_interval.png)\n",
    "\n",
    "For 98% confidence interval the Z score should be 2.33. It is also called the Critical values of Z for 98% confidence"
   ]
  }
 ],
 "metadata": {
  "kernelspec": {
   "display_name": "Python [conda root]",
   "language": "python",
   "name": "conda-root-py"
  },
  "language_info": {
   "codemirror_mode": {
    "name": "ipython",
    "version": 3
   },
   "file_extension": ".py",
   "mimetype": "text/x-python",
   "name": "python",
   "nbconvert_exporter": "python",
   "pygments_lexer": "ipython3",
   "version": "3.5.2"
  }
 },
 "nbformat": 4,
 "nbformat_minor": 2
}
