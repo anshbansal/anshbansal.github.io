{
 "cells": [
  {
   "cell_type": "markdown",
   "metadata": {},
   "source": [
    "# Lesson 1: Data Analysis Process"
   ]
  },
  {
   "cell_type": "markdown",
   "metadata": {},
   "source": [
    "## 01 Introduction\n",
    "- Data Analyst is someone who uses data to answer questions\n",
    "- Using data to answer questions like\n",
    "    - What makes students more likely to submit their projects\n",
    "    - What countries around the world have the highest and lowest employment rates\n",
    "    - How does subway ridership vary by location, time of day and weather conditions\n",
    "- Learn to use libraries that will make data analysis a lot easier\n",
    "    - Numpy\n",
    "    - Pandas\n",
    "    - Matplotlib"
   ]
  },
  {
   "cell_type": "markdown",
   "metadata": {},
   "source": [
    "## 02 - Problems Solved by Data Analysts\n",
    "Hearing Data analysis people generally think person working in tech company & Silicon valley. But it is not necessary. It is used outside tech companies also.\n",
    "\n",
    "Tech-y systems\n",
    "- Netflix uses it for providing personalized movie recommendations\n",
    "- facebook uses them in their news feed ranking algorithm\n",
    "- okcupid uses it to provide good romantic matches\n",
    "\n",
    "Resources\n",
    "* [Paper by Facebook on exposure to ideologically diverse information](https://research.facebook.com/publications/1629735407303857/exposure-to-ideologically-diverse-information-on-facebook/)\n",
    "* [OKCupid blog post on the best questions to ask on a first date](http://blog.okcupid.com/index.php/the-best-questions-for-first-dates/)\n",
    "* [How Walmart used data analysis to increase sales](http://www.dezyre.com/article/how-big-data-analysis-helped-increase-walmart-s-sales-turnover/109)\n",
    "* [How Bill James applied data analysis to baseball](https://en.wikipedia.org/wiki/Bill_James)\n",
    "* [A pharmaceutical company uses data analysis to predict which chemical compounds are likely to make effective drugs](http://www.numerate.com/numerates-ranking-technology-pharmaceutical-rd-gains-u-s-patent/)"
   ]
  },
  {
   "cell_type": "markdown",
   "metadata": {},
   "source": [
    "## 03 - Data Analysis Process\n",
    "1. Question\n",
    "    - starts with\n",
    "        - question that you want to answer\n",
    "        - a problem that you want to solve\n",
    "2. Wrangle\n",
    "    1. Data acquisiton\n",
    "        - find that which is needed for answering the question\n",
    "    2. Data cleaning\n",
    "        - cleaning up any problems that you find\n",
    "3. Explore\n",
    "    - getting familiar with data\n",
    "    - build intuition\n",
    "    - finding patterns\n",
    "4. Draw Conclusions or make predictions\n",
    "    - example\n",
    "        - Prediction: Netflix needs to find which movies the users will like\n",
    "        - Conclusion: Facebook found that users are less likely to click some articles\n",
    "    - Usually requires machine learning or statistics\n",
    "5. Communicate\n",
    "    - finding as useful as your ability to share them\n",
    "    - many ways to do this\n",
    "    - visualization is almost always useful\n",
    "    \n",
    "Not always straight forward process. We keep on exploring and need to wrangle more.\n",
    "\n",
    "![](data_analysis_process.png)\n",
    "\n",
    "\n",
    "We may also need to go back to the question as we get more familiar with the data\n",
    "\n",
    "![](data_analysis_process2.png)"
   ]
  },
  {
   "cell_type": "markdown",
   "metadata": {},
   "source": [
    "## Installation and common instructions\n",
    "- [Anaconda download](http://continuum.io/downloads)\n",
    "- If you have Anaconda already installed\n",
    "    - `conda update conda`\n",
    "    - `conda update anaconda`\n",
    "- Running iPython notebook\n",
    "    - `jupyter notebook ipython_notebook_tutorial.ipynb`\n"
   ]
  },
  {
   "cell_type": "markdown",
   "metadata": {},
   "source": [
    "## 04 - Intro to CSVs (Comma Separated Values)\n",
    "- Easier to process than other formats like xls"
   ]
  },
  {
   "cell_type": "markdown",
   "metadata": {},
   "source": [
    "## 05 - CSVs in Python"
   ]
  },
  {
   "cell_type": "code",
   "execution_count": 1,
   "metadata": {
    "collapsed": false
   },
   "outputs": [
    {
     "name": "stdout",
     "output_type": "stream",
     "text": [
      "[['A1', 'A2'], ['B1', 'B2']]\n",
      "[{'age': '25', 'name': 'Aseem'}, {'age': '25', 'name': 'Aseem'}]\n"
     ]
    }
   ],
   "source": [
    "## As list of rows\n",
    "\n",
    "# Option 1: Each row is a list\n",
    "csv = [\n",
    "    ['A1', 'A2'],\n",
    "    ['B1', 'B2']\n",
    "]\n",
    "\n",
    "print csv\n",
    "\n",
    "# Option 2: Each row is a dictionary\n",
    "# Better if your csv has a header\n",
    "csv = [\n",
    "    {'name': 'Aseem', 'age': '25'},\n",
    "    {'name': 'Aseem', 'age': '25'}\n",
    "]\n",
    "\n",
    "print csv"
   ]
  },
  {
   "cell_type": "markdown",
   "metadata": {},
   "source": [
    "## Load Data from CSVs"
   ]
  },
  {
   "cell_type": "code",
   "execution_count": 2,
   "metadata": {
    "collapsed": false
   },
   "outputs": [
    {
     "data": {
      "text/plain": [
       "{u'account_key': u'448',\n",
       " u'cancel_date': u'2015-01-14',\n",
       " u'days_to_cancel': u'65',\n",
       " u'is_canceled': u'True',\n",
       " u'is_udacity': u'True',\n",
       " u'join_date': u'2014-11-10',\n",
       " u'status': u'canceled'}"
      ]
     },
     "execution_count": 2,
     "metadata": {},
     "output_type": "execute_result"
    }
   ],
   "source": [
    "import unicodecsv\n",
    "\n",
    "## Longer version of code (replaced with shorter, equivalent version below)\n",
    "\n",
    "# enrollments = []\n",
    "# f = open('enrollments.csv', 'rb')\n",
    "# reader = unicodecsv.DictReader(f)\n",
    "# for row in reader:\n",
    "#     enrollments.append(row)\n",
    "# f.close()\n",
    "\n",
    "with open('enrollments.csv', 'rb') as f:\n",
    "    reader = unicodecsv.DictReader(f)\n",
    "    enrollments = list(reader)\n",
    "\n",
    "enrollments[0]"
   ]
  },
  {
   "cell_type": "code",
   "execution_count": 3,
   "metadata": {
    "collapsed": false,
    "scrolled": false
   },
   "outputs": [
    {
     "name": "stdout",
     "output_type": "stream",
     "text": [
      "{u'lessons_completed': u'0.0', u'num_courses_visited': u'1.0', u'total_minutes_visited': u'11.6793745', u'projects_completed': u'0.0', u'acct': u'0', u'utc_date': u'2015-01-09'}\n",
      "\n",
      "\n",
      "{u'lesson_key': u'3176718735', u'processing_state': u'EVALUATED', u'account_key': u'256', u'assigned_rating': u'UNGRADED', u'completion_date': u'2015-01-16', u'creation_date': u'2015-01-14'}\n"
     ]
    }
   ],
   "source": [
    "#####################################\n",
    "#                 1                 #\n",
    "#####################################\n",
    "\n",
    "## Read in the data from daily_engagement.csv and project_submissions.csv \n",
    "## and store the results in the below variables.\n",
    "## Then look at the first row of each table.\n",
    "\n",
    "def read_csv(file_name):\n",
    "    with open(file_name, 'rb') as f:\n",
    "        reader = unicodecsv.DictReader(f)\n",
    "        return list(reader)\n",
    "\n",
    "daily_engagement = read_csv('daily_engagement.csv')\n",
    "project_submissions = read_csv('project_submissions.csv')\n",
    "\n",
    "print daily_engagement[0]\n",
    "print \"\\n\"\n",
    "print project_submissions[0]"
   ]
  },
  {
   "cell_type": "markdown",
   "metadata": {},
   "source": [
    "[This page](https://docs.python.org/2/library/csv.html) contains documentation for Python's csv module. Instead of csv, you'll be using unicodecsv in this course. unicodecsv works exactly the same as csv, but it comes with Anaconda and has support for unicode. The csv documentation page is still the best way to learn how to use the unicodecsv library, since the two libraries work exactly the same way.\n",
    "\n",
    "[This page](https://www.codementor.io/python/tutorial/python-generators-and-iterators) explains the difference between iterators and lists in Python, and how to use iterators."
   ]
  },
  {
   "cell_type": "markdown",
   "metadata": {},
   "source": [
    "## 07 - Fixing Data Types\n",
    "`csv` module reads every value as a string rather than actual data types. This could be confusing. Hence, it is better to fix this now rather than waiting for later."
   ]
  },
  {
   "cell_type": "code",
   "execution_count": 4,
   "metadata": {
    "collapsed": false
   },
   "outputs": [
    {
     "data": {
      "text/plain": [
       "{u'account_key': u'448',\n",
       " u'cancel_date': datetime.datetime(2015, 1, 14, 0, 0),\n",
       " u'days_to_cancel': 65,\n",
       " u'is_canceled': True,\n",
       " u'is_udacity': True,\n",
       " u'join_date': datetime.datetime(2014, 11, 10, 0, 0),\n",
       " u'status': u'canceled'}"
      ]
     },
     "execution_count": 4,
     "metadata": {},
     "output_type": "execute_result"
    }
   ],
   "source": [
    "from datetime import datetime as dt\n",
    "\n",
    "# Takes a date as a string, and returns a Python datetime object. \n",
    "# If there is no date given, returns None\n",
    "def parse_date(date):\n",
    "    if date == '':\n",
    "        return None\n",
    "    else:\n",
    "        return dt.strptime(date, '%Y-%m-%d')\n",
    "    \n",
    "# Takes a string which is either an empty string or represents an integer,\n",
    "# and returns an int or None.\n",
    "def parse_maybe_int(i):\n",
    "    if i == '':\n",
    "        return None\n",
    "    else:\n",
    "        return int(i)\n",
    "\n",
    "# Clean up the data types in the enrollments table\n",
    "for enrollment in enrollments:\n",
    "    enrollment['cancel_date'] = parse_date(enrollment['cancel_date'])\n",
    "    enrollment['days_to_cancel'] = parse_maybe_int(enrollment['days_to_cancel'])\n",
    "    enrollment['is_canceled'] = enrollment['is_canceled'] == 'True'\n",
    "    enrollment['is_udacity'] = enrollment['is_udacity'] == 'True'\n",
    "    enrollment['join_date'] = parse_date(enrollment['join_date'])\n",
    "    \n",
    "enrollments[0]"
   ]
  },
  {
   "cell_type": "code",
   "execution_count": 5,
   "metadata": {
    "collapsed": false
   },
   "outputs": [
    {
     "data": {
      "text/plain": [
       "{u'acct': u'0',\n",
       " u'lessons_completed': 0,\n",
       " u'num_courses_visited': 1,\n",
       " u'projects_completed': 0,\n",
       " u'total_minutes_visited': 11.6793745,\n",
       " u'utc_date': datetime.datetime(2015, 1, 9, 0, 0)}"
      ]
     },
     "execution_count": 5,
     "metadata": {},
     "output_type": "execute_result"
    }
   ],
   "source": [
    "def to_float(record, key):\n",
    "    record[key] = float(record[key])\n",
    "\n",
    "def to_int(record, key):\n",
    "    record[key] = int(float(record[key]))\n",
    "\n",
    "# Clean up the data types in the engagement table\n",
    "for engagement_record in daily_engagement:\n",
    "    to_int(engagement_record, 'lessons_completed')\n",
    "    to_int(engagement_record, 'num_courses_visited')\n",
    "    to_int(engagement_record, 'projects_completed')\n",
    "    to_float(engagement_record, 'total_minutes_visited')\n",
    "    engagement_record['utc_date'] = parse_date(engagement_record['utc_date'])\n",
    "    \n",
    "daily_engagement[0]"
   ]
  },
  {
   "cell_type": "code",
   "execution_count": 6,
   "metadata": {
    "collapsed": false
   },
   "outputs": [
    {
     "data": {
      "text/plain": [
       "{u'account_key': u'256',\n",
       " u'assigned_rating': u'UNGRADED',\n",
       " u'completion_date': datetime.datetime(2015, 1, 16, 0, 0),\n",
       " u'creation_date': datetime.datetime(2015, 1, 14, 0, 0),\n",
       " u'lesson_key': u'3176718735',\n",
       " u'processing_state': u'EVALUATED'}"
      ]
     },
     "execution_count": 6,
     "metadata": {},
     "output_type": "execute_result"
    }
   ],
   "source": [
    "# Clean up the data types in the submissions table\n",
    "for submission in project_submissions:\n",
    "    submission['completion_date'] = parse_date(submission['completion_date'])\n",
    "    submission['creation_date'] = parse_date(submission['creation_date'])\n",
    "\n",
    "project_submissions[0]"
   ]
  },
  {
   "cell_type": "markdown",
   "metadata": {},
   "source": [
    "Note when running the above cells that we are actively changing the contents of our data variables. If you try to run these cells multiple times in the same session, an error will occur.\n",
    "\n",
    "## Questions\n",
    "- How long to submit projects?\n",
    "- How do students who submit their projects different from the students who don't?"
   ]
  },
  {
   "cell_type": "markdown",
   "metadata": {},
   "source": [
    "## 10 Investigating the Data\n",
    "\n",
    "We will run some numbers to get some understanding about the data."
   ]
  },
  {
   "cell_type": "markdown",
   "metadata": {},
   "source": [
    "For removing an element from a dictionary, [this post](http://stackoverflow.com/questions/5844672/delete-an-element-from-a-dictionary) might be helpful"
   ]
  },
  {
   "cell_type": "code",
   "execution_count": 7,
   "metadata": {
    "collapsed": true
   },
   "outputs": [],
   "source": [
    "#####################################\n",
    "#                 3                 #\n",
    "#####################################\n",
    "\n",
    "## Rename the \"acct\" column in the daily_engagement table to \"account_key\".\n",
    "\n",
    "# NOTE Added later after finding the problems in the data\n",
    "for engagement_record in daily_engagement:\n",
    "    # Rename the \"acct\" column in the daily_engagement table to \"account_key\".\n",
    "    engagement_record['account_key'] = engagement_record['acct']\n",
    "    del engagement_record['acct']"
   ]
  },
  {
   "cell_type": "code",
   "execution_count": 8,
   "metadata": {
    "collapsed": false
   },
   "outputs": [
    {
     "name": "stdout",
     "output_type": "stream",
     "text": [
      "total enrollments = 1640, unique 1302\n",
      "total daily engagements = 136240, unique 1237\n",
      "total project submissions = 3642, unique 743\n"
     ]
    }
   ],
   "source": [
    "#####################################\n",
    "#                 2                 #\n",
    "#####################################\n",
    "\n",
    "## Find the total number of rows and the number of unique students (account keys)\n",
    "## in each table.\n",
    "    \n",
    "def unique_accounts(data):\n",
    "    result = set()\n",
    "    for row in data:\n",
    "        result.add(row['account_key'])\n",
    "    return result\n",
    "\n",
    "def print_total_and_unique(name, data):\n",
    "    print \"total {0} = {1}, unique {2}\".format(name, len(data), len(unique_accounts(data)))\n",
    "\n",
    "print_total_and_unique(\"enrollments\", enrollments)\n",
    "print_total_and_unique(\"daily engagements\", daily_engagement)\n",
    "print_total_and_unique(\"project submissions\", project_submissions)"
   ]
  },
  {
   "cell_type": "markdown",
   "metadata": {},
   "source": [
    "- The reason total enrollments and unique enrollments are different is that students can enroll, cancel and then re-enroll\n",
    "- There are much more daily engagegement (136240) compared to enrollments. That is expected as each student will have an entry for every day"
   ]
  },
  {
   "cell_type": "markdown",
   "metadata": {},
   "source": [
    "## 11 Problems in the Data\n",
    "- The number of unique engagements are not the same as unique enrollments. It should be as engagement table is supposed to contain a row for each day a student was enrolled in the course\n",
    "- Engagement table has `acct` while other two tables have `account_key`. Renamed this so that we can use a single function instead of copy pasting code"
   ]
  },
  {
   "cell_type": "markdown",
   "metadata": {},
   "source": [
    "## 13 - Missing Engagement Records\n",
    "- Why are students missing from engagement table?\n",
    "- If there is something in your data that you don't understand it is important to spend time and understand that \n",
    "    - as  we could be missing something important\n",
    "    - cannot trust your results \n",
    "    \n",
    "### Investigating problems\n",
    "1. Identify surprising points\n",
    "2. Print out a few data points\n",
    "\n",
    "We will print one account without daily engagement data and one account with daily engagement data. Then we will compare and see if we can find anything"
   ]
  },
  {
   "cell_type": "code",
   "execution_count": 9,
   "metadata": {
    "collapsed": false
   },
   "outputs": [
    {
     "name": "stdout",
     "output_type": "stream",
     "text": [
      "missing \n",
      " {u'status': u'canceled', u'is_udacity': True, u'is_canceled': True, u'join_date': datetime.datetime(2015, 1, 10, 0, 0), u'account_key': u'1304', u'cancel_date': datetime.datetime(2015, 3, 10, 0, 0), u'days_to_cancel': 59}\n",
      "\n",
      "present \n",
      " {u'status': u'canceled', u'is_udacity': False, u'is_canceled': True, u'join_date': datetime.datetime(2015, 4, 3, 0, 0), u'account_key': u'723', u'cancel_date': datetime.datetime(2015, 4, 6, 0, 0), u'days_to_cancel': 3}\n"
     ]
    }
   ],
   "source": [
    "#####################################\n",
    "#                 4                 #\n",
    "#####################################\n",
    "\n",
    "## Find any one student enrollments where the student \n",
    "## is missing from the daily engagement table.\n",
    "## Output that enrollment.\n",
    "\n",
    "\n",
    "def get_one(data):\n",
    "    for row in data:\n",
    "        return row\n",
    "\n",
    "def get_account_data(data, account_key):\n",
    "    for row in data:\n",
    "        if row['account_key'] == account_key:\n",
    "            return row\n",
    "\n",
    "def audit_all_enrollment_should_have_engagement(enrollments, engagements):\n",
    "    unique_enrollments = unique_accounts(enrollments)\n",
    "    unique_daily_engagement = unique_accounts(engagements)\n",
    "\n",
    "    missing_engagements = unique_enrollments - unique_daily_engagement\n",
    "    present_engagements = unique_enrollments - missing_engagements\n",
    "\n",
    "    print \"missing \\n {}\".format(\n",
    "        get_account_data(enrollments, get_one(missing_engagements))\n",
    "    )\n",
    "    print \"\"\n",
    "    print \"present \\n {}\".format(\n",
    "        get_account_data(enrollments, get_one(present_engagements))\n",
    "    )\n",
    "    \n",
    "audit_all_enrollment_should_have_engagement(enrollments, daily_engagement)"
   ]
  },
  {
   "cell_type": "markdown",
   "metadata": {},
   "source": [
    "I notice that `is_udacity` is `True` for the missing record while it is `False` for the present record.\n",
    "\n",
    "The instructor talks with a Udacity Data Scientist and they share that for these are Udacity test accounts and they may not have data in the daily engagement table.\n",
    "\n",
    "So we will go ahead and remove these test accounts from the data set."
   ]
  },
  {
   "cell_type": "code",
   "execution_count": 10,
   "metadata": {
    "collapsed": false
   },
   "outputs": [
    {
     "data": {
      "text/plain": [
       "6"
      ]
     },
     "execution_count": 10,
     "metadata": {},
     "output_type": "execute_result"
    }
   ],
   "source": [
    "# Create a set of the account keys for all Udacity test accounts\n",
    "udacity_test_accounts = set()\n",
    "for enrollment in enrollments:\n",
    "    if enrollment['is_udacity']:\n",
    "        udacity_test_accounts.add(enrollment['account_key'])\n",
    "len(udacity_test_accounts)"
   ]
  },
  {
   "cell_type": "code",
   "execution_count": 11,
   "metadata": {
    "collapsed": true
   },
   "outputs": [],
   "source": [
    "# Given some data with an account_key field, \n",
    "# removes any records corresponding to Udacity test accounts\n",
    "def remove_udacity_accounts(data):\n",
    "    non_udacity_data = []\n",
    "    for data_point in data:\n",
    "        if data_point['account_key'] not in udacity_test_accounts:\n",
    "            non_udacity_data.append(data_point)\n",
    "    return non_udacity_data"
   ]
  },
  {
   "cell_type": "code",
   "execution_count": 12,
   "metadata": {
    "collapsed": false
   },
   "outputs": [
    {
     "name": "stdout",
     "output_type": "stream",
     "text": [
      "1622\n",
      "135656\n",
      "3634\n"
     ]
    }
   ],
   "source": [
    "# Remove Udacity test accounts from all three tables\n",
    "non_udacity_enrollments = remove_udacity_accounts(enrollments)\n",
    "non_udacity_engagement = remove_udacity_accounts(daily_engagement)\n",
    "non_udacity_submissions = remove_udacity_accounts(project_submissions)\n",
    "\n",
    "print len(non_udacity_enrollments)\n",
    "print len(non_udacity_engagement)\n",
    "print len(non_udacity_submissions)"
   ]
  },
  {
   "cell_type": "markdown",
   "metadata": {},
   "source": [
    "At this point we repeat and ensure that this will all of the surprises related to our earlier observation. This is a common process that we need to do during data analysis.\n",
    "\n",
    "![](investigate.png)\n",
    "\n",
    "\n",
    "## Checking for More Problem Records\n",
    "So we run the earlier code again and ensure that we do not gave any more surprises"
   ]
  },
  {
   "cell_type": "code",
   "execution_count": 13,
   "metadata": {
    "collapsed": false
   },
   "outputs": [
    {
     "name": "stdout",
     "output_type": "stream",
     "text": [
      "total enrollments = 1622, unique 1296\n",
      "total daily engagements = 135656, unique 1234\n"
     ]
    }
   ],
   "source": [
    "#####################################\n",
    "#                 5                 #\n",
    "#####################################\n",
    "\n",
    "## Find the number of surprising data points (enrollments missing from\n",
    "## the engagement table) that remain, if any.\n",
    "print_total_and_unique(\"enrollments\", non_udacity_enrollments)\n",
    "print_total_and_unique(\"daily engagements\", non_udacity_engagement)"
   ]
  },
  {
   "cell_type": "markdown",
   "metadata": {},
   "source": [
    "## Tracking Down the Remaining Problems\n",
    "We see that we still have something left in the data that we are not quite sure about as the unique numbers still do not match. So we repeat and try to find what problem still remains."
   ]
  },
  {
   "cell_type": "code",
   "execution_count": 14,
   "metadata": {
    "collapsed": false
   },
   "outputs": [
    {
     "name": "stdout",
     "output_type": "stream",
     "text": [
      "missing \n",
      " {u'status': u'canceled', u'is_udacity': False, u'is_canceled': True, u'join_date': datetime.datetime(2015, 3, 7, 0, 0), u'account_key': u'1129', u'cancel_date': datetime.datetime(2015, 3, 7, 0, 0), u'days_to_cancel': 0}\n",
      "\n",
      "present \n",
      " {u'status': u'canceled', u'is_udacity': False, u'is_canceled': True, u'join_date': datetime.datetime(2015, 4, 3, 0, 0), u'account_key': u'723', u'cancel_date': datetime.datetime(2015, 4, 6, 0, 0), u'days_to_cancel': 3}\n"
     ]
    }
   ],
   "source": [
    "audit_all_enrollment_should_have_engagement(non_udacity_enrollments, non_udacity_engagement)"
   ]
  },
  {
   "cell_type": "markdown",
   "metadata": {},
   "source": [
    "- Looking at the above data we see that `days_to_cancel` is 0 for the missing account. \n",
    "- The `join_date` is the same as `cancel_date`. \n",
    "- Probably a person needs to be enrolled at least a day for there to be an engagement record.\n",
    "\n",
    "Now we repeat to see if excluding these account we can no more surprises. For this we need to firstly filter these people out."
   ]
  },
  {
   "cell_type": "code",
   "execution_count": 15,
   "metadata": {
    "collapsed": false
   },
   "outputs": [
    {
     "data": {
      "text/plain": [
       "82"
      ]
     },
     "execution_count": 15,
     "metadata": {},
     "output_type": "execute_result"
    }
   ],
   "source": [
    "#Make a list of people who cancelled the same day\n",
    "people_who_cancelled_same_day = set()\n",
    "for enrollment in non_udacity_enrollments:\n",
    "    if enrollment['days_to_cancel'] == 0:\n",
    "        people_who_cancelled_same_day.add(enrollment['account_key'])\n",
    "len(people_who_cancelled_same_day)"
   ]
  },
  {
   "cell_type": "code",
   "execution_count": 16,
   "metadata": {
    "collapsed": true
   },
   "outputs": [],
   "source": [
    "def remove_people_who_cancelled_same_day(data):\n",
    "    no_cancellations = []\n",
    "    for data_point in data:\n",
    "        if data_point['account_key'] not in people_who_cancelled_same_day:\n",
    "            no_cancellations.append(data_point)\n",
    "    return no_cancellations"
   ]
  },
  {
   "cell_type": "code",
   "execution_count": 17,
   "metadata": {
    "collapsed": false
   },
   "outputs": [
    {
     "name": "stdout",
     "output_type": "stream",
     "text": [
      "1507\n",
      "133960\n",
      "3591\n"
     ]
    }
   ],
   "source": [
    "# Remove People who cancelled the same day\n",
    "enrollments_2 = remove_people_who_cancelled_same_day(non_udacity_enrollments)\n",
    "engagement_2 = remove_people_who_cancelled_same_day(non_udacity_engagement)\n",
    "submissions_2 = remove_people_who_cancelled_same_day(non_udacity_submissions)\n",
    "\n",
    "print len(enrollments_2)\n",
    "print len(engagement_2)\n",
    "print len(submissions_2)"
   ]
  },
  {
   "cell_type": "markdown",
   "metadata": {},
   "source": [
    "Now we have done the filtering we will see if our check passes or are there more surprises left"
   ]
  },
  {
   "cell_type": "code",
   "execution_count": 18,
   "metadata": {
    "collapsed": false
   },
   "outputs": [
    {
     "name": "stdout",
     "output_type": "stream",
     "text": [
      "missing \n",
      " None\n",
      "\n",
      "present \n",
      " {u'status': u'canceled', u'is_udacity': False, u'is_canceled': True, u'join_date': datetime.datetime(2015, 4, 3, 0, 0), u'account_key': u'723', u'cancel_date': datetime.datetime(2015, 4, 6, 0, 0), u'days_to_cancel': 3}\n"
     ]
    }
   ],
   "source": [
    "audit_all_enrollment_should_have_engagement(enrollments_2, engagement_2)"
   ]
  },
  {
   "cell_type": "markdown",
   "metadata": {},
   "source": [
    "- Finally we can see that we have no more surprises left. At least surprises related to  someone enrolled not having engagement.\n",
    "- Now we may or may not want to actually exclude these people when analysing further. Depends on what we are questions we are trying to answer. "
   ]
  },
  {
   "cell_type": "markdown",
   "metadata": {},
   "source": [
    "## Refining the Question\n",
    "\n",
    "Now that we don't have any other questions we could move on from the wrangling to the exploration phase\n",
    "\n",
    "#### Question\n",
    "How do numbers in the `daily_engagement` differ for students who pass the first project?\n",
    "\n",
    "But there are a few problems in the question as currently specified.\n",
    "\n",
    "#### Problems\n",
    "1. This will include data from after the project submissions\n",
    "2. This compares data for different length of time as students may work for different length of time. Say someone submits after a week vs. a month\n",
    "\n",
    "So we will only look at \n",
    "- engagement from first week\n",
    "- exclude students who cancel within the first week"
   ]
  },
  {
   "cell_type": "code",
   "execution_count": 19,
   "metadata": {
    "collapsed": false
   },
   "outputs": [
    {
     "data": {
      "text/plain": [
       "995"
      ]
     },
     "execution_count": 19,
     "metadata": {},
     "output_type": "execute_result"
    }
   ],
   "source": [
    "#####################################\n",
    "#                 6                 #\n",
    "#####################################\n",
    "\n",
    "## Create a dictionary named paid_students containing all students who either\n",
    "## haven't canceled yet or who remained enrolled for more than 7 days. The keys\n",
    "## should be account keys, and the values should be the date the student enrolled.\n",
    "\n",
    "paid_students = {}\n",
    "for enrollment in non_udacity_enrollments:\n",
    "    if not enrollment['is_canceled'] or enrollment['days_to_cancel'] > 7:\n",
    "        account_key = enrollment['account_key']\n",
    "        join_date = enrollment['join_date']\n",
    "\n",
    "        # Not directly adding the key value as \n",
    "        # having most recent enrollment makes more sense\n",
    "        if account_key not in paid_students or join_date > paid_students[account_key]:\n",
    "            paid_students[account_key] = join_date\n",
    "\n",
    "len(paid_students)"
   ]
  },
  {
   "cell_type": "markdown",
   "metadata": {},
   "source": [
    "Thinking about it the name `paid_students` isn't really good as someone who has not cancelled may or may not be a paid student. But I'll go with that so that rest of the lesson remains in-sync with the videos.\n",
    "\n",
    "Now we will filter and keep only these students and proceed further based on these only."
   ]
  },
  {
   "cell_type": "code",
   "execution_count": 20,
   "metadata": {
    "collapsed": true
   },
   "outputs": [],
   "source": [
    "def keep_paid(data):\n",
    "    result = []\n",
    "    for row in data:\n",
    "        account_key = row['account_key']\n",
    "        if account_key in paid_students:\n",
    "            result.append(row)\n",
    "    return result"
   ]
  },
  {
   "cell_type": "code",
   "execution_count": 21,
   "metadata": {
    "collapsed": false
   },
   "outputs": [],
   "source": [
    "# Filter data to keep only for paid enrollments\n",
    "paid_enrollments = keep_paid(non_udacity_enrollments)\n",
    "paid_engagements = keep_paid(non_udacity_engagement)\n",
    "paid_submissions = keep_paid(non_udacity_submissions)"
   ]
  },
  {
   "cell_type": "markdown",
   "metadata": {},
   "source": [
    "## Getting Data from First Week\n",
    "\n",
    "We will filter out data to keep only engagement upto the first week.\n",
    "\n",
    "I added a function to keep data within n days rather than one week only. What if I want to change it later? Giving an additional parameter helps."
   ]
  },
  {
   "cell_type": "code",
   "execution_count": 22,
   "metadata": {
    "collapsed": true
   },
   "outputs": [],
   "source": [
    "# Takes a student's join date and the date of a specific engagement record,\n",
    "# and returns True if that engagement record happened within one week\n",
    "# of the student joining.\n",
    "def within_one_week(join_date, engagement_date):\n",
    "    time_delta = engagement_date - join_date\n",
    "    return time_delta.days < 7\n",
    "\n",
    "def within_n_days(join_date, engagement_date, n):\n",
    "    time_delta = engagement_date - join_date\n",
    "    return n > time_delta.days >= 0"
   ]
  },
  {
   "cell_type": "markdown",
   "metadata": {},
   "source": [
    "Ignore the following code block till you get to the block **Number of Visits in First Week**\n",
    "\n",
    "This adds a `has_visited` column to engagement records for use later"
   ]
  },
  {
   "cell_type": "code",
   "execution_count": 23,
   "metadata": {
    "collapsed": true
   },
   "outputs": [],
   "source": [
    "for engagement in paid_engagements:\n",
    "    if engagement['num_courses_visited'] > 0:\n",
    "        engagement['has_visited'] = 1\n",
    "    else:\n",
    "        engagement['has_visited'] = 0"
   ]
  },
  {
   "cell_type": "code",
   "execution_count": 24,
   "metadata": {
    "collapsed": false
   },
   "outputs": [
    {
     "data": {
      "text/plain": [
       "6919"
      ]
     },
     "execution_count": 24,
     "metadata": {},
     "output_type": "execute_result"
    }
   ],
   "source": [
    "#####################################\n",
    "#                 7                 #\n",
    "#####################################\n",
    "\n",
    "## Create a list of rows from the engagement table including only rows where\n",
    "## the student is one of the paid students you just found, and the date is within\n",
    "## one week of the student's join date.\n",
    "\n",
    "paid_engagement_in_first_week = []\n",
    "for engagement in paid_engagements:\n",
    "\n",
    "    account_key = engagement['account_key']\n",
    "    utc_date = engagement['utc_date']\n",
    "    join_date = paid_students[account_key]\n",
    "\n",
    "    if within_n_days(join_date, utc_date, 7):\n",
    "        paid_engagement_in_first_week.append(engagement)\n",
    "        \n",
    "len(paid_engagement_in_first_week)"
   ]
  },
  {
   "cell_type": "code",
   "execution_count": 25,
   "metadata": {
    "collapsed": false
   },
   "outputs": [
    {
     "name": "stdout",
     "output_type": "stream",
     "text": [
      "total enrollments = 1293, unique 995\n",
      "total daily engagements = 134549, unique 995\n",
      "total project submissions = 3618, unique 731\n"
     ]
    }
   ],
   "source": [
    "# Filter data to keep only for paid enrollments\n",
    "paid_enrollments = keep_paid(non_udacity_enrollments)\n",
    "paid_engagements = keep_paid(non_udacity_engagement)\n",
    "paid_submissions = keep_paid(non_udacity_submissions)\n",
    "\n",
    "print_total_and_unique(\"enrollments\", paid_enrollments)\n",
    "print_total_and_unique(\"daily engagements\", paid_engagements)\n",
    "print_total_and_unique(\"project submissions\", paid_submissions)"
   ]
  },
  {
   "cell_type": "markdown",
   "metadata": {},
   "source": [
    "At this point we would like to divide the data into 2 parts\n",
    "    - student who pass the project\n",
    "    - student who don't pass\n",
    "    \n",
    "But as we have this data about student engagement in the first week why don't we explore it a bit? That will help us understand it better."
   ]
  },
  {
   "cell_type": "markdown",
   "metadata": {},
   "source": [
    "## Exploring Student Engagement\n",
    "\n",
    "Let us explore the average time spent by student in the class.\n",
    "\n",
    "We intially group the engagement data by student.\n",
    "\n",
    "![](average_time2.png)"
   ]
  },
  {
   "cell_type": "code",
   "execution_count": 26,
   "metadata": {
    "collapsed": false
   },
   "outputs": [],
   "source": [
    "from collections import defaultdict\n",
    "\n",
    "def group_by(data, key):\n",
    "    grouped = defaultdict(list)\n",
    "    for record in data:\n",
    "        _key = record[key]\n",
    "        grouped[_key].append(record)\n",
    "    return grouped\n",
    "\n",
    "# Create a dictionary of engagement grouped by student.\n",
    "# The keys are account keys, and the values are lists of engagement records.\n",
    "    \n",
    "engagement_by_account = group_by(paid_engagement_in_first_week, 'account_key')\n"
   ]
  },
  {
   "cell_type": "markdown",
   "metadata": {},
   "source": [
    "Now we sum time spent by each student\n",
    "\n",
    "![](average_time3.png)"
   ]
  },
  {
   "cell_type": "code",
   "execution_count": 27,
   "metadata": {
    "collapsed": false
   },
   "outputs": [
    {
     "data": {
      "text/plain": [
       "995"
      ]
     },
     "execution_count": 27,
     "metadata": {},
     "output_type": "execute_result"
    }
   ],
   "source": [
    "# Create a dictionary with the total minutes each student spent \n",
    "# in the classroom during the first week.\n",
    "# The keys are account keys, and the values are numbers (total minutes)\n",
    "\n",
    "def sum_grouped_by_key(data, key):\n",
    "    total_by_account = {}\n",
    "    for account_key, engagement_for_student in data.items():\n",
    "        total = 0\n",
    "        for engagement_record in engagement_for_student:\n",
    "            total += engagement_record[key]\n",
    "        total_by_account[account_key] = total\n",
    "    return total_by_account\n",
    "\n",
    "total_minutes_by_account = sum_grouped_by_key(\n",
    "    engagement_by_account, \n",
    "    'total_minutes_visited'\n",
    ")\n",
    "\n",
    "len(total_minutes_by_account)"
   ]
  },
  {
   "cell_type": "markdown",
   "metadata": {},
   "source": [
    "Now we output the average \n",
    "\n",
    "![](average_time5.png)\n",
    "\n",
    "While we are looking at the mean we will also look at some other statistics\n",
    "\n",
    "Even though we know the mean, standard deviation, maximum, and minimum of various metrics, there are a lot of other facts about each metric that would be nice to know. Are more values close to the minimum or the maximum? What is the median? And so on.\n",
    "\n",
    "Instead of printing out more statistics, it makes sense to visualize the data using a histogram."
   ]
  },
  {
   "cell_type": "code",
   "execution_count": 28,
   "metadata": {
    "collapsed": false
   },
   "outputs": [
    {
     "name": "stdout",
     "output_type": "stream",
     "text": [
      "Populating the interactive namespace from numpy and matplotlib\n"
     ]
    },
    {
     "name": "stderr",
     "output_type": "stream",
     "text": [
      "WARNING: pylab import has clobbered these variables: ['f']\n",
      "`%matplotlib` prevents importing * from pylab and numpy\n"
     ]
    }
   ],
   "source": [
    "%pylab inline\n",
    "\n",
    "import seaborn as sns\n",
    "import matplotlib.pyplot as plt\n",
    "import numpy as np\n",
    "\n",
    "def summarize(data_dict):\n",
    "    # Summarize the data about minutes spent in the classroom\n",
    "    data_vals = data_dict.values()\n",
    "    print 'Mean:', np.mean(data_vals)\n",
    "    print 'Standard deviation:', np.std(data_vals)\n",
    "    print 'Minimum:', np.min(data_vals)\n",
    "    print 'Maximum:', np.max(data_vals)\n",
    "    plt.hist(data_vals)"
   ]
  },
  {
   "cell_type": "markdown",
   "metadata": {},
   "source": [
    "The line `%matplotlib inline` is specifically for IPython notebook, and causes your plots to appear in your notebook rather than a new window. If you are not using IPython notebook, you should not include this line, and instead you should add the line `plt.show()` at the bottom to show the plot in a new window.\n",
    "\n",
    "To change how many bins are shown for each plot, try using the `bins` argument to the hist function. You can find documentation for the `hist` function and the arguments it takes [here](http://matplotlib.org/api/pyplot_api.html#matplotlib.pyplot.hist)."
   ]
  },
  {
   "cell_type": "code",
   "execution_count": 29,
   "metadata": {
    "collapsed": false
   },
   "outputs": [
    {
     "name": "stdout",
     "output_type": "stream",
     "text": [
      "Mean: 306.708326753\n",
      "Standard deviation: 412.996933409\n",
      "Minimum: 0.0\n",
      "Maximum: 3564.7332645\n"
     ]
    },
    {
     "data": {
      "image/png": "[encoded data removed]",
      "text/plain": [
       "<matplotlib.figure.Figure at 0x7f9448164b10>"
      ]
     },
     "metadata": {},
     "output_type": "display_data"
    }
   ],
   "source": [
    "summarize(total_minutes_by_account)"
   ]
  },
  {
   "cell_type": "markdown",
   "metadata": {},
   "source": [
    "## Debugging Data Analysis Code"
   ]
  },
  {
   "cell_type": "code",
   "execution_count": 30,
   "metadata": {
    "collapsed": true
   },
   "outputs": [],
   "source": [
    "#####################################\n",
    "#                 8                 #\n",
    "#####################################\n",
    "\n",
    "## Go through a similar process as before to see if there is a problem.\n",
    "## Locate at least one surprising piece of data, output it, and take a look at it."
   ]
  },
  {
   "cell_type": "markdown",
   "metadata": {},
   "source": [
    "## 26 - Lessons Completed in First Week"
   ]
  },
  {
   "cell_type": "code",
   "execution_count": 31,
   "metadata": {
    "collapsed": false
   },
   "outputs": [],
   "source": [
    "#####################################\n",
    "#                 9                 #\n",
    "#####################################\n",
    "\n",
    "## Adapt the code above to find the mean, standard deviation, minimum, and maximum for\n",
    "## the number of lessons completed by each student during the first week. Try creating\n",
    "## one or more functions to re-use the code above.\n",
    "total_lessons_by_account = sum_grouped_by_key(\n",
    "    engagement_by_account, \n",
    "    'lessons_completed'\n",
    ")"
   ]
  },
  {
   "cell_type": "code",
   "execution_count": 32,
   "metadata": {
    "collapsed": false
   },
   "outputs": [
    {
     "name": "stdout",
     "output_type": "stream",
     "text": [
      "Mean: 1.63618090452\n",
      "Standard deviation: 3.00256129983\n",
      "Minimum: 0\n",
      "Maximum: 36\n"
     ]
    },
    {
     "data": {
      "image/png": "[encoded data removed]",
      "text/plain": [
       "<matplotlib.figure.Figure at 0x7f942797b3d0>"
      ]
     },
     "metadata": {},
     "output_type": "display_data"
    }
   ],
   "source": [
    "summarize(total_lessons_by_account)"
   ]
  },
  {
   "cell_type": "markdown",
   "metadata": {},
   "source": [
    "## 28 - Number of Visits in the First Week\n",
    "\n",
    "We want to analyze how many days did a student visit the class at all so we will add a `has_visted` field. "
   ]
  },
  {
   "cell_type": "code",
   "execution_count": 33,
   "metadata": {
    "collapsed": false
   },
   "outputs": [],
   "source": [
    "######################################\n",
    "#                 10                 #\n",
    "######################################\n",
    "\n",
    "## Find the mean, standard deviation, minimum, and maximum for the number of\n",
    "## days each student visits the classroom during the first week.\n",
    "days_visited_by_account = sum_grouped_by_key(\n",
    "    engagement_by_account, \n",
    "    'has_visited'\n",
    ")"
   ]
  },
  {
   "cell_type": "code",
   "execution_count": 34,
   "metadata": {
    "collapsed": false
   },
   "outputs": [
    {
     "name": "stdout",
     "output_type": "stream",
     "text": [
      "Mean: 2.86733668342\n",
      "Standard deviation: 2.25519800292\n",
      "Minimum: 0\n",
      "Maximum: 7\n"
     ]
    },
    {
     "data": {
      "image/png": "[encoded data removed]",
      "text/plain": [
       "<matplotlib.figure.Figure at 0x7f94481649d0>"
      ]
     },
     "metadata": {},
     "output_type": "display_data"
    }
   ],
   "source": [
    "summarize(days_visited_by_account)"
   ]
  },
  {
   "cell_type": "markdown",
   "metadata": {},
   "source": [
    "## Splitting out Passing Students\n",
    "\n",
    "Now we get to the part where we are splitting the data into 2 parts - those who pass and those who don't pass. Then we will try and figure out what was the difference between their engagement."
   ]
  },
  {
   "cell_type": "code",
   "execution_count": 35,
   "metadata": {
    "collapsed": false
   },
   "outputs": [
    {
     "data": {
      "text/plain": [
       "{u'account_key': u'256',\n",
       " u'assigned_rating': u'UNGRADED',\n",
       " u'completion_date': datetime.datetime(2015, 1, 16, 0, 0),\n",
       " u'creation_date': datetime.datetime(2015, 1, 14, 0, 0),\n",
       " u'lesson_key': u'3176718735',\n",
       " u'processing_state': u'EVALUATED'}"
      ]
     },
     "execution_count": 35,
     "metadata": {},
     "output_type": "execute_result"
    }
   ],
   "source": [
    "paid_submissions[0]"
   ]
  },
  {
   "cell_type": "code",
   "execution_count": 36,
   "metadata": {
    "collapsed": false
   },
   "outputs": [
    {
     "name": "stdout",
     "output_type": "stream",
     "text": [
      "Passing engagement is 4527\n",
      "Non Passing engagement is 2392\n"
     ]
    }
   ],
   "source": [
    "######################################\n",
    "#                 11                 #\n",
    "######################################\n",
    "\n",
    "## Create two lists of engagement data for paid students in the first week.\n",
    "## The first list should contain data for students who eventually pass the\n",
    "## subway project, and the second list should contain data for students\n",
    "## who do not.\n",
    "\n",
    "subway_project_lesson_keys = ['746169184', '3176718735']\n",
    "\n",
    "\n",
    "passing_submission = set()\n",
    "\n",
    "for submission in paid_submissions:\n",
    "    if submission['lesson_key'] in subway_project_lesson_keys and \\\n",
    "        submission['assigned_rating'] in ['PASSED', 'DISTINCTION']:\n",
    "            passing_submission.add(submission['account_key'])\n",
    "\n",
    "            \n",
    "passing_engagement = []\n",
    "non_passing_engagement = []\n",
    "for engagement in paid_engagement_in_first_week:\n",
    "    if engagement['account_key'] in passing_submission:\n",
    "        passing_engagement.append(engagement)\n",
    "    else:\n",
    "        non_passing_engagement.append(engagement)\n",
    "        \n",
    "print \"Passing engagement is {}\".format(len(passing_engagement))\n",
    "print \"Non Passing engagement is {}\".format(len(non_passing_engagement))"
   ]
  },
  {
   "cell_type": "markdown",
   "metadata": {},
   "source": [
    "## Comparing the Two Student Groups"
   ]
  },
  {
   "cell_type": "code",
   "execution_count": 37,
   "metadata": {
    "collapsed": true
   },
   "outputs": [],
   "source": [
    "######################################\n",
    "#                 12                 #\n",
    "######################################\n",
    "\n",
    "## Compute some metrics you're interested in and see how they differ for\n",
    "## students who pass the subway project vs. students who don't. A good\n",
    "## starting point would be the metrics we looked at earlier (minutes spent\n",
    "## in the classroom, lessons completed, and days visited).\n",
    "passing_engagement_by_account = group_by(passing_engagement, 'account_key')\n",
    "non_passing_engagement_by_account = group_by(non_passing_engagement, 'account_key')"
   ]
  },
  {
   "cell_type": "code",
   "execution_count": 38,
   "metadata": {
    "collapsed": false
   },
   "outputs": [],
   "source": [
    "def summarize_data_for_key(data, key):\n",
    "    by_key = sum_grouped_by_key(data, key)\n",
    "    summarize(by_key)"
   ]
  },
  {
   "cell_type": "code",
   "execution_count": 39,
   "metadata": {
    "collapsed": false
   },
   "outputs": [
    {
     "name": "stdout",
     "output_type": "stream",
     "text": [
      "Mean: 394.586046484\n",
      "Standard deviation: 448.499519327\n",
      "Minimum: 0.0\n",
      "Maximum: 3564.7332645\n"
     ]
    },
    {
     "data": {
      "image/png": "[encoded data removed]",
      "text/plain": [
       "<matplotlib.figure.Figure at 0x7f940f864a90>"
      ]
     },
     "metadata": {},
     "output_type": "display_data"
    }
   ],
   "source": [
    "summarize_data_for_key(passing_engagement_by_account, 'total_minutes_visited')"
   ]
  },
  {
   "cell_type": "code",
   "execution_count": 40,
   "metadata": {
    "collapsed": false
   },
   "outputs": [
    {
     "name": "stdout",
     "output_type": "stream",
     "text": [
      "Mean: 143.326474267\n",
      "Standard deviation: 269.538619011\n",
      "Minimum: 0.0\n",
      "Maximum: 1768.52274933\n"
     ]
    },
    {
     "data": {
      "image/png": "[encoded data removed]",
      "text/plain": [
       "<matplotlib.figure.Figure at 0x7f940f8e2290>"
      ]
     },
     "metadata": {},
     "output_type": "display_data"
    }
   ],
   "source": [
    "summarize_data_for_key(non_passing_engagement_by_account, 'total_minutes_visited')"
   ]
  },
  {
   "cell_type": "markdown",
   "metadata": {},
   "source": [
    "We can see that the mean is much higher. We would expect passing students to be spending some more time compared to non passing students. The difference is 2.5 hours for non-passing vs. 6.5 hours for passing students\n",
    "\n",
    "Let's now do a comparsion for `lessons_completed`"
   ]
  },
  {
   "cell_type": "code",
   "execution_count": 41,
   "metadata": {
    "collapsed": false
   },
   "outputs": [
    {
     "name": "stdout",
     "output_type": "stream",
     "text": [
      "Mean: 2.05255023184\n",
      "Standard deviation: 3.14222705558\n",
      "Minimum: 0\n",
      "Maximum: 36\n"
     ]
    },
    {
     "data": {
      "image/png": "[encoded data removed]",
      "text/plain": [
       "<matplotlib.figure.Figure at 0x7f940f7e6c10>"
      ]
     },
     "metadata": {},
     "output_type": "display_data"
    }
   ],
   "source": [
    "summarize_data_for_key(passing_engagement_by_account, 'lessons_completed')"
   ]
  },
  {
   "cell_type": "code",
   "execution_count": 42,
   "metadata": {
    "collapsed": false
   },
   "outputs": [
    {
     "name": "stdout",
     "output_type": "stream",
     "text": [
      "Mean: 0.862068965517\n",
      "Standard deviation: 2.54915994183\n",
      "Minimum: 0\n",
      "Maximum: 27\n"
     ]
    },
    {
     "data": {
      "image/png": "[encoded data removed]",
      "text/plain": [
       "<matplotlib.figure.Figure at 0x7f940f8f8d50>"
      ]
     },
     "metadata": {},
     "output_type": "display_data"
    }
   ],
   "source": [
    "summarize_data_for_key(non_passing_engagement_by_account, 'lessons_completed')"
   ]
  },
  {
   "cell_type": "markdown",
   "metadata": {},
   "source": [
    "Again we can see that the average is higher for students who passed.\n",
    "\n",
    "Now let's see what kind of difference did visits had for passing vs non-passing students"
   ]
  },
  {
   "cell_type": "code",
   "execution_count": 43,
   "metadata": {
    "collapsed": false
   },
   "outputs": [
    {
     "name": "stdout",
     "output_type": "stream",
     "text": [
      "Mean: 3.38485316847\n",
      "Standard deviation: 2.25882147092\n",
      "Minimum: 0\n",
      "Maximum: 7\n"
     ]
    },
    {
     "data": {
      "image/png": "[encoded data removed]",
      "text/plain": [
       "<matplotlib.figure.Figure at 0x7f940ff80a50>"
      ]
     },
     "metadata": {},
     "output_type": "display_data"
    }
   ],
   "source": [
    "summarize_data_for_key(passing_engagement_by_account, 'has_visited')"
   ]
  },
  {
   "cell_type": "code",
   "execution_count": 44,
   "metadata": {
    "collapsed": false
   },
   "outputs": [
    {
     "name": "stdout",
     "output_type": "stream",
     "text": [
      "Mean: 1.90517241379\n",
      "Standard deviation: 1.90573144136\n",
      "Minimum: 0\n",
      "Maximum: 7\n"
     ]
    },
    {
     "data": {
      "image/png": "[encoded data removed]",
      "text/plain": [
       "<matplotlib.figure.Figure at 0x7f940ff36110>"
      ]
     },
     "metadata": {},
     "output_type": "display_data"
    }
   ],
   "source": [
    "summarize_data_for_key(non_passing_engagement_by_account, 'has_visited')"
   ]
  },
  {
   "cell_type": "markdown",
   "metadata": {},
   "source": [
    "Again the mean is higher.\n",
    "\n",
    "Out of all of these the minutes spent seems to be most striking is the minutes spent.\n",
    "\n",
    "But we need to understand that just spending higher time does not mean the student will pass. In other words we have just found a correlation between the two not causation. For ensuring causation we will need to use statistics.\n",
    "\n",
    "There are many things which could be correlated but not actually cause causation. For example eating cheese is correlated with number of deaths by being tangled in bedsheets. Do you think one of these is causing the other?\n",
    "\n",
    "![](correlation.png)\n",
    "\n",
    "US spending on science, space and technology correlates with Suicides by hanging, strangulation and suffocation. Do you think one of these is causing the other?\n",
    "\n",
    "![](correlation2.png)\n",
    "\n",
    "There are many more for which you should visit [this website](http://tylervigen.com/spurious-correlations)\n",
    "\n",
    "There could be other factors causing both of them or it may be just random.\n",
    "\n",
    "For our case there could be many factors which cause passing projects and spending time\n",
    "- Level of interest in Data Science\n",
    "- Background knowledge in Programming, Statistics\n",
    "\n",
    "To make sure that this is actually causation we need to run A/B Test. To learn more about using online experiments to determine whether one change causes another, take the Udacity course [A/B Testing](https://www.udacity.com/course/ab-testing--ud257)."
   ]
  },
  {
   "cell_type": "markdown",
   "metadata": {},
   "source": [
    "## Making Histograms"
   ]
  },
  {
   "cell_type": "code",
   "execution_count": 45,
   "metadata": {
    "collapsed": true
   },
   "outputs": [],
   "source": [
    "######################################\n",
    "#                 13                 #\n",
    "######################################\n",
    "\n",
    "## Make histograms of the three metrics we looked at earlier for both\n",
    "## students who passed the subway project and students who didn't. You\n",
    "## might also want to make histograms of any other metrics you examined."
   ]
  },
  {
   "cell_type": "markdown",
   "metadata": {},
   "source": [
    "### Making Predictions\n",
    "- We may also want to find which students are most likely to pass their project based on the data that we have with us so far.\n",
    "\n",
    "![](predictions.png)"
   ]
  },
  {
   "cell_type": "markdown",
   "metadata": {},
   "source": [
    "### 38 - Communication\n",
    "- which of your finding are most interesting\n",
    "- how will you present them?\n",
    "\n",
    "e.g.\n",
    "- Number of minutes spent can be communicated simply by saying that on an average students who pass spent X hours more than the students who did not pass\n",
    "- For the difference in days visited by the 2 groups showing histograms could be better\n",
    "\n",
    "When sharing visualizations you should polish them and explain what trends you are observing in them"
   ]
  },
  {
   "cell_type": "markdown",
   "metadata": {},
   "source": [
    "## Improving Plots and Sharing Findings\n",
    "- You can add axis labels by using `plt.xlabel(\"Label for x axis\")`. Similarly for y labels\n",
    "- You can add title using `plt.title(\"Title of plot\")`\n",
    "- Just importing `seaborn` can improve your plots\n",
    "- You'll also frequently want to add some arguments to your plot to tune how it looks. You can see what arguments are available on the documentation page for the hist function. One common argument to pass is the bins argument, which sets the number of bins used by your histogram. For example, `plt.hist(data, bins=20)` would make sure your histogram has 20 bins"
   ]
  },
  {
   "cell_type": "code",
   "execution_count": 46,
   "metadata": {
    "collapsed": false
   },
   "outputs": [
    {
     "data": {
      "text/plain": [
       "<matplotlib.text.Text at 0x7f940f5bb050>"
      ]
     },
     "execution_count": 46,
     "metadata": {},
     "output_type": "execute_result"
    },
    {
     "data": {
      "image/png": "[encoded data removed]",
      "text/plain": [
       "<matplotlib.figure.Figure at 0x7f940f970190>"
      ]
     },
     "metadata": {},
     "output_type": "display_data"
    }
   ],
   "source": [
    "non_passing_visits = sum_grouped_by_key(non_passing_engagement_by_account, 'has_visited')\n",
    "\n",
    "plt.hist(non_passing_visits.values(), bins=8)\n",
    "plt.xlabel('Number of days')\n",
    "plt.title('Distribution of classroom visits in the first week ' + \n",
    "          'for students who do not pass the subway project')"
   ]
  },
  {
   "cell_type": "code",
   "execution_count": 47,
   "metadata": {
    "collapsed": false
   },
   "outputs": [
    {
     "data": {
      "text/plain": [
       "<matplotlib.text.Text at 0x7f940f4fda10>"
      ]
     },
     "execution_count": 47,
     "metadata": {},
     "output_type": "execute_result"
    },
    {
     "data": {
      "image/png": "[encoded data removed]",
      "text/plain": [
       "<matplotlib.figure.Figure at 0x7f940f626ad0>"
      ]
     },
     "metadata": {},
     "output_type": "display_data"
    }
   ],
   "source": [
    "passing_visits = sum_grouped_by_key(non_passing_engagement_by_account, 'has_visited')\n",
    "\n",
    "plt.hist(passing_visits.values(), bins=8)\n",
    "plt.xlabel('Number of days')\n",
    "plt.title('Distribution of classroom visits in the first week ' + \n",
    "          'for students who pass the subway project')"
   ]
  },
  {
   "cell_type": "markdown",
   "metadata": {},
   "source": [
    "## 40 - Data Analysis and Related Terms\n",
    "Data Analysis vs. Data Science vs. Data Engineering vs. Big Data\n",
    "\n",
    "Data Science\n",
    "- Interchangeably used with Data Anlaysis\n",
    "- More focused on building systems\n",
    "- May require more experience\n",
    "\n",
    "Data Engineering\n",
    "- More focus on Data Wrangling phase \n",
    "    - Storage\n",
    "    - Processing\n",
    "- Make pipelines, ensure fault tolerant and scale better\n",
    "\n",
    "Big Data\n",
    "- Fuzzy term relates to \"a lot\" of data\n",
    "- Any of data analysts, data scientists or engineer may work with Big data"
   ]
  }
 ],
 "metadata": {
  "kernelspec": {
   "display_name": "Python 2",
   "language": "python",
   "name": "python2"
  },
  "language_info": {
   "codemirror_mode": {
    "name": "ipython",
    "version": 2
   },
   "file_extension": ".py",
   "mimetype": "text/x-python",
   "name": "python",
   "nbconvert_exporter": "python",
   "pygments_lexer": "ipython2",
   "version": "2.7.11"
  }
 },
 "nbformat": 4,
 "nbformat_minor": 0
}
