{
 "cells": [
  {
   "cell_type": "markdown",
   "metadata": {},
   "source": [
    "- [Project Instructions](https://docs.google.com/document/u/1/d/1aCquhIqsUApgsxQ8-SQBAigFDcfWVVohLEXcV6jWbdI/pub?embedded=True)\n",
    "- [Rubric](https://review.udacity.com/#!/rubrics/54/view)\n",
    "- [Project Template](https://docs.google.com/document/d/1BcwUrvymqj-wqS8rlO6SCrF54qCXAWqKxQfX3DYvsa4/edit#heading=h.uk61us1xettw)\n",
    "- [Project Report](https://docs.google.com/document/d/1gknCYdhXbDII_8vL-u6xmaGbe_vqpsK3CIlTeilppiw/edit)"
   ]
  }
 ],
 "metadata": {
  "kernelspec": {
   "display_name": "Python 2",
   "language": "python",
   "name": "python2"
  },
  "language_info": {
   "codemirror_mode": {
    "name": "ipython",
    "version": 2
   },
   "file_extension": ".py",
   "mimetype": "text/x-python",
   "name": "python",
   "nbconvert_exporter": "python",
   "pygments_lexer": "ipython2",
   "version": "2.7.11"
  }
 },
 "nbformat": 4,
 "nbformat_minor": 0
}
