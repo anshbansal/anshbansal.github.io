{
 "cells": [
  {
   "cell_type": "markdown",
   "metadata": {},
   "source": [
    "# Lesson 05 - Analyzing Results\n",
    "\n",
    "## Sanity Checks\n",
    "- population and control population should be comparable\n",
    "- invariant metrics should have remained invariant\n",
    "- if sanity check fails\n",
    "    - check with engineers whether there is a technical problem\n",
    "    - retrospective analysis using the data to see whether there is something within the experiment that is causing this to happen\n",
    "    \n",
    "## Single Metric Analysis\n",
    "- Business decisions need to be made\n",
    "\n",
    "## Multiple Metric Analysis\n",
    "- If checking 10 metrics then it is high probability that one of them says that it is significant but it's not. But that would be spurious\n",
    "- Probability of false positive of any metric increases as number of metrics (n) increase\n",
    "    - Solution\n",
    "        - Assume independence \n",
    "            - use alpha_overall = 1 - ((1 - alpha_individual) ^ n)\n",
    "            - 95% confidence interval means alpha_individual is 0.05\n",
    "        - Bonferron Correction\n",
    "            - guaranteed to give alpha at least as small as specified\n",
    "            - alpha_individual = alpha_overall / n"
   ]
  }
 ],
 "metadata": {
  "kernelspec": {
   "display_name": "Python 2",
   "language": "python",
   "name": "python2"
  },
  "language_info": {
   "codemirror_mode": {
    "name": "ipython",
    "version": 2
   },
   "file_extension": ".py",
   "mimetype": "text/x-python",
   "name": "python",
   "nbconvert_exporter": "python",
   "pygments_lexer": "ipython2",
   "version": "2.7.11"
  }
 },
 "nbformat": 4,
 "nbformat_minor": 0
}
