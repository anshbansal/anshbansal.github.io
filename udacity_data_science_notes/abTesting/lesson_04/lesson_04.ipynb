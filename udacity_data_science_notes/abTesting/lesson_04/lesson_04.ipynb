{
 "cells": [
  {
   "cell_type": "markdown",
   "metadata": {
    "collapsed": true
   },
   "source": [
    "# Lesson 04 - Designing an experiment\n",
    "\n",
    "## Choosing population\n",
    "- can be done based on logins, random events, cookie based\n",
    "- all of the above are called diversions i.e. how to decide what traffic goes into experimental group vs. control group\n",
    "- **Unit of Diversion** Define what a subject is in your experiment\n",
    "    - User id\n",
    "        - stable, unchanging\n",
    "        - personally identifiable\n",
    "    - Anonymous id (cookie)\n",
    "        - changes when person changes device/browser\n",
    "        - cookies can be cleared\n",
    "    - Event\n",
    "        - No consistent experience\n",
    "    - Device ID\n",
    "        - only available on mobile devices\n",
    "        - unchangeable by user\n",
    "        - personally identifiable\n",
    "    - IP address\n",
    "    \n",
    "    ![](unit_of_diversion.png)\n",
    "    \n",
    "### Considerations \n",
    "- Consistency\n",
    "![](consistency.png)\n",
    "- Ethics\n",
    "- variability\n",
    "    - empirical variability can be larger than analytical variability when unit of analysis is different than unit of diversion.\n",
    "    - unit of analysis is what goes in denominator. e.g. in case CTP = (clicks / page views) and you are using cookies as unit of diversion\n",
    "    - the reason in the difference is because in case of event based diversion it is random but in case of cookie based diversion it is not completely random. Groups of people are being diverted and that makes the data points correlated. That increases empirical variability. Analytical assumes randomness\n",
    "    \n",
    "![](unit_of_analysis_and_diversion.png)\n",
    "\n",
    "More details about the graph are in this paper http://static.googleusercontent.com/media/research.google.com/en/us/pubs/archive/36500.pdf\n",
    "\n",
    "We would usually want our unit of diversion to be at least as big as unit of analysis. e.g. cookie is larger than  pageview as a single cookie can be in multiple pageviews. We don't want that as the same diversion should not be part of multiple analysis which could potentially fall in both control and experiment.\n",
    "\n",
    "### Inter-vs-Intra User Experiments\n",
    "- Anything other event driven diversion is a proxy for users\n",
    "- If using intra-user experiments (same users in control and experiment) ensure that you don't expose them to weird things like control before christmas and experiment after christmas. Would give different behaviour\n",
    "- Interleaved experiments have info at http://www.cs.cornell.edu/People/tj/publications/chapelle_etal_12a.pdf\n",
    "- Internet experiments are mainly inter user experiments\n",
    "\n",
    "### Target Population\n",
    "- based on age, gender depending on whether you have access to that information\n",
    "- when launching something we may want to restrict it to a geographic location due to cultural, language, legal reasons\n",
    "- sometimes targeting is not necessary. e.g. in case the change is related to global population\n",
    "- for targeting talking to engineers who implement it is necessary\n",
    "- for a big change before launching the actual change it be a good idea to launch a global experiment to ensure that the change does not have a bad effect on unintended population\n",
    "\n",
    "![](targeting.png)"
   ]
  },
  {
   "cell_type": "markdown",
   "metadata": {},
   "source": [
    "### Population vs. Cohort\n",
    "- Cohort are people who enter experiment at the same time. Not necessarily only time but also group based on other things e.g. who use both mobile & desktop \n",
    "- we use cohort when we want to ensure that there was a change in behaviour relative to their history\n",
    "\n",
    "When to use a cohort instead of population\n",
    "- looking for learning effects\n",
    "- examinining user retention\n",
    "- want to increase user activity\n",
    "- anything requiring user to be established\n",
    "\n",
    "![](cohort_example.png)"
   ]
  },
  {
   "cell_type": "markdown",
   "metadata": {},
   "source": [
    "### Duration & Sizing\n",
    "Based on metric choice, unit of diversion, population there is an effect on variability. Determine the size based on this.\n",
    "e.g. for latency example we want to see whether it affects our user. For a global population that may require fair amount of data. Based on our variability we can size the experiment and see whether it is really practical to do an experiment of that size.\n",
    "\n",
    "### Duration vs Exposure\n",
    "- when to run the experiment? holiday time, working days etc.\n",
    "- how long will your experiment run depends on how much of total traffic you are willing to divert\n",
    "\n",
    "### Learning effects\n",
    "- people may hate or love the change. with time there will be a plateau of their behaviour. this is learning effect\n",
    "- to measure learning effect\n",
    "    - needs some time\n",
    "    - need same user to be seeing this so unit of diversion needs to be chosen based on that"
   ]
  }
 ],
 "metadata": {
  "kernelspec": {
   "display_name": "Python [conda root]",
   "language": "python",
   "name": "conda-root-py"
  },
  "language_info": {
   "codemirror_mode": {
    "name": "ipython",
    "version": 3
   },
   "file_extension": ".py",
   "mimetype": "text/x-python",
   "name": "python",
   "nbconvert_exporter": "python",
   "pygments_lexer": "ipython3",
   "version": "3.5.2"
  }
 },
 "nbformat": 4,
 "nbformat_minor": 0
}
