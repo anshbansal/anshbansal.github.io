{
 "cells": [
  {
   "cell_type": "markdown",
   "metadata": {},
   "source": [
    "For the final project, you will conduct your own exploratory data analysis and create an RMD file that explores the variables, structure, patterns, oddities, and underlying relationships of a data set of your choice.\n",
    "\n",
    "The analysis should be almost like a stream-of-consciousness as you ask questions, create visualizations, and explore your data.\n",
    "\n",
    "This project is open-ended in that we are not looking for one right answer. As John Tukey stated, \"The combination of some data and an aching desire for an answer does not ensure that a reasonable answer can be extracted from a given body of data.\" We want you to ask interesting questions about data and give you a chance to explore. We will provide some options of data sets to explore; however, you may choose to explore an entirely different data set. You should be aware that finding your own data set and cleaning that data set into a form that can be read into R can take considerable time and effort. This can add as much as a day, a week, or even months to your project so only adventure to find and clean a data set if you are truly prepared with programming and data wrangling skills."
   ]
  },
  {
   "cell_type": "markdown",
   "metadata": {},
   "source": [
    "Data set downloaded from https://docs.google.com/document/d/1qEcwltBMlRYZT-l699-71TzInWfk4W9q5rTCSvDVMpc/pub?embedded=true"
   ]
  },
  {
   "cell_type": "markdown",
   "metadata": {},
   "source": [
    "This data set contains 113,937 loans with 81 variables on each loan, including loan amount, borrower rate (or interest rate), current loan status, borrower income, borrower employment status, borrower credit history, and the latest payment information.\n",
    "\n",
    "During this exploration I am interested in the factors that could lead to loan being defaulted by the user. So my exploration would be centered about that. The question I am interested is \"What factors affect loan being defaulted?\""
   ]
  },
  {
   "cell_type": "code",
   "execution_count": 1,
   "metadata": {
    "collapsed": true
   },
   "outputs": [],
   "source": [
    "library(ggplot2)"
   ]
  },
  {
   "cell_type": "markdown",
   "metadata": {},
   "source": [
    "Let's load the data. I will do some processing here to \n",
    "\n",
    "* select only the columns in which I am interested in\n",
    "* change the format of data for my analysis\n",
    "* change column names"
   ]
  },
  {
   "cell_type": "code",
   "execution_count": 2,
   "metadata": {
    "collapsed": true
   },
   "outputs": [],
   "source": [
    "setwd(\"/home/aseem/projects/website/udacity_data_science_notes/Data_Analysis_with_R\")"
   ]
  },
  {
   "cell_type": "code",
   "execution_count": 3,
   "metadata": {
    "collapsed": true
   },
   "outputs": [],
   "source": [
    "loanData <- read.csv(\"prosperLoanData.csv\")\n",
    "loanData$ListingCreationDate <- as.Date(loanData$ListingCreationDate, \"%Y-%m-%d\")\n",
    "loanData$ClosedDate <- as.Date(loanData$ClosedDate, \"%Y-%m-%d\")\n",
    "loanData$EmploymentStatusDurationYear <- floor(loanData$EmploymentStatusDuration / 12)\n",
    "\n",
    "relevantLoanData <- loanData[, c(\n",
    "  \"ListingNumber\", \n",
    "  \"ListingCreationDate\", \n",
    "  \"CreditGrade\", \n",
    "  \"Term\", \n",
    "  \"LoanStatus\",\n",
    "  \"ClosedDate\",\n",
    "  \"ListingCategory..numeric.\",\n",
    "  \"Occupation\",\n",
    "  \"EmploymentStatus\",\n",
    "  \"EmploymentStatusDurationYear\",\n",
    "  \"LoanOriginalAmount\"\n",
    "  )]\n",
    "\n",
    "colnames(relevantLoanData)[colnames(relevantLoanData) == \"ListingCategory..numeric.\"] <- \"ListingCategory\""
   ]
  },
  {
   "cell_type": "markdown",
   "metadata": {},
   "source": [
    "# Univariate Plots Section\n",
    "\n",
    "Will look at the various variables to get an general understanding about the data.\n",
    "\n",
    "Let's find out the number of rows that the data has and some other characteristics of the data."
   ]
  },
  {
   "cell_type": "code",
   "execution_count": 6,
   "metadata": {
    "collapsed": false
   },
   "outputs": [
    {
     "data": {
      "text/html": [
       "113937"
      ],
      "text/plain": [
       "[1] 113937"
      ]
     },
     "metadata": {},
     "output_type": "execute_result"
    }
   ],
   "source": [
    "nrow(relevantLoanData)"
   ]
  },
  {
   "cell_type": "code",
   "execution_count": 7,
   "metadata": {
    "collapsed": false
   },
   "outputs": [
    {
     "data": {
      "text/html": [
       "<ol class=list-inline>\n",
       "\t<li>'ListingNumber'</li>\n",
       "\t<li>'ListingCreationDate'</li>\n",
       "\t<li>'CreditGrade'</li>\n",
       "\t<li>'Term'</li>\n",
       "\t<li>'LoanStatus'</li>\n",
       "\t<li>'ClosedDate'</li>\n",
       "\t<li>'ListingCategory'</li>\n",
       "\t<li>'Occupation'</li>\n",
       "\t<li>'EmploymentStatus'</li>\n",
       "\t<li>'EmploymentStatusDurationYear'</li>\n",
       "\t<li>'LoanOriginalAmount'</li>\n",
       "</ol>\n"
      ],
      "text/plain": [
       " [1] \"ListingNumber\"                \"ListingCreationDate\"         \n",
       " [3] \"CreditGrade\"                  \"Term\"                        \n",
       " [5] \"LoanStatus\"                   \"ClosedDate\"                  \n",
       " [7] \"ListingCategory\"              \"Occupation\"                  \n",
       " [9] \"EmploymentStatus\"             \"EmploymentStatusDurationYear\"\n",
       "[11] \"LoanOriginalAmount\"          "
      ]
     },
     "metadata": {},
     "output_type": "execute_result"
    }
   ],
   "source": [
    "names(relevantLoanData)"
   ]
  },
  {
   "cell_type": "code",
   "execution_count": 8,
   "metadata": {
    "collapsed": false,
    "scrolled": false
   },
   "outputs": [
    {
     "name": "stdout",
     "output_type": "stream",
     "text": [
      "'data.frame':\t113937 obs. of  11 variables:\n",
      " $ ListingNumber               : int  193129 1209647 81716 658116 909464 1074836 750899 768193 1023355 1023355 ...\n",
      " $ ListingCreationDate         : Date, format: \"2007-08-26\" \"2014-02-27\" ...\n",
      " $ CreditGrade                 : Factor w/ 9 levels \"\",\"A\",\"AA\",\"B\",..: 5 1 8 1 1 1 1 1 1 1 ...\n",
      " $ Term                        : int  36 36 36 36 36 60 36 36 36 36 ...\n",
      " $ LoanStatus                  : Factor w/ 12 levels \"Cancelled\",\"Chargedoff\",..: 3 4 3 4 4 4 4 4 4 4 ...\n",
      " $ ClosedDate                  : Date, format: \"2009-08-14\" NA ...\n",
      " $ ListingCategory             : int  0 2 0 16 2 1 1 2 7 7 ...\n",
      " $ Occupation                  : Factor w/ 68 levels \"\",\"Accountant/CPA\",..: 37 43 37 52 21 43 50 29 24 24 ...\n",
      " $ EmploymentStatus            : Factor w/ 9 levels \"\",\"Employed\",..: 9 2 4 2 2 2 2 2 2 2 ...\n",
      " $ EmploymentStatusDurationYear: num  0 3 NA 9 3 6 14 8 22 22 ...\n",
      " $ LoanOriginalAmount          : int  9425 10000 3001 10000 15000 15000 3000 10000 10000 10000 ...\n"
     ]
    }
   ],
   "source": [
    "str(relevantLoanData)"
   ]
  },
  {
   "cell_type": "code",
   "execution_count": 9,
   "metadata": {
    "collapsed": false,
    "scrolled": true
   },
   "outputs": [
    {
     "data": {
      "text/plain": [
       " ListingNumber     ListingCreationDate   CreditGrade         Term      \n",
       " Min.   :      4   Min.   :2005-11-09          :84984   Min.   :12.00  \n",
       " 1st Qu.: 400919   1st Qu.:2008-09-19   C      : 5649   1st Qu.:36.00  \n",
       " Median : 600554   Median :2012-06-16   D      : 5153   Median :36.00  \n",
       " Mean   : 627886   Mean   :2011-07-08   B      : 4389   Mean   :40.83  \n",
       " 3rd Qu.: 892634   3rd Qu.:2013-09-09   AA     : 3509   3rd Qu.:36.00  \n",
       " Max.   :1255725   Max.   :2014-03-10   HR     : 3508   Max.   :60.00  \n",
       "                                        (Other): 6745                  \n",
       "                 LoanStatus      ClosedDate         ListingCategory \n",
       " Current              :56576   Min.   :2005-11-25   Min.   : 0.000  \n",
       " Completed            :38074   1st Qu.:2009-07-14   1st Qu.: 1.000  \n",
       " Chargedoff           :11992   Median :2011-04-05   Median : 1.000  \n",
       " Defaulted            : 5018   Mean   :2011-03-07   Mean   : 2.774  \n",
       " Past Due (1-15 days) :  806   3rd Qu.:2013-01-30   3rd Qu.: 3.000  \n",
       " Past Due (31-60 days):  363   Max.   :2014-03-10   Max.   :20.000  \n",
       " (Other)              : 1108   NA's   :58848                        \n",
       "                    Occupation         EmploymentStatus\n",
       " Other                   :28617   Employed     :67322  \n",
       " Professional            :13628   Full-time    :26355  \n",
       " Computer Programmer     : 4478   Self-employed: 6134  \n",
       " Executive               : 4311   Not available: 5347  \n",
       " Teacher                 : 3759   Other        : 3806  \n",
       " Administrative Assistant: 3688                : 2255  \n",
       " (Other)                 :55456   (Other)      : 2718  \n",
       " EmploymentStatusDurationYear LoanOriginalAmount\n",
       " Min.   : 0.000               Min.   : 1000     \n",
       " 1st Qu.: 2.000               1st Qu.: 4000     \n",
       " Median : 5.000               Median : 6500     \n",
       " Mean   : 7.564               Mean   : 8337     \n",
       " 3rd Qu.:11.000               3rd Qu.:12000     \n",
       " Max.   :62.000               Max.   :35000     \n",
       " NA's   :7625                                   "
      ]
     },
     "metadata": {},
     "output_type": "display_data"
    }
   ],
   "source": [
    "summary(relevantLoanData)"
   ]
  },
  {
   "cell_type": "markdown",
   "metadata": {},
   "source": [
    "Let's find out year wise distribution of loan creation."
   ]
  },
  {
   "cell_type": "code",
   "execution_count": 11,
   "metadata": {
    "collapsed": false
   },
   "outputs": [
    {
     "data": {
      "text/plain": [
       "\n",
       " 2005  2006  2007  2008  2009  2010  2011  2012  2013  2014 \n",
       "   23  6213 11557 11263  2206  5530 11442 19556 35413 10734 "
      ]
     },
     "metadata": {},
     "output_type": "display_data"
    }
   ],
   "source": [
    "relevantLoanData$ListingCreationYear <- as.numeric(format(relevantLoanData$ListingCreationDate, \"%Y\"))\n",
    "\n",
    "table(relevantLoanData$ListingCreationYear)"
   ]
  },
  {
   "cell_type": "code",
   "execution_count": 12,
   "metadata": {
    "collapsed": false,
    "scrolled": true
   },
   "outputs": [
    {
     "name": "stderr",
     "output_type": "stream",
     "text": [
      "`stat_bin()` using `bins = 30`. Pick better value with `binwidth`.\n"
     ]
    },
    {
     "data": {},
     "metadata": {},
     "output_type": "display_data"
    },
    {
     "data": {
      "image/png": "[encoded data removed]",
      "text/plain": [
       "plot without title"
      ]
     },
     "metadata": {},
     "output_type": "display_data"
    }
   ],
   "source": [
    "qplot(data = relevantLoanData, x = ListingCreationYear)"
   ]
  },
  {
   "cell_type": "markdown",
   "metadata": {},
   "source": [
    "What about credit grade for the years before 2009?"
   ]
  },
  {
   "cell_type": "code",
   "execution_count": 15,
   "metadata": {
    "collapsed": false,
    "scrolled": true
   },
   "outputs": [
    {
     "data": {
      "text/plain": [
       "\n",
       "        A   AA    B    C    D    E   HR   NC \n",
       " 116 3313 3508 4386 5644 5151 3289 3508  141 "
      ]
     },
     "metadata": {},
     "output_type": "display_data"
    }
   ],
   "source": [
    "dataBefore2009 <- relevantLoanData[relevantLoanData$ListingCreationYear < 2009,]\n",
    "table(dataBefore2009$CreditGrade)"
   ]
  },
  {
   "cell_type": "markdown",
   "metadata": {},
   "source": [
    "The credit grade is not present for all the cases even before 2009. Let's see for which years it is missing so I remember that for future analysis."
   ]
  },
  {
   "cell_type": "code",
   "execution_count": 16,
   "metadata": {
    "collapsed": false
   },
   "outputs": [
    {
     "data": {
      "text/plain": [
       "\n",
       "2007 2008 \n",
       "  13  103 "
      ]
     },
     "metadata": {},
     "output_type": "display_data"
    }
   ],
   "source": [
    "table(dataBefore2009[dataBefore2009$CreditGrade == \"\",]$ListingCreationYear)"
   ]
  },
  {
   "cell_type": "markdown",
   "metadata": {},
   "source": [
    "What is the the distribution of the loans by term? "
   ]
  },
  {
   "cell_type": "code",
   "execution_count": 17,
   "metadata": {
    "collapsed": false,
    "scrolled": true
   },
   "outputs": [
    {
     "data": {
      "text/plain": [
       "\n",
       "   12    36    60 \n",
       " 1614 87778 24545 "
      ]
     },
     "metadata": {},
     "output_type": "display_data"
    },
    {
     "name": "stderr",
     "output_type": "stream",
     "text": [
      "`stat_bin()` using `bins = 30`. Pick better value with `binwidth`.\n"
     ]
    },
    {
     "data": {},
     "metadata": {},
     "output_type": "display_data"
    },
    {
     "data": {
      "image/png": "[encoded data removed]",
      "text/plain": [
       "plot without title"
      ]
     },
     "metadata": {},
     "output_type": "display_data"
    }
   ],
   "source": [
    "table(relevantLoanData$Term)\n",
    "qplot(data = relevantLoanData, x = Term/12, xlab = \"Term (in years)\")"
   ]
  },
  {
   "cell_type": "markdown",
   "metadata": {},
   "source": [
    "What about the loan status?"
   ]
  },
  {
   "cell_type": "code",
   "execution_count": 18,
   "metadata": {
    "collapsed": false
   },
   "outputs": [
    {
     "data": {
      "text/plain": [
       "\n",
       "             Cancelled             Chargedoff              Completed \n",
       "                     5                  11992                  38074 \n",
       "               Current              Defaulted FinalPaymentInProgress \n",
       "                 56576                   5018                    205 \n",
       "  Past Due (1-15 days)   Past Due (>120 days)  Past Due (16-30 days) \n",
       "                   806                     16                    265 \n",
       " Past Due (31-60 days)  Past Due (61-90 days) Past Due (91-120 days) \n",
       "                   363                    313                    304 "
      ]
     },
     "metadata": {},
     "output_type": "display_data"
    }
   ],
   "source": [
    "table(relevantLoanData$LoanStatus)"
   ]
  },
  {
   "cell_type": "markdown",
   "metadata": {},
   "source": [
    "When was the loan closed?"
   ]
  },
  {
   "cell_type": "code",
   "execution_count": 19,
   "metadata": {
    "collapsed": false,
    "scrolled": true
   },
   "outputs": [
    {
     "data": {
      "text/plain": [
       "\n",
       " 2005  2006  2007  2008  2009  2010  2011  2012  2013  2014 \n",
       "    8   391  3355  5718  8197  7606  7471  7719 11873  2751 "
      ]
     },
     "metadata": {},
     "output_type": "display_data"
    },
    {
     "name": "stderr",
     "output_type": "stream",
     "text": [
      "`stat_bin()` using `bins = 30`. Pick better value with `binwidth`.\n",
      "Warning message:\n",
      "“Removed 58848 rows containing non-finite values (stat_bin).”"
     ]
    },
    {
     "data": {},
     "metadata": {},
     "output_type": "display_data"
    },
    {
     "data": {
      "image/png": "[encoded data removed]",
      "text/plain": [
       "plot without title"
      ]
     },
     "metadata": {},
     "output_type": "display_data"
    }
   ],
   "source": [
    "relevantLoanData$ClosedYear <- as.numeric(format(relevantLoanData$ClosedDate, \"%Y\"))\n",
    "\n",
    "table(relevantLoanData$ClosedYear)\n",
    "qplot(data = relevantLoanData, x = ClosedYear)"
   ]
  },
  {
   "cell_type": "markdown",
   "metadata": {},
   "source": [
    "In which categories is the loan distributed?"
   ]
  },
  {
   "cell_type": "code",
   "execution_count": 20,
   "metadata": {
    "collapsed": false,
    "scrolled": true
   },
   "outputs": [
    {
     "data": {
      "text/plain": [
       "\n",
       "    0     1     2     3     4     5     6     7     8     9    10    11    12 \n",
       "16965 58308  7433  7189  2395   756  2572 10494   199    85    91   217    59 \n",
       "   13    14    15    16    17    18    19    20 \n",
       " 1996   876  1522   304    52   885   768   771 "
      ]
     },
     "metadata": {},
     "output_type": "display_data"
    }
   ],
   "source": [
    "table(relevantLoanData$ListingCategory)"
   ]
  },
  {
   "cell_type": "markdown",
   "metadata": {},
   "source": [
    "What is  occupation of the person?"
   ]
  },
  {
   "cell_type": "code",
   "execution_count": 21,
   "metadata": {
    "collapsed": false,
    "scrolled": true
   },
   "outputs": [
    {
     "data": {
      "text/plain": [
       "\n",
       "                                                       Accountant/CPA \n",
       "                              3588                               3233 \n",
       "          Administrative Assistant                            Analyst \n",
       "                              3688                               3602 \n",
       "                         Architect                           Attorney \n",
       "                               213                               1046 \n",
       "                         Biologist                         Bus Driver \n",
       "                               125                                316 \n",
       "                        Car Dealer                            Chemist \n",
       "                               180                                145 \n",
       "                     Civil Service                             Clergy \n",
       "                              1457                                196 \n",
       "                          Clerical                Computer Programmer \n",
       "                              3164                               4478 \n",
       "                      Construction                            Dentist \n",
       "                              1790                                 68 \n",
       "                            Doctor                Engineer - Chemical \n",
       "                               494                                225 \n",
       "             Engineer - Electrical              Engineer - Mechanical \n",
       "                              1125                               1406 \n",
       "                         Executive                            Fireman \n",
       "                              4311                                422 \n",
       "                  Flight Attendant                       Food Service \n",
       "                               123                               1123 \n",
       "           Food Service Management                          Homemaker \n",
       "                              1239                                120 \n",
       "                          Investor                              Judge \n",
       "                               214                                 22 \n",
       "                           Laborer                        Landscaping \n",
       "                              1595                                236 \n",
       "                Medical Technician                  Military Enlisted \n",
       "                              1117                               1272 \n",
       "                  Military Officer                        Nurse (LPN) \n",
       "                               346                                492 \n",
       "                        Nurse (RN)                       Nurse's Aide \n",
       "                              2489                                491 \n",
       "                             Other                         Pharmacist \n",
       "                             28617                                257 \n",
       "        Pilot - Private/Commercial  Police Officer/Correction Officer \n",
       "                               199                               1578 \n",
       "                    Postal Service                          Principal \n",
       "                               627                                312 \n",
       "                      Professional                          Professor \n",
       "                             13628                                557 \n",
       "                      Psychologist                            Realtor \n",
       "                               145                                543 \n",
       "                         Religious                  Retail Management \n",
       "                               124                               2602 \n",
       "                Sales - Commission                     Sales - Retail \n",
       "                              3446                               2797 \n",
       "                         Scientist                      Skilled Labor \n",
       "                               372                               2746 \n",
       "                     Social Worker         Student - College Freshman \n",
       "                               741                                 41 \n",
       "Student - College Graduate Student           Student - College Junior \n",
       "                               245                                112 \n",
       "          Student - College Senior        Student - College Sophomore \n",
       "                               188                                 69 \n",
       "       Student - Community College         Student - Technical School \n",
       "                                28                                 16 \n",
       "                           Teacher                     Teacher's Aide \n",
       "                              3759                                276 \n",
       "             Tradesman - Carpenter            Tradesman - Electrician \n",
       "                               120                                477 \n",
       "              Tradesman - Mechanic                Tradesman - Plumber \n",
       "                               951                                102 \n",
       "                      Truck Driver                    Waiter/Waitress \n",
       "                              1675                                436 "
      ]
     },
     "metadata": {},
     "output_type": "display_data"
    }
   ],
   "source": [
    "table(relevantLoanData$Occupation)"
   ]
  },
  {
   "cell_type": "markdown",
   "metadata": {},
   "source": [
    "What is employment status of the person?"
   ]
  },
  {
   "cell_type": "code",
   "execution_count": 23,
   "metadata": {
    "collapsed": false
   },
   "outputs": [
    {
     "data": {
      "text/plain": [
       "\n",
       "     Employed     Full-time Self-employed Not available         Other \n",
       "        67322         26355          6134          5347          3806 \n",
       "                  Part-time  Not employed       Retired \n",
       "         2255          1088           835           795 "
      ]
     },
     "metadata": {},
     "output_type": "display_data"
    }
   ],
   "source": [
    "sort(table(relevantLoanData$EmploymentStatus), decreasing = TRUE)"
   ]
  },
  {
   "cell_type": "markdown",
   "metadata": {},
   "source": [
    "Employed for how long?"
   ]
  },
  {
   "cell_type": "code",
   "execution_count": 24,
   "metadata": {
    "collapsed": false
   },
   "outputs": [
    {
     "data": {
      "text/plain": [
       "\n",
       "    0     1     2     3     4     5     6     7     8     9    10    11    12 \n",
       "13721 11037  9373  8015  6882  6544  6083  5056  4397  3834  3395  2975  2964 \n",
       "   13    14    15    16    17    18    19    20    22    21    24    23    25 \n",
       " 2693  2277  1963  1675  1392  1339  1086   964   940   891   844   840   722 \n",
       "   26    27    28    29    30    32    33    31    34    35    36    37    38 \n",
       "  603   554   467   393   359   284   283   273   219   190   131   119    91 \n",
       "   39    40    42    41    43    44    45    46    47    48    51    53    49 \n",
       "   88    76    54    53    41    28    24    17    12    10     7     7     6 \n",
       "   52    54    50    56    57    61    62    55    60 \n",
       "    6     3     2     2     2     2     2     1     1 "
      ]
     },
     "metadata": {},
     "output_type": "display_data"
    }
   ],
   "source": [
    "sort(table(relevantLoanData$EmploymentStatusDurationYear), decreasing = TRUE)"
   ]
  },
  {
   "cell_type": "markdown",
   "metadata": {},
   "source": [
    "Loan amount distribution?"
   ]
  },
  {
   "cell_type": "code",
   "execution_count": 25,
   "metadata": {
    "collapsed": false,
    "scrolled": true
   },
   "outputs": [
    {
     "data": {},
     "metadata": {},
     "output_type": "display_data"
    },
    {
     "data": {
      "image/png": "[encoded data removed]",
      "text/plain": [
       "plot without title"
      ]
     },
     "metadata": {},
     "output_type": "display_data"
    }
   ],
   "source": [
    "qplot(data = relevantLoanData, x = LoanOriginalAmount, binwidth=1000)"
   ]
  },
  {
   "cell_type": "code",
   "execution_count": 26,
   "metadata": {
    "collapsed": false,
    "scrolled": true
   },
   "outputs": [
    {
     "name": "stderr",
     "output_type": "stream",
     "text": [
      "`stat_bin()` using `bins = 30`. Pick better value with `binwidth`.\n"
     ]
    },
    {
     "data": {},
     "metadata": {},
     "output_type": "display_data"
    },
    {
     "data": {
      "image/png": "[encoded data removed]",
      "text/plain": [
       "plot without title"
      ]
     },
     "metadata": {},
     "output_type": "display_data"
    }
   ],
   "source": [
    "ggplot(relevantLoanData, aes(x = LoanOriginalAmount)) + \n",
    "  geom_histogram() +\n",
    "  scale_x_log10()"
   ]
  },
  {
   "cell_type": "code",
   "execution_count": 27,
   "metadata": {
    "collapsed": false,
    "scrolled": true
   },
   "outputs": [
    {
     "data": {},
     "metadata": {},
     "output_type": "display_data"
    },
    {
     "data": {
      "image/png": "[encoded data removed]",
      "text/plain": [
       "plot without title"
      ]
     },
     "metadata": {},
     "output_type": "display_data"
    }
   ],
   "source": [
    "ggplot(relevantLoanData, aes(x = LoanOriginalAmount)) + \n",
    "  geom_histogram(binwidth = 500) +\n",
    "  coord_cartesian(xlim = c(1000, 15000))"
   ]
  },
  {
   "cell_type": "markdown",
   "metadata": {},
   "source": [
    "Looking at the graph does not give much intuition except that there are some amount in which loans have been disbused more. "
   ]
  },
  {
   "cell_type": "code",
   "execution_count": 28,
   "metadata": {
    "collapsed": false,
    "scrolled": true
   },
   "outputs": [
    {
     "data": {
      "text/plain": [
       "\n",
       " 4000 15000 10000  5000  2000  3000 25000 20000  1000  2500 \n",
       "14333 12407 11106  6990  6067  5749  3630  3291  3206  2992 "
      ]
     },
     "metadata": {},
     "output_type": "display_data"
    }
   ],
   "source": [
    "head(sort(table(relevantLoanData$LoanOriginalAmount), decreasing = TRUE), n = 10)"
   ]
  },
  {
   "cell_type": "markdown",
   "metadata": {},
   "source": [
    "Looking at the exact numbers shows the most popular choices in which loan has been disbursed."
   ]
  }
 ],
 "metadata": {
  "kernelspec": {
   "display_name": "R",
   "language": "R",
   "name": "ir"
  },
  "language_info": {
   "codemirror_mode": "r",
   "file_extension": ".r",
   "mimetype": "text/x-r-source",
   "name": "R",
   "pygments_lexer": "r",
   "version": "3.3.1"
  }
 },
 "nbformat": 4,
 "nbformat_minor": 0
}